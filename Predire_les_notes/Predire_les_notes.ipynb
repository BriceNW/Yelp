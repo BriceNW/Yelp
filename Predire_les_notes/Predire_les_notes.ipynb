{
 "cells": [
  {
   "cell_type": "markdown",
   "metadata": {},
   "source": [
    "## Machine Learning avec SPARK"
   ]
  },
  {
   "cell_type": "markdown",
   "metadata": {},
   "source": [
    "Prédire la note attribuée à un restaurant par un client"
   ]
  },
  {
   "cell_type": "markdown",
   "metadata": {},
   "source": [
    "- Importation des librairies utiles"
   ]
  },
  {
   "cell_type": "code",
   "execution_count": 3,
   "metadata": {},
   "outputs": [
    {
     "data": {
      "text/html": [
       "<style scoped>\n",
       "  .ansiout {\n",
       "    display: block;\n",
       "    unicode-bidi: embed;\n",
       "    white-space: pre-wrap;\n",
       "    word-wrap: break-word;\n",
       "    word-break: break-all;\n",
       "    font-family: \"Source Code Pro\", \"Menlo\", monospace;;\n",
       "    font-size: 13px;\n",
       "    color: #555;\n",
       "    margin-left: 4px;\n",
       "    line-height: 19px;\n",
       "  }\n",
       "</style>\n",
       "<div class=\"ansiout\"></div>"
      ]
     },
     "metadata": {},
     "output_type": "display_data"
    }
   ],
   "source": [
    "from pyspark.sql import functions as F\n",
    "from pyspark.sql.types import *\n",
    "from pyspark.sql.functions import udf"
   ]
  },
  {
   "cell_type": "markdown",
   "metadata": {
    "colab_type": "text",
    "id": "OcjG7SjOsML2"
   },
   "source": [
    "#### Importation des données depuis le compte de stokage"
   ]
  },
  {
   "cell_type": "code",
   "execution_count": 5,
   "metadata": {
    "colab": {},
    "colab_type": "code",
    "id": "-zb-1PBDsML-",
    "outputId": "f358ba3c-fd5a-459d-8fa2-092b4e65b869"
   },
   "outputs": [
    {
     "data": {
      "text/html": [
       "<style scoped>\n",
       "  .ansiout {\n",
       "    display: block;\n",
       "    unicode-bidi: embed;\n",
       "    white-space: pre-wrap;\n",
       "    word-wrap: break-word;\n",
       "    word-break: break-all;\n",
       "    font-family: \"Source Code Pro\", \"Menlo\", monospace;;\n",
       "    font-size: 13px;\n",
       "    color: #555;\n",
       "    margin-left: 4px;\n",
       "    line-height: 19px;\n",
       "  }\n",
       "</style>\n",
       "<div class=\"ansiout\"></div>"
      ]
     },
     "metadata": {},
     "output_type": "display_data"
    }
   ],
   "source": [
    "#spark.conf.set(\n",
    "# storage account\n",
    "# password\n",
    "#               )"
   ]
  },
  {
   "cell_type": "code",
   "execution_count": 6,
   "metadata": {
    "colab": {},
    "colab_type": "code",
    "id": "htHVPnMXsMMT",
    "outputId": "daf951e5-fcaa-4c78-b3d0-d2ec9af3bb8a"
   },
   "outputs": [
    {
     "data": {
      "text/html": [
       "<style scoped>\n",
       "  .ansiout {\n",
       "    display: block;\n",
       "    unicode-bidi: embed;\n",
       "    white-space: pre-wrap;\n",
       "    word-wrap: break-word;\n",
       "    word-break: break-all;\n",
       "    font-family: \"Source Code Pro\", \"Menlo\", monospace;;\n",
       "    font-size: 13px;\n",
       "    color: #555;\n",
       "    margin-left: 4px;\n",
       "    line-height: 19px;\n",
       "  }\n",
       "</style>\n",
       "<div class=\"ansiout\"></div>"
      ]
     },
     "metadata": {},
     "output_type": "display_data"
    }
   ],
   "source": [
    "datasets = {\n",
    "  dataset: spark.read.load( \n",
    "    \"wasbs://default@storagestudent.blob.core.windows.net/datasets/S8-5/Exo/restaurant-data-with-consumer-ratings/{0}.csv\".format(dataset), \n",
    "    format=\"csv\",\n",
    "    header=\"true\"\n",
    "                           )\n",
    "  for dataset in [\"geoplaces2\", \"rating_final\", \"userprofile\"]\n",
    "            } "
   ]
  },
  {
   "cell_type": "code",
   "execution_count": 7,
   "metadata": {
    "colab": {},
    "colab_type": "code",
    "id": "y8NgP0AKsMMi",
    "outputId": "583eea7d-7b09-4c49-9d6f-ea8c26f4fa1d"
   },
   "outputs": [
    {
     "data": {
      "text/html": [
       "<style scoped>\n",
       "  .ansiout {\n",
       "    display: block;\n",
       "    unicode-bidi: embed;\n",
       "    white-space: pre-wrap;\n",
       "    word-wrap: break-word;\n",
       "    word-break: break-all;\n",
       "    font-family: \"Source Code Pro\", \"Menlo\", monospace;;\n",
       "    font-size: 13px;\n",
       "    color: #555;\n",
       "    margin-left: 4px;\n",
       "    line-height: 19px;\n",
       "  }\n",
       "</style>\n",
       "<div class=\"ansiout\"></div>"
      ]
     },
     "metadata": {},
     "output_type": "display_data"
    }
   ],
   "source": [
    "rating = datasets['rating_final']\n",
    "user = datasets['userprofile']\n",
    "place = datasets['geoplaces2']"
   ]
  },
  {
   "cell_type": "markdown",
   "metadata": {
    "colab_type": "text",
    "id": "CpgQDlsWsMNI"
   },
   "source": [
    "#### Nettoyage des données (Recodage du label, typage et jointures)"
   ]
  },
  {
   "cell_type": "markdown",
   "metadata": {},
   "source": [
    "- Dataset \"rating\"\n",
    "    - Recodage du label dans le dataset rating : transformer la variable rating pour qu'elle vale 1 lorsque rating vaut 2 et 0 le reste du temps\n",
    "    - Vérification des types de données dans chaque colonne"
   ]
  },
  {
   "cell_type": "code",
   "execution_count": 10,
   "metadata": {
    "colab": {},
    "colab_type": "code",
    "id": "ihLenlxIsMNM",
    "outputId": "11a635c8-8f26-458d-c082-5fa45881be1c"
   },
   "outputs": [
    {
     "data": {
      "text/html": [
       "<style scoped>\n",
       "  .table-result-container {\n",
       "    max-height: 300px;\n",
       "    overflow: auto;\n",
       "  }\n",
       "  table, th, td {\n",
       "    border: 1px solid black;\n",
       "    border-collapse: collapse;\n",
       "  }\n",
       "  th, td {\n",
       "    padding: 5px;\n",
       "  }\n",
       "  th {\n",
       "    text-align: left;\n",
       "  }\n",
       "</style><div class='table-result-container'><table class='table-result'><thead style='background-color: white'><tr><th>userID</th><th>placeID</th><th>rating</th><th>food_rating</th><th>service_rating</th></tr></thead><tbody><tr><td>U1077</td><td>135085</td><td>2</td><td>2</td><td>2</td></tr><tr><td>U1077</td><td>135038</td><td>2</td><td>2</td><td>1</td></tr><tr><td>U1077</td><td>132825</td><td>2</td><td>2</td><td>2</td></tr><tr><td>U1077</td><td>135060</td><td>1</td><td>2</td><td>2</td></tr><tr><td>U1068</td><td>135104</td><td>1</td><td>1</td><td>2</td></tr></tbody></table></div>"
      ]
     },
     "metadata": {},
     "output_type": "display_data"
    }
   ],
   "source": [
    "display(rating.head(5))"
   ]
  },
  {
   "cell_type": "code",
   "execution_count": 11,
   "metadata": {},
   "outputs": [
    {
     "data": {
      "text/html": [
       "<style scoped>\n",
       "  .ansiout {\n",
       "    display: block;\n",
       "    unicode-bidi: embed;\n",
       "    white-space: pre-wrap;\n",
       "    word-wrap: break-word;\n",
       "    word-break: break-all;\n",
       "    font-family: \"Source Code Pro\", \"Menlo\", monospace;;\n",
       "    font-size: 13px;\n",
       "    color: #555;\n",
       "    margin-left: 4px;\n",
       "    line-height: 19px;\n",
       "  }\n",
       "</style>\n",
       "<div class=\"ansiout\"></div>"
      ]
     },
     "metadata": {},
     "output_type": "display_data"
    }
   ],
   "source": [
    "# Fonction pour recoder le label\n",
    "\n",
    "def change(a):\n",
    "  if a == '2':\n",
    "    b = '1'\n",
    "  else:\n",
    "    b = '0'\n",
    "  return b\n",
    "\n",
    "udf_change = udf(change)"
   ]
  },
  {
   "cell_type": "code",
   "execution_count": 12,
   "metadata": {},
   "outputs": [
    {
     "data": {
      "text/html": [
       "<style scoped>\n",
       "  .table-result-container {\n",
       "    max-height: 300px;\n",
       "    overflow: auto;\n",
       "  }\n",
       "  table, th, td {\n",
       "    border: 1px solid black;\n",
       "    border-collapse: collapse;\n",
       "  }\n",
       "  th, td {\n",
       "    padding: 5px;\n",
       "  }\n",
       "  th {\n",
       "    text-align: left;\n",
       "  }\n",
       "</style><div class='table-result-container'><table class='table-result'><thead style='background-color: white'><tr><th>userID</th><th>placeID</th><th>rating</th><th>food_rating</th><th>service_rating</th><th>rating_label</th></tr></thead><tbody><tr><td>U1077</td><td>135085</td><td>2</td><td>2</td><td>2</td><td>1</td></tr><tr><td>U1077</td><td>135038</td><td>2</td><td>2</td><td>1</td><td>1</td></tr><tr><td>U1077</td><td>132825</td><td>2</td><td>2</td><td>2</td><td>1</td></tr><tr><td>U1077</td><td>135060</td><td>1</td><td>2</td><td>2</td><td>0</td></tr><tr><td>U1068</td><td>135104</td><td>1</td><td>1</td><td>2</td><td>0</td></tr></tbody></table></div>"
      ]
     },
     "metadata": {},
     "output_type": "display_data"
    }
   ],
   "source": [
    "rating = rating.withColumn(\"rating_label\", udf_change('rating'))\n",
    "display(rating.head(5))"
   ]
  },
  {
   "cell_type": "code",
   "execution_count": 13,
   "metadata": {},
   "outputs": [
    {
     "data": {
      "text/html": [
       "<style scoped>\n",
       "  .ansiout {\n",
       "    display: block;\n",
       "    unicode-bidi: embed;\n",
       "    white-space: pre-wrap;\n",
       "    word-wrap: break-word;\n",
       "    word-break: break-all;\n",
       "    font-family: \"Source Code Pro\", \"Menlo\", monospace;;\n",
       "    font-size: 13px;\n",
       "    color: #555;\n",
       "    margin-left: 4px;\n",
       "    line-height: 19px;\n",
       "  }\n",
       "</style>\n",
       "<div class=\"ansiout\"><span class=\"ansired\">Out[</span><span class=\"ansired\">9</span><span class=\"ansired\">]: </span>[(&apos;userID&apos;, &apos;string&apos;),\n",
       " (&apos;placeID&apos;, &apos;string&apos;),\n",
       " (&apos;rating&apos;, &apos;string&apos;),\n",
       " (&apos;food_rating&apos;, &apos;string&apos;),\n",
       " (&apos;service_rating&apos;, &apos;string&apos;),\n",
       " (&apos;rating_label&apos;, &apos;string&apos;)]</div>"
      ]
     },
     "metadata": {},
     "output_type": "display_data"
    }
   ],
   "source": [
    "rating.dtypes"
   ]
  },
  {
   "cell_type": "code",
   "execution_count": 14,
   "metadata": {},
   "outputs": [
    {
     "data": {
      "text/html": [
       "<style scoped>\n",
       "  .ansiout {\n",
       "    display: block;\n",
       "    unicode-bidi: embed;\n",
       "    white-space: pre-wrap;\n",
       "    word-wrap: break-word;\n",
       "    word-break: break-all;\n",
       "    font-family: \"Source Code Pro\", \"Menlo\", monospace;;\n",
       "    font-size: 13px;\n",
       "    color: #555;\n",
       "    margin-left: 4px;\n",
       "    line-height: 19px;\n",
       "  }\n",
       "</style>\n",
       "<div class=\"ansiout\"></div>"
      ]
     },
     "metadata": {},
     "output_type": "display_data"
    }
   ],
   "source": [
    "rating = rating.select(\n",
    "  F.col('userID'),\n",
    "  F.col('placeID').cast(IntegerType()),\n",
    "  F.col('rating').cast(IntegerType()),\n",
    "  F.col('food_rating').cast(IntegerType()),\n",
    "  F.col('service_rating').cast(IntegerType()),\n",
    "  F.col('rating_label').cast(IntegerType())\n",
    "                       )"
   ]
  },
  {
   "cell_type": "code",
   "execution_count": 15,
   "metadata": {},
   "outputs": [
    {
     "data": {
      "text/html": [
       "<style scoped>\n",
       "  .ansiout {\n",
       "    display: block;\n",
       "    unicode-bidi: embed;\n",
       "    white-space: pre-wrap;\n",
       "    word-wrap: break-word;\n",
       "    word-break: break-all;\n",
       "    font-family: \"Source Code Pro\", \"Menlo\", monospace;;\n",
       "    font-size: 13px;\n",
       "    color: #555;\n",
       "    margin-left: 4px;\n",
       "    line-height: 19px;\n",
       "  }\n",
       "</style>\n",
       "<div class=\"ansiout\"><span class=\"ansired\">Out[</span><span class=\"ansired\">11</span><span class=\"ansired\">]: </span>[(&apos;userID&apos;, &apos;string&apos;),\n",
       " (&apos;placeID&apos;, &apos;int&apos;),\n",
       " (&apos;rating&apos;, &apos;int&apos;),\n",
       " (&apos;food_rating&apos;, &apos;int&apos;),\n",
       " (&apos;service_rating&apos;, &apos;int&apos;),\n",
       " (&apos;rating_label&apos;, &apos;int&apos;)]</div>"
      ]
     },
     "metadata": {},
     "output_type": "display_data"
    }
   ],
   "source": [
    "rating.dtypes"
   ]
  },
  {
   "cell_type": "markdown",
   "metadata": {
    "colab_type": "text",
    "id": "VuW4sU82wxW0"
   },
   "source": [
    "- Dataset \"user\"\n",
    "    - Vérification des types de données dans chaque colonne"
   ]
  },
  {
   "cell_type": "code",
   "execution_count": 17,
   "metadata": {},
   "outputs": [
    {
     "data": {
      "text/html": [
       "<style scoped>\n",
       "  .table-result-container {\n",
       "    max-height: 300px;\n",
       "    overflow: auto;\n",
       "  }\n",
       "  table, th, td {\n",
       "    border: 1px solid black;\n",
       "    border-collapse: collapse;\n",
       "  }\n",
       "  th, td {\n",
       "    padding: 5px;\n",
       "  }\n",
       "  th {\n",
       "    text-align: left;\n",
       "  }\n",
       "</style><div class='table-result-container'><table class='table-result'><thead style='background-color: white'><tr><th>userID</th><th>latitude</th><th>longitude</th><th>smoker</th><th>drink_level</th><th>dress_preference</th><th>ambience</th><th>transport</th><th>marital_status</th><th>hijos</th><th>birth_year</th><th>interest</th><th>personality</th><th>religion</th><th>activity</th><th>color</th><th>weight</th><th>budget</th><th>height</th></tr></thead><tbody><tr><td>U1001</td><td>22.139997</td><td>-100.978803</td><td>false</td><td>abstemious</td><td>informal</td><td>family</td><td>on foot</td><td>single</td><td>independent</td><td>1989</td><td>variety</td><td>thrifty-protector</td><td>none</td><td>student</td><td>black</td><td>69</td><td>medium</td><td>1.77</td></tr><tr><td>U1002</td><td>22.150087</td><td>-100.983325</td><td>false</td><td>abstemious</td><td>informal</td><td>family</td><td>public</td><td>single</td><td>independent</td><td>1990</td><td>technology</td><td>hunter-ostentatious</td><td>Catholic</td><td>student</td><td>red</td><td>40</td><td>low</td><td>1.87</td></tr><tr><td>U1003</td><td>22.119847</td><td>-100.946527</td><td>false</td><td>social drinker</td><td>formal</td><td>family</td><td>public</td><td>single</td><td>independent</td><td>1989</td><td>none</td><td>hard-worker</td><td>Catholic</td><td>student</td><td>blue</td><td>60</td><td>low</td><td>1.69</td></tr><tr><td>U1004</td><td>18.867</td><td>-99.183</td><td>false</td><td>abstemious</td><td>informal</td><td>family</td><td>public</td><td>single</td><td>independent</td><td>1940</td><td>variety</td><td>hard-worker</td><td>none</td><td>professional</td><td>green</td><td>44</td><td>medium</td><td>1.53</td></tr><tr><td>U1005</td><td>22.183477</td><td>-100.959891</td><td>false</td><td>abstemious</td><td>no preference</td><td>family</td><td>public</td><td>single</td><td>independent</td><td>1992</td><td>none</td><td>thrifty-protector</td><td>Catholic</td><td>student</td><td>black</td><td>65</td><td>medium</td><td>1.69</td></tr></tbody></table></div>"
      ]
     },
     "metadata": {},
     "output_type": "display_data"
    }
   ],
   "source": [
    "display(user.head(5))"
   ]
  },
  {
   "cell_type": "code",
   "execution_count": 18,
   "metadata": {},
   "outputs": [
    {
     "data": {
      "text/html": [
       "<style scoped>\n",
       "  .ansiout {\n",
       "    display: block;\n",
       "    unicode-bidi: embed;\n",
       "    white-space: pre-wrap;\n",
       "    word-wrap: break-word;\n",
       "    word-break: break-all;\n",
       "    font-family: \"Source Code Pro\", \"Menlo\", monospace;;\n",
       "    font-size: 13px;\n",
       "    color: #555;\n",
       "    margin-left: 4px;\n",
       "    line-height: 19px;\n",
       "  }\n",
       "</style>\n",
       "<div class=\"ansiout\"><span class=\"ansired\">Out[</span><span class=\"ansired\">13</span><span class=\"ansired\">]: </span>[(&apos;userID&apos;, &apos;string&apos;),\n",
       " (&apos;latitude&apos;, &apos;string&apos;),\n",
       " (&apos;longitude&apos;, &apos;string&apos;),\n",
       " (&apos;smoker&apos;, &apos;string&apos;),\n",
       " (&apos;drink_level&apos;, &apos;string&apos;),\n",
       " (&apos;dress_preference&apos;, &apos;string&apos;),\n",
       " (&apos;ambience&apos;, &apos;string&apos;),\n",
       " (&apos;transport&apos;, &apos;string&apos;),\n",
       " (&apos;marital_status&apos;, &apos;string&apos;),\n",
       " (&apos;hijos&apos;, &apos;string&apos;),\n",
       " (&apos;birth_year&apos;, &apos;string&apos;),\n",
       " (&apos;interest&apos;, &apos;string&apos;),\n",
       " (&apos;personality&apos;, &apos;string&apos;),\n",
       " (&apos;religion&apos;, &apos;string&apos;),\n",
       " (&apos;activity&apos;, &apos;string&apos;),\n",
       " (&apos;color&apos;, &apos;string&apos;),\n",
       " (&apos;weight&apos;, &apos;string&apos;),\n",
       " (&apos;budget&apos;, &apos;string&apos;),\n",
       " (&apos;height&apos;, &apos;string&apos;)]</div>"
      ]
     },
     "metadata": {},
     "output_type": "display_data"
    }
   ],
   "source": [
    "user.dtypes"
   ]
  },
  {
   "cell_type": "code",
   "execution_count": 19,
   "metadata": {},
   "outputs": [
    {
     "data": {
      "text/html": [
       "<style scoped>\n",
       "  .ansiout {\n",
       "    display: block;\n",
       "    unicode-bidi: embed;\n",
       "    white-space: pre-wrap;\n",
       "    word-wrap: break-word;\n",
       "    word-break: break-all;\n",
       "    font-family: \"Source Code Pro\", \"Menlo\", monospace;;\n",
       "    font-size: 13px;\n",
       "    color: #555;\n",
       "    margin-left: 4px;\n",
       "    line-height: 19px;\n",
       "  }\n",
       "</style>\n",
       "<div class=\"ansiout\"></div>"
      ]
     },
     "metadata": {},
     "output_type": "display_data"
    }
   ],
   "source": [
    "col_int = ['birth_year', 'weight']\n",
    "col_float = ['latitude', 'longitude', 'height']\n",
    "\n",
    "for col in col_int:\n",
    "    user = user.withColumn(col, user[col].cast(IntegerType()))\n",
    "\n",
    "for col in col_float:\n",
    "    user = user.withColumn(col, user[col].cast(DoubleType()))"
   ]
  },
  {
   "cell_type": "markdown",
   "metadata": {
    "colab_type": "text",
    "id": "8LC0RmvWw5xO"
   },
   "source": [
    "- Dataset \"place\"\n",
    "    - Vérification des types de données dans chaque colonne"
   ]
  },
  {
   "cell_type": "code",
   "execution_count": 21,
   "metadata": {
    "colab": {},
    "colab_type": "code",
    "id": "QD8E6DTfsMNu",
    "outputId": "33fa9043-5c1e-4f35-a48c-3e740bcb0270"
   },
   "outputs": [
    {
     "data": {
      "text/html": [
       "<style scoped>\n",
       "  .table-result-container {\n",
       "    max-height: 300px;\n",
       "    overflow: auto;\n",
       "  }\n",
       "  table, th, td {\n",
       "    border: 1px solid black;\n",
       "    border-collapse: collapse;\n",
       "  }\n",
       "  th, td {\n",
       "    padding: 5px;\n",
       "  }\n",
       "  th {\n",
       "    text-align: left;\n",
       "  }\n",
       "</style><div class='table-result-container'><table class='table-result'><thead style='background-color: white'><tr><th>placeID</th><th>latitude</th><th>longitude</th><th>the_geom_meter</th><th>name</th><th>address</th><th>city</th><th>state</th><th>country</th><th>fax</th><th>zip</th><th>alcohol</th><th>smoking_area</th><th>dress_code</th><th>accessibility</th><th>price</th><th>url</th><th>Rambience</th><th>franchise</th><th>area</th><th>other_services</th></tr></thead><tbody><tr><td>134999</td><td>18.915421</td><td>-99.184871</td><td>0101000020957F000088568DE356715AC138C0A525FC464A41</td><td>Kiku Cuernavaca</td><td>Revolucion</td><td>Cuernavaca</td><td>Morelos</td><td>Mexico</td><td>?</td><td>?</td><td>No_Alcohol_Served</td><td>none</td><td>informal</td><td>no_accessibility</td><td>medium</td><td>kikucuernavaca.com.mx</td><td>familiar</td><td>f</td><td>closed</td><td>none</td></tr><tr><td>132825</td><td>22.1473922</td><td>-100.983092</td><td>0101000020957F00001AD016568C4858C1243261274BA54B41</td><td>puesto de tacos</td><td>esquina santos degollado y leon guzman</td><td>s.l.p.</td><td>s.l.p.</td><td>mexico</td><td>?</td><td>78280</td><td>No_Alcohol_Served</td><td>none</td><td>informal</td><td>completely</td><td>low</td><td>?</td><td>familiar</td><td>f</td><td>open</td><td>none</td></tr><tr><td>135106</td><td>22.1497088</td><td>-100.9760928</td><td>0101000020957F0000649D6F21634858C119AE9BF528A34B41</td><td>El Rinc�n de San Francisco</td><td>Universidad 169</td><td>San Luis Potosi</td><td>San Luis Potosi</td><td>Mexico</td><td>?</td><td>78000</td><td>Wine-Beer</td><td>only at bar</td><td>informal</td><td>partially</td><td>medium</td><td>?</td><td>familiar</td><td>f</td><td>open</td><td>none</td></tr><tr><td>132667</td><td>23.7526973</td><td>-99.1633594</td><td>0101000020957F00005D67BCDDED8157C1222A2DC8D84D4941</td><td>little pizza Emilio Portes Gil</td><td>calle emilio portes gil</td><td>victoria </td><td>tamaulipas</td><td>?</td><td>?</td><td>?</td><td>No_Alcohol_Served</td><td>none</td><td>informal</td><td>completely</td><td>low</td><td>?</td><td>familiar</td><td>t</td><td>closed</td><td>none</td></tr><tr><td>132613</td><td>23.7529035</td><td>-99.165076</td><td>0101000020957F00008EBA2D06DC8157C194E03B7B504E4941</td><td>carnitas_mata</td><td>lic. Emilio portes gil</td><td>victoria</td><td>Tamaulipas</td><td>Mexico</td><td>?</td><td>?</td><td>No_Alcohol_Served</td><td>permitted</td><td>informal</td><td>completely</td><td>medium</td><td>?</td><td>familiar</td><td>t</td><td>closed</td><td>none</td></tr></tbody></table></div>"
      ]
     },
     "metadata": {},
     "output_type": "display_data"
    }
   ],
   "source": [
    "display(place.head(5))"
   ]
  },
  {
   "cell_type": "code",
   "execution_count": 22,
   "metadata": {},
   "outputs": [
    {
     "data": {
      "text/html": [
       "<style scoped>\n",
       "  .ansiout {\n",
       "    display: block;\n",
       "    unicode-bidi: embed;\n",
       "    white-space: pre-wrap;\n",
       "    word-wrap: break-word;\n",
       "    word-break: break-all;\n",
       "    font-family: \"Source Code Pro\", \"Menlo\", monospace;;\n",
       "    font-size: 13px;\n",
       "    color: #555;\n",
       "    margin-left: 4px;\n",
       "    line-height: 19px;\n",
       "  }\n",
       "</style>\n",
       "<div class=\"ansiout\"><span class=\"ansired\">Out[</span><span class=\"ansired\">17</span><span class=\"ansired\">]: </span>[(&apos;placeID&apos;, &apos;string&apos;),\n",
       " (&apos;latitude&apos;, &apos;string&apos;),\n",
       " (&apos;longitude&apos;, &apos;string&apos;),\n",
       " (&apos;the_geom_meter&apos;, &apos;string&apos;),\n",
       " (&apos;name&apos;, &apos;string&apos;),\n",
       " (&apos;address&apos;, &apos;string&apos;),\n",
       " (&apos;city&apos;, &apos;string&apos;),\n",
       " (&apos;state&apos;, &apos;string&apos;),\n",
       " (&apos;country&apos;, &apos;string&apos;),\n",
       " (&apos;fax&apos;, &apos;string&apos;),\n",
       " (&apos;zip&apos;, &apos;string&apos;),\n",
       " (&apos;alcohol&apos;, &apos;string&apos;),\n",
       " (&apos;smoking_area&apos;, &apos;string&apos;),\n",
       " (&apos;dress_code&apos;, &apos;string&apos;),\n",
       " (&apos;accessibility&apos;, &apos;string&apos;),\n",
       " (&apos;price&apos;, &apos;string&apos;),\n",
       " (&apos;url&apos;, &apos;string&apos;),\n",
       " (&apos;Rambience&apos;, &apos;string&apos;),\n",
       " (&apos;franchise&apos;, &apos;string&apos;),\n",
       " (&apos;area&apos;, &apos;string&apos;),\n",
       " (&apos;other_services&apos;, &apos;string&apos;)]</div>"
      ]
     },
     "metadata": {},
     "output_type": "display_data"
    }
   ],
   "source": [
    "place.dtypes"
   ]
  },
  {
   "cell_type": "code",
   "execution_count": 23,
   "metadata": {},
   "outputs": [
    {
     "data": {
      "text/html": [
       "<style scoped>\n",
       "  .ansiout {\n",
       "    display: block;\n",
       "    unicode-bidi: embed;\n",
       "    white-space: pre-wrap;\n",
       "    word-wrap: break-word;\n",
       "    word-break: break-all;\n",
       "    font-family: \"Source Code Pro\", \"Menlo\", monospace;;\n",
       "    font-size: 13px;\n",
       "    color: #555;\n",
       "    margin-left: 4px;\n",
       "    line-height: 19px;\n",
       "  }\n",
       "</style>\n",
       "<div class=\"ansiout\"></div>"
      ]
     },
     "metadata": {},
     "output_type": "display_data"
    }
   ],
   "source": [
    "col_int = ['PlaceID', 'Zip']\n",
    "col_float = ['latitude', 'longitude']\n",
    "\n",
    "for col in col_int:\n",
    "    place = place.withColumn(col, place[col].cast(IntegerType()))\n",
    "\n",
    "for col in col_float:\n",
    "    place = place.withColumn(col, place[col].cast(DoubleType()))"
   ]
  },
  {
   "cell_type": "markdown",
   "metadata": {
    "colab_type": "text",
    "id": "whKVXoyew_Lf"
   },
   "source": [
    "- joindre les datasets user et rating"
   ]
  },
  {
   "cell_type": "code",
   "execution_count": 25,
   "metadata": {},
   "outputs": [
    {
     "data": {
      "text/html": [
       "<style scoped>\n",
       "  .ansiout {\n",
       "    display: block;\n",
       "    unicode-bidi: embed;\n",
       "    white-space: pre-wrap;\n",
       "    word-wrap: break-word;\n",
       "    word-break: break-all;\n",
       "    font-family: \"Source Code Pro\", \"Menlo\", monospace;;\n",
       "    font-size: 13px;\n",
       "    color: #555;\n",
       "    margin-left: 4px;\n",
       "    line-height: 19px;\n",
       "  }\n",
       "</style>\n",
       "<div class=\"ansiout\"></div>"
      ]
     },
     "metadata": {},
     "output_type": "display_data"
    }
   ],
   "source": [
    "user_columns_to_drop = ['latitude', 'longitude']\n",
    "place_columns_to_drop = ['latitude', 'longitude', 'the_geom_meter']\n",
    "\n",
    "user = user.drop(*user_columns_to_drop)\n",
    "place = place.drop(*place_columns_to_drop)"
   ]
  },
  {
   "cell_type": "code",
   "execution_count": 26,
   "metadata": {
    "colab": {},
    "colab_type": "code",
    "id": "3Lpx-JLxsMN1",
    "outputId": "99dd8e7b-96f0-486f-91b7-275b2dcaa65a"
   },
   "outputs": [
    {
     "data": {
      "text/html": [
       "<style scoped>\n",
       "  .ansiout {\n",
       "    display: block;\n",
       "    unicode-bidi: embed;\n",
       "    white-space: pre-wrap;\n",
       "    word-wrap: break-word;\n",
       "    word-break: break-all;\n",
       "    font-family: \"Source Code Pro\", \"Menlo\", monospace;;\n",
       "    font-size: 13px;\n",
       "    color: #555;\n",
       "    margin-left: 4px;\n",
       "    line-height: 19px;\n",
       "  }\n",
       "</style>\n",
       "<div class=\"ansiout\"><span class=\"ansired\">Out[</span><span class=\"ansired\">20</span><span class=\"ansired\">]: </span>(138, 1161)</div>"
      ]
     },
     "metadata": {},
     "output_type": "display_data"
    }
   ],
   "source": [
    "user.count(), rating.count()"
   ]
  },
  {
   "cell_type": "code",
   "execution_count": 27,
   "metadata": {},
   "outputs": [
    {
     "data": {
      "text/html": [
       "<style scoped>\n",
       "  .table-result-container {\n",
       "    max-height: 300px;\n",
       "    overflow: auto;\n",
       "  }\n",
       "  table, th, td {\n",
       "    border: 1px solid black;\n",
       "    border-collapse: collapse;\n",
       "  }\n",
       "  th, td {\n",
       "    padding: 5px;\n",
       "  }\n",
       "  th {\n",
       "    text-align: left;\n",
       "  }\n",
       "</style><div class='table-result-container'><table class='table-result'><thead style='background-color: white'><tr><th>placeID</th><th>userID</th><th>rating</th><th>food_rating</th><th>service_rating</th><th>rating_label</th><th>smoker</th><th>drink_level</th><th>dress_preference</th><th>ambience</th><th>transport</th><th>marital_status</th><th>hijos</th><th>birth_year</th><th>interest</th><th>personality</th><th>religion</th><th>activity</th><th>color</th><th>weight</th><th>budget</th><th>height</th><th>name</th><th>address</th><th>city</th><th>state</th><th>country</th><th>fax</th><th>Zip</th><th>alcohol</th><th>smoking_area</th><th>dress_code</th><th>accessibility</th><th>price</th><th>url</th><th>Rambience</th><th>franchise</th><th>area</th><th>other_services</th></tr></thead><tbody><tr><td>135085</td><td>U1077</td><td>2</td><td>2</td><td>2</td><td>1</td><td>false</td><td>social drinker</td><td>elegant</td><td>family</td><td>public</td><td>married</td><td>kids</td><td>1987</td><td>technology</td><td>thrifty-protector</td><td>Catholic</td><td>student</td><td>blue</td><td>65</td><td>medium</td><td>1.71</td><td>Tortas Locas Hipocampo</td><td>Venustiano Carranza 719 Centro</td><td>San Luis Potosi</td><td>SLP</td><td>Mexico</td><td>?</td><td>78000</td><td>No_Alcohol_Served</td><td>not permitted</td><td>informal</td><td>no_accessibility</td><td>medium</td><td>?</td><td>familiar</td><td>f</td><td>closed</td><td>none</td></tr><tr><td>135038</td><td>U1077</td><td>2</td><td>2</td><td>1</td><td>1</td><td>false</td><td>social drinker</td><td>elegant</td><td>family</td><td>public</td><td>married</td><td>kids</td><td>1987</td><td>technology</td><td>thrifty-protector</td><td>Catholic</td><td>student</td><td>blue</td><td>65</td><td>medium</td><td>1.71</td><td>Restaurant la Chalita</td><td>Guajardo Sn San Luis Potosi Centro</td><td>San Luis Potosi</td><td>SLP</td><td>Mexico</td><td>?</td><td>78000</td><td>No_Alcohol_Served</td><td>section</td><td>informal</td><td>no_accessibility</td><td>medium</td><td>?</td><td>familiar</td><td>f</td><td>closed</td><td>none</td></tr><tr><td>132825</td><td>U1077</td><td>2</td><td>2</td><td>2</td><td>1</td><td>false</td><td>social drinker</td><td>elegant</td><td>family</td><td>public</td><td>married</td><td>kids</td><td>1987</td><td>technology</td><td>thrifty-protector</td><td>Catholic</td><td>student</td><td>blue</td><td>65</td><td>medium</td><td>1.71</td><td>puesto de tacos</td><td>esquina santos degollado y leon guzman</td><td>s.l.p.</td><td>s.l.p.</td><td>mexico</td><td>?</td><td>78280</td><td>No_Alcohol_Served</td><td>none</td><td>informal</td><td>completely</td><td>low</td><td>?</td><td>familiar</td><td>f</td><td>open</td><td>none</td></tr><tr><td>135060</td><td>U1077</td><td>1</td><td>2</td><td>2</td><td>0</td><td>false</td><td>social drinker</td><td>elegant</td><td>family</td><td>public</td><td>married</td><td>kids</td><td>1987</td><td>technology</td><td>thrifty-protector</td><td>Catholic</td><td>student</td><td>blue</td><td>65</td><td>medium</td><td>1.71</td><td>Restaurante Marisco Sam</td><td>Ignacio Allende 785 Centro</td><td>San Luis Potosi</td><td>SLP</td><td>Mexico</td><td>?</td><td>78310</td><td>No_Alcohol_Served</td><td>none</td><td>informal</td><td>no_accessibility</td><td>medium</td><td>?</td><td>familiar</td><td>f</td><td>closed</td><td>none</td></tr><tr><td>132732</td><td>U1068</td><td>0</td><td>0</td><td>0</td><td>0</td><td>false</td><td>casual drinker</td><td>informal</td><td>friends</td><td>public</td><td>single</td><td>independent</td><td>1988</td><td>technology</td><td>thrifty-protector</td><td>Catholic</td><td>student</td><td>blue</td><td>72</td><td>low</td><td>1.57</td><td>Taqueria EL amigo </td><td>Calle Mezquite Fracc Framboyanes</td><td>Cd Victoria</td><td>Tamaulipas</td><td>Mexico</td><td>?</td><td>87018</td><td>No_Alcohol_Served</td><td>none</td><td>casual</td><td>completely</td><td>low</td><td>?</td><td>familiar</td><td>f</td><td>open</td><td>none</td></tr></tbody></table></div>"
      ]
     },
     "metadata": {},
     "output_type": "display_data"
    }
   ],
   "source": [
    "dataset = rating.join(user, 'userID', 'left').join(place, 'placeID', 'left').dropna()\n",
    "display(dataset.head(5))"
   ]
  },
  {
   "cell_type": "markdown",
   "metadata": {
    "colab_type": "text",
    "id": "WQr9r256sMOC"
   },
   "source": [
    "#### Data Preprocessing"
   ]
  },
  {
   "cell_type": "code",
   "execution_count": 29,
   "metadata": {
    "colab": {},
    "colab_type": "code",
    "id": "t4qJnnr1sMOE",
    "outputId": "1e20a3d8-5b66-4a67-9b4a-a7e9f0a847d7"
   },
   "outputs": [
    {
     "data": {
      "text/html": [
       "<style scoped>\n",
       "  .ansiout {\n",
       "    display: block;\n",
       "    unicode-bidi: embed;\n",
       "    white-space: pre-wrap;\n",
       "    word-wrap: break-word;\n",
       "    word-break: break-all;\n",
       "    font-family: \"Source Code Pro\", \"Menlo\", monospace;;\n",
       "    font-size: 13px;\n",
       "    color: #555;\n",
       "    margin-left: 4px;\n",
       "    line-height: 19px;\n",
       "  }\n",
       "</style>\n",
       "<div class=\"ansiout\"></div>"
      ]
     },
     "metadata": {},
     "output_type": "display_data"
    }
   ],
   "source": [
    "from pyspark.ml.feature import StringIndexer, IndexToString\n",
    "\n",
    "label_indexer = StringIndexer(inputCol=\"rating_label\", outputCol=\"label\")\n",
    "string_columns = [\"drink_level\", \"smoker\", \"dress_preference\", \"transport\", \"marital_status\", \"hijos\", \"interest\", \"personality\", \"religion\", \"activity\", \"color\", \"budget\", \"smoking_area\", \"dress_code\", \"accessibility\", \"price\", \"area\"]\n",
    "string_indexers = [StringIndexer(inputCol=col, outputCol=col+\"Index\") for col in string_columns]\n",
    "\n",
    "from pyspark.ml.feature import OneHotEncoderEstimator\n",
    "\n",
    "one_hot_encoder = OneHotEncoderEstimator(\n",
    "  inputCols=[col+\"Index\" for col in string_columns],\n",
    "  outputCols=[col+\"Vec\" for col in string_columns]\n",
    ")\n",
    "\n",
    "from pyspark.ml.feature import VectorAssembler\n",
    "\n",
    "vector_assembler = VectorAssembler(\n",
    "    inputCols=[col+\"Vec\" for col in string_columns] + [\"birth_year\", \"weight\", \"height\"],\n",
    "    outputCol=\"features\"\n",
    ")\n",
    "\n",
    "from pyspark.ml import Pipeline\n",
    "\n",
    "preprocessing_pipeline = Pipeline(\n",
    "  stages= [label_indexer, *string_indexers, one_hot_encoder, vector_assembler]\n",
    ")"
   ]
  },
  {
   "cell_type": "code",
   "execution_count": 30,
   "metadata": {},
   "outputs": [
    {
     "data": {
      "text/html": [
       "<style scoped>\n",
       "  .ansiout {\n",
       "    display: block;\n",
       "    unicode-bidi: embed;\n",
       "    white-space: pre-wrap;\n",
       "    word-wrap: break-word;\n",
       "    word-break: break-all;\n",
       "    font-family: \"Source Code Pro\", \"Menlo\", monospace;;\n",
       "    font-size: 13px;\n",
       "    color: #555;\n",
       "    margin-left: 4px;\n",
       "    line-height: 19px;\n",
       "  }\n",
       "</style>\n",
       "<div class=\"ansiout\"></div>"
      ]
     },
     "metadata": {},
     "output_type": "display_data"
    }
   ],
   "source": [
    "preprocessing_pipeline_fitted = preprocessing_pipeline.fit(dataset)\n",
    "dataset_preprocessed = preprocessing_pipeline_fitted.transform(dataset)"
   ]
  },
  {
   "cell_type": "code",
   "execution_count": 31,
   "metadata": {},
   "outputs": [
    {
     "data": {
      "text/html": [
       "<style scoped>\n",
       "  .table-result-container {\n",
       "    max-height: 300px;\n",
       "    overflow: auto;\n",
       "  }\n",
       "  table, th, td {\n",
       "    border: 1px solid black;\n",
       "    border-collapse: collapse;\n",
       "  }\n",
       "  th, td {\n",
       "    padding: 5px;\n",
       "  }\n",
       "  th {\n",
       "    text-align: left;\n",
       "  }\n",
       "</style><div class='table-result-container'><table class='table-result'><thead style='background-color: white'><tr><th>label</th><th>features</th></tr></thead><tbody><tr><td>1.0</td><td>List(0, 54, List(2, 8, 12, 15, 19, 22, 24, 28, 32, 39, 44, 45, 46, 48, 50, 51, 52, 53), List(1.0, 1.0, 1.0, 1.0, 1.0, 1.0, 1.0, 1.0, 1.0, 1.0, 1.0, 1.0, 1.0, 1.0, 1.0, 1987.0, 65.0, 1.71))</td></tr><tr><td>1.0</td><td>List(0, 54, List(2, 8, 12, 15, 19, 22, 24, 28, 32, 39, 43, 45, 46, 48, 50, 51, 52, 53), List(1.0, 1.0, 1.0, 1.0, 1.0, 1.0, 1.0, 1.0, 1.0, 1.0, 1.0, 1.0, 1.0, 1.0, 1.0, 1987.0, 65.0, 1.71))</td></tr><tr><td>1.0</td><td>List(0, 54, List(2, 8, 12, 15, 19, 22, 24, 28, 32, 39, 42, 45, 47, 51, 52, 53), List(1.0, 1.0, 1.0, 1.0, 1.0, 1.0, 1.0, 1.0, 1.0, 1.0, 1.0, 1.0, 1.0, 1987.0, 65.0, 1.71))</td></tr><tr><td>0.0</td><td>List(0, 54, List(2, 8, 12, 15, 19, 22, 24, 28, 32, 39, 42, 45, 46, 48, 50, 51, 52, 53), List(1.0, 1.0, 1.0, 1.0, 1.0, 1.0, 1.0, 1.0, 1.0, 1.0, 1.0, 1.0, 1.0, 1.0, 1.0, 1987.0, 65.0, 1.71))</td></tr><tr><td>0.0</td><td>List(0, 54, List(0, 2, 4, 8, 11, 14, 19, 22, 24, 28, 32, 40, 42, 47, 51, 52, 53), List(1.0, 1.0, 1.0, 1.0, 1.0, 1.0, 1.0, 1.0, 1.0, 1.0, 1.0, 1.0, 1.0, 1.0, 1988.0, 72.0, 1.57))</td></tr></tbody></table></div>"
      ]
     },
     "metadata": {},
     "output_type": "display_data"
    }
   ],
   "source": [
    "display(dataset_preprocessed.select(\"label\", \"features\").head(5))"
   ]
  },
  {
   "cell_type": "markdown",
   "metadata": {
    "colab_type": "text",
    "id": "qVCt2z2asMOa"
   },
   "source": [
    "#### Construction des modèles de prédiction"
   ]
  },
  {
   "cell_type": "code",
   "execution_count": 33,
   "metadata": {
    "colab": {},
    "colab_type": "code",
    "id": "425BE_QRsMOb",
    "outputId": "5a590e67-5ef3-4c2a-8e85-9a3f15583f0d"
   },
   "outputs": [
    {
     "data": {
      "text/html": [
       "<style scoped>\n",
       "  .ansiout {\n",
       "    display: block;\n",
       "    unicode-bidi: embed;\n",
       "    white-space: pre-wrap;\n",
       "    word-wrap: break-word;\n",
       "    word-break: break-all;\n",
       "    font-family: \"Source Code Pro\", \"Menlo\", monospace;;\n",
       "    font-size: 13px;\n",
       "    color: #555;\n",
       "    margin-left: 4px;\n",
       "    line-height: 19px;\n",
       "  }\n",
       "</style>\n",
       "<div class=\"ansiout\"></div>"
      ]
     },
     "metadata": {},
     "output_type": "display_data"
    }
   ],
   "source": [
    "train_set, test_set = dataset_preprocessed.randomSplit([0.8, 0.2], seed=100)"
   ]
  },
  {
   "cell_type": "markdown",
   "metadata": {
    "colab_type": "text",
    "id": "6EzOedA9xo2A"
   },
   "source": [
    "- Entraînez un arbre de décision et une forêt d'arbres aléatoire\n",
    "- Evaluez ensuite les performances de chacun de ces modèles\n",
    "- Faire une grid search dans chaque cas afin de déterminer des valeurs optimales pour les hyper paramètres."
   ]
  },
  {
   "cell_type": "markdown",
   "metadata": {},
   "source": [
    "##### Entrainement d'un arbre de décision"
   ]
  },
  {
   "cell_type": "code",
   "execution_count": 36,
   "metadata": {},
   "outputs": [
    {
     "data": {
      "text/html": [
       "<style scoped>\n",
       "  .ansiout {\n",
       "    display: block;\n",
       "    unicode-bidi: embed;\n",
       "    white-space: pre-wrap;\n",
       "    word-wrap: break-word;\n",
       "    word-break: break-all;\n",
       "    font-family: \"Source Code Pro\", \"Menlo\", monospace;;\n",
       "    font-size: 13px;\n",
       "    color: #555;\n",
       "    margin-left: 4px;\n",
       "    line-height: 19px;\n",
       "  }\n",
       "</style>\n",
       "<div class=\"ansiout\"></div>"
      ]
     },
     "metadata": {},
     "output_type": "display_data"
    }
   ],
   "source": [
    "from pyspark.ml.classification import DecisionTreeClassifier\n",
    "dt_model = DecisionTreeClassifier(labelCol=\"label\", featuresCol=\"features\")"
   ]
  },
  {
   "cell_type": "code",
   "execution_count": 37,
   "metadata": {},
   "outputs": [
    {
     "data": {
      "text/html": [
       "<style scoped>\n",
       "  .ansiout {\n",
       "    display: block;\n",
       "    unicode-bidi: embed;\n",
       "    white-space: pre-wrap;\n",
       "    word-wrap: break-word;\n",
       "    word-break: break-all;\n",
       "    font-family: \"Source Code Pro\", \"Menlo\", monospace;;\n",
       "    font-size: 13px;\n",
       "    color: #555;\n",
       "    margin-left: 4px;\n",
       "    line-height: 19px;\n",
       "  }\n",
       "</style>\n",
       "<div class=\"ansiout\"></div>"
      ]
     },
     "metadata": {},
     "output_type": "display_data"
    }
   ],
   "source": [
    "dt_model_fitted = dt_model.fit(train_set)\n",
    "predictions_train = dt_model_fitted.transform(train_set)\n",
    "predictions_test = dt_model_fitted.transform(test_set)"
   ]
  },
  {
   "cell_type": "code",
   "execution_count": 38,
   "metadata": {},
   "outputs": [
    {
     "data": {
      "text/html": [
       "<style scoped>\n",
       "  .table-result-container {\n",
       "    max-height: 300px;\n",
       "    overflow: auto;\n",
       "  }\n",
       "  table, th, td {\n",
       "    border: 1px solid black;\n",
       "    border-collapse: collapse;\n",
       "  }\n",
       "  th, td {\n",
       "    padding: 5px;\n",
       "  }\n",
       "  th {\n",
       "    text-align: left;\n",
       "  }\n",
       "</style><div class='table-result-container'><table class='table-result'><thead style='background-color: white'><tr><th>label</th><th>prediction</th><th>probability</th></tr></thead><tbody><tr><td>0.0</td><td>0.0</td><td>List(1, 2, List(), List(0.5471698113207547, 0.4528301886792453))</td></tr><tr><td>0.0</td><td>0.0</td><td>List(1, 2, List(), List(0.9090909090909091, 0.09090909090909091))</td></tr><tr><td>0.0</td><td>0.0</td><td>List(1, 2, List(), List(0.8425925925925926, 0.1574074074074074))</td></tr><tr><td>0.0</td><td>0.0</td><td>List(1, 2, List(), List(0.7083333333333334, 0.2916666666666667))</td></tr><tr><td>1.0</td><td>1.0</td><td>List(1, 2, List(), List(0.31645569620253167, 0.6835443037974683))</td></tr></tbody></table></div>"
      ]
     },
     "metadata": {},
     "output_type": "display_data"
    }
   ],
   "source": [
    "display(predictions_test.select(\"label\", \"prediction\", \"probability\").head(5))"
   ]
  },
  {
   "cell_type": "markdown",
   "metadata": {},
   "source": [
    "- Evaluation des performances de l'arbre de décision"
   ]
  },
  {
   "cell_type": "code",
   "execution_count": 40,
   "metadata": {},
   "outputs": [
    {
     "data": {
      "text/html": [
       "<style scoped>\n",
       "  .ansiout {\n",
       "    display: block;\n",
       "    unicode-bidi: embed;\n",
       "    white-space: pre-wrap;\n",
       "    word-wrap: break-word;\n",
       "    word-break: break-all;\n",
       "    font-family: \"Source Code Pro\", \"Menlo\", monospace;;\n",
       "    font-size: 13px;\n",
       "    color: #555;\n",
       "    margin-left: 4px;\n",
       "    line-height: 19px;\n",
       "  }\n",
       "</style>\n",
       "<div class=\"ansiout\">AUC train : 0.667042042042042 - AUC test : 0.5888461538461539\n",
       "</div>"
      ]
     },
     "metadata": {},
     "output_type": "display_data"
    }
   ],
   "source": [
    "from pyspark.ml.evaluation import BinaryClassificationEvaluator\n",
    "\n",
    "evaluator_auc = BinaryClassificationEvaluator(rawPredictionCol=\"rawPrediction\", metricName=\"areaUnderROC\")\n",
    "\n",
    "evaluation_train = evaluator_auc.evaluate(predictions_train)\n",
    "evaluation_test = evaluator_auc.evaluate(predictions_test)\n",
    "\n",
    "print(\n",
    "  \"AUC train : {0} - AUC test : {1}\"\n",
    "  .format(\n",
    "    evaluator_auc.evaluate(predictions_train), \n",
    "    evaluator_auc.evaluate(predictions_test)\n",
    "  )\n",
    ")"
   ]
  },
  {
   "cell_type": "code",
   "execution_count": 41,
   "metadata": {},
   "outputs": [
    {
     "data": {
      "text/html": [
       "<style scoped>\n",
       "  .table-result-container {\n",
       "    max-height: 300px;\n",
       "    overflow: auto;\n",
       "  }\n",
       "  table, th, td {\n",
       "    border: 1px solid black;\n",
       "    border-collapse: collapse;\n",
       "  }\n",
       "  th, td {\n",
       "    padding: 5px;\n",
       "  }\n",
       "  th {\n",
       "    text-align: left;\n",
       "  }\n",
       "</style><div class='table-result-container'><table class='table-result'><thead style='background-color: white'><tr><th>prediction</th><th>0</th><th>1</th></tr></thead><tbody><tr><td>0.0</td><td>59</td><td>16</td></tr><tr><td>1.0</td><td>16</td><td>36</td></tr></tbody></table></div>"
      ]
     },
     "metadata": {},
     "output_type": "display_data"
    }
   ],
   "source": [
    "from pyspark.sql.types import *\n",
    "from pyspark.sql import functions as F\n",
    "\n",
    "cf_count = predictions_test.select(F.col(\"prediction\"), F.col(\"label\").cast(IntegerType()))\\\n",
    "                           .groupBy(\"prediction\")\\\n",
    "                           .pivot(\"label\")\\\n",
    "                           .count() \n",
    "\n",
    "display(cf_count)"
   ]
  },
  {
   "cell_type": "markdown",
   "metadata": {},
   "source": [
    "- Résultats du modèle d'arbre de décision:\n",
    "    - Précision : 69%\n",
    "    - Rappel : 69%\n",
    "    - Accuracy : 74%\n",
    "    - F1-Score : 69%"
   ]
  },
  {
   "cell_type": "markdown",
   "metadata": {},
   "source": [
    "- Gridsearch et cross validation pour améliorer le modèle d'arbre de décision"
   ]
  },
  {
   "cell_type": "code",
   "execution_count": 44,
   "metadata": {},
   "outputs": [
    {
     "data": {
      "text/html": [
       "<style scoped>\n",
       "  .ansiout {\n",
       "    display: block;\n",
       "    unicode-bidi: embed;\n",
       "    white-space: pre-wrap;\n",
       "    word-wrap: break-word;\n",
       "    word-break: break-all;\n",
       "    font-family: \"Source Code Pro\", \"Menlo\", monospace;;\n",
       "    font-size: 13px;\n",
       "    color: #555;\n",
       "    margin-left: 4px;\n",
       "    line-height: 19px;\n",
       "  }\n",
       "</style>\n",
       "<div class=\"ansiout\">/databricks/spark/python/pyspark/ml/util.py:791: UserWarning: Can not find mlflow. To enable mlflow logging, install MLflow library from PyPi.\n",
       "  warnings.warn(_MLflowInstrumentation._NO_MLFLOW_WARNING)\n",
       "</div>"
      ]
     },
     "metadata": {},
     "output_type": "display_data"
    }
   ],
   "source": [
    "from pyspark.ml.tuning import ParamGridBuilder, CrossValidator\n",
    "\n",
    "paramGrid = ParamGridBuilder().addGrid(dt_model.maxDepth, [4, 6, 8, 10, 12]).addGrid(dt_model.impurity, [\"entropy\", \"gini\"]).build()\n",
    " \n",
    "cv_dt_model = CrossValidator(estimator=dt_model, estimatorParamMaps=paramGrid, evaluator=evaluator_auc, numFolds=5)\n",
    "cv_dt_model_fitted = cv_dt_model.fit(train_set)"
   ]
  },
  {
   "cell_type": "code",
   "execution_count": 45,
   "metadata": {},
   "outputs": [
    {
     "data": {
      "text/html": [
       "<style scoped>\n",
       "  .ansiout {\n",
       "    display: block;\n",
       "    unicode-bidi: embed;\n",
       "    white-space: pre-wrap;\n",
       "    word-wrap: break-word;\n",
       "    word-break: break-all;\n",
       "    font-family: \"Source Code Pro\", \"Menlo\", monospace;;\n",
       "    font-size: 13px;\n",
       "    color: #555;\n",
       "    margin-left: 4px;\n",
       "    line-height: 19px;\n",
       "  }\n",
       "</style>\n",
       "<div class=\"ansiout\">{&apos;impurity&apos;: &apos;entropy&apos;, &apos;maxDepth&apos;: 10}\n",
       "</div>"
      ]
     },
     "metadata": {},
     "output_type": "display_data"
    }
   ],
   "source": [
    "bestModel = cv_dt_model_fitted .bestModel\n",
    "\n",
    "bestModelParameters = {\n",
    "  key.name: value\n",
    "  for key, value in bestModel.extractParamMap().items()\n",
    "  if key.name in [\"maxDepth\", \"impurity\"]\n",
    "}\n",
    "\n",
    "print(bestModelParameters)"
   ]
  },
  {
   "cell_type": "code",
   "execution_count": 46,
   "metadata": {},
   "outputs": [
    {
     "data": {
      "text/html": [
       "<style scoped>\n",
       "  .ansiout {\n",
       "    display: block;\n",
       "    unicode-bidi: embed;\n",
       "    white-space: pre-wrap;\n",
       "    word-wrap: break-word;\n",
       "    word-break: break-all;\n",
       "    font-family: \"Source Code Pro\", \"Menlo\", monospace;;\n",
       "    font-size: 13px;\n",
       "    color: #555;\n",
       "    margin-left: 4px;\n",
       "    line-height: 19px;\n",
       "  }\n",
       "</style>\n",
       "<div class=\"ansiout\">AUC test : 0.8093484109109109 - AUC test : 0.6202564102564102\n",
       "</div>"
      ]
     },
     "metadata": {},
     "output_type": "display_data"
    }
   ],
   "source": [
    "predictions_train_after_cv = cv_dt_model_fitted .transform(train_set)\n",
    "predictions_test_after_cv = cv_dt_model_fitted .transform(test_set)\n",
    "\n",
    "print(\n",
    "  \"AUC test : {0} - AUC test : {1}\".format(\n",
    "    evaluator_auc.evaluate(predictions_train_after_cv), \n",
    "    evaluator_auc.evaluate(predictions_test_after_cv)\n",
    "  )\n",
    ")"
   ]
  },
  {
   "cell_type": "code",
   "execution_count": 47,
   "metadata": {},
   "outputs": [
    {
     "data": {
      "text/html": [
       "<style scoped>\n",
       "  .table-result-container {\n",
       "    max-height: 300px;\n",
       "    overflow: auto;\n",
       "  }\n",
       "  table, th, td {\n",
       "    border: 1px solid black;\n",
       "    border-collapse: collapse;\n",
       "  }\n",
       "  th, td {\n",
       "    padding: 5px;\n",
       "  }\n",
       "  th {\n",
       "    text-align: left;\n",
       "  }\n",
       "</style><div class='table-result-container'><table class='table-result'><thead style='background-color: white'><tr><th>prediction</th><th>0</th><th>1</th></tr></thead><tbody><tr><td>0.0</td><td>52</td><td>27</td></tr><tr><td>1.0</td><td>23</td><td>25</td></tr></tbody></table></div>"
      ]
     },
     "metadata": {},
     "output_type": "display_data"
    }
   ],
   "source": [
    "cf_count = predictions_test_after_cv.select(F.col(\"prediction\"), F.col(\"label\").cast(IntegerType()))\\\n",
    "                           .groupBy(\"prediction\")\\\n",
    "                           .pivot(\"label\")\\\n",
    "                           .count() \n",
    "\n",
    "display(cf_count)"
   ]
  },
  {
   "cell_type": "markdown",
   "metadata": {},
   "source": [
    "- Résultats du modèle d'arbre de décision après la GridSearch\n",
    "    - Précision : 52%\n",
    "    - Rappel : 48%\n",
    "    - Accuracy : 50%\n",
    "    - F1-score : 51%"
   ]
  },
  {
   "cell_type": "markdown",
   "metadata": {},
   "source": [
    "##### Entrainement d'un modèle de forêt d'arbres alétoires"
   ]
  },
  {
   "cell_type": "code",
   "execution_count": 50,
   "metadata": {
    "colab": {},
    "colab_type": "code",
    "id": "M3MkBfqKsMOo",
    "outputId": "36f9b4dd-f30e-4245-f9d7-3cdbe5cf3189"
   },
   "outputs": [
    {
     "data": {
      "text/html": [
       "<style scoped>\n",
       "  .ansiout {\n",
       "    display: block;\n",
       "    unicode-bidi: embed;\n",
       "    white-space: pre-wrap;\n",
       "    word-wrap: break-word;\n",
       "    word-break: break-all;\n",
       "    font-family: \"Source Code Pro\", \"Menlo\", monospace;;\n",
       "    font-size: 13px;\n",
       "    color: #555;\n",
       "    margin-left: 4px;\n",
       "    line-height: 19px;\n",
       "  }\n",
       "</style>\n",
       "<div class=\"ansiout\"></div>"
      ]
     },
     "metadata": {},
     "output_type": "display_data"
    }
   ],
   "source": [
    "from pyspark.ml.classification import RandomForestClassifier\n",
    "rf_model = RandomForestClassifier(labelCol=\"label\", featuresCol=\"features\")"
   ]
  },
  {
   "cell_type": "code",
   "execution_count": 51,
   "metadata": {},
   "outputs": [
    {
     "data": {
      "text/html": [
       "<style scoped>\n",
       "  .ansiout {\n",
       "    display: block;\n",
       "    unicode-bidi: embed;\n",
       "    white-space: pre-wrap;\n",
       "    word-wrap: break-word;\n",
       "    word-break: break-all;\n",
       "    font-family: \"Source Code Pro\", \"Menlo\", monospace;;\n",
       "    font-size: 13px;\n",
       "    color: #555;\n",
       "    margin-left: 4px;\n",
       "    line-height: 19px;\n",
       "  }\n",
       "</style>\n",
       "<div class=\"ansiout\"></div>"
      ]
     },
     "metadata": {},
     "output_type": "display_data"
    }
   ],
   "source": [
    "rf_model_fitted = rf_model.fit(train_set)\n",
    "predictions_train = rf_model_fitted.transform(train_set)\n",
    "predictions_test = rf_model_fitted.transform(test_set)"
   ]
  },
  {
   "cell_type": "code",
   "execution_count": 52,
   "metadata": {
    "colab": {},
    "colab_type": "code",
    "id": "tF0PyrkJsMOu",
    "outputId": "b59f3dd9-f63b-442f-ca05-5adb9457326f"
   },
   "outputs": [
    {
     "data": {
      "text/html": [
       "<style scoped>\n",
       "  .table-result-container {\n",
       "    max-height: 300px;\n",
       "    overflow: auto;\n",
       "  }\n",
       "  table, th, td {\n",
       "    border: 1px solid black;\n",
       "    border-collapse: collapse;\n",
       "  }\n",
       "  th, td {\n",
       "    padding: 5px;\n",
       "  }\n",
       "  th {\n",
       "    text-align: left;\n",
       "  }\n",
       "</style><div class='table-result-container'><table class='table-result'><thead style='background-color: white'><tr><th>label</th><th>prediction</th><th>probability</th></tr></thead><tbody><tr><td>0.0</td><td>0.0</td><td>List(1, 2, List(), List(0.68075426208091, 0.3192457379190899))</td></tr><tr><td>0.0</td><td>0.0</td><td>List(1, 2, List(), List(0.7387417600927898, 0.2612582399072102))</td></tr><tr><td>0.0</td><td>0.0</td><td>List(1, 2, List(), List(0.6526659397515636, 0.34733406024843627))</td></tr><tr><td>0.0</td><td>0.0</td><td>List(1, 2, List(), List(0.6420908527645731, 0.35790914723542694))</td></tr><tr><td>1.0</td><td>0.0</td><td>List(1, 2, List(), List(0.5451490675851518, 0.45485093241484825))</td></tr></tbody></table></div>"
      ]
     },
     "metadata": {},
     "output_type": "display_data"
    }
   ],
   "source": [
    "display(predictions_test.select(\"label\", \"prediction\", \"probability\").head(5))"
   ]
  },
  {
   "cell_type": "code",
   "execution_count": 53,
   "metadata": {
    "colab": {},
    "colab_type": "code",
    "id": "NHHMEe4RsMO1",
    "outputId": "d9ad0333-40f2-4efe-abcb-5e16f55d3901"
   },
   "outputs": [
    {
     "data": {
      "text/html": [
       "<style scoped>\n",
       "  .ansiout {\n",
       "    display: block;\n",
       "    unicode-bidi: embed;\n",
       "    white-space: pre-wrap;\n",
       "    word-wrap: break-word;\n",
       "    word-break: break-all;\n",
       "    font-family: \"Source Code Pro\", \"Menlo\", monospace;;\n",
       "    font-size: 13px;\n",
       "    color: #555;\n",
       "    margin-left: 4px;\n",
       "    line-height: 19px;\n",
       "  }\n",
       "</style>\n",
       "<div class=\"ansiout\">AUC train : 0.8259822322322325 - AUC test : 0.6851282051282053\n",
       "</div>"
      ]
     },
     "metadata": {},
     "output_type": "display_data"
    }
   ],
   "source": [
    "evaluator_auc = BinaryClassificationEvaluator(rawPredictionCol=\"rawPrediction\", metricName=\"areaUnderROC\")\n",
    "\n",
    "evaluation_train = evaluator_auc.evaluate(predictions_train)\n",
    "evaluation_test = evaluator_auc.evaluate(predictions_test)\n",
    "\n",
    "print(\n",
    "  \"AUC train : {0} - AUC test : {1}\"\n",
    "  .format(\n",
    "    evaluator_auc.evaluate(predictions_train), \n",
    "    evaluator_auc.evaluate(predictions_test)\n",
    "  )\n",
    ")"
   ]
  },
  {
   "cell_type": "code",
   "execution_count": 54,
   "metadata": {
    "colab": {},
    "colab_type": "code",
    "id": "bb0zKwcLsMO_",
    "outputId": "5e0ab819-9bd7-4aa3-a275-fb31086b563f"
   },
   "outputs": [
    {
     "data": {
      "text/html": [
       "<style scoped>\n",
       "  .table-result-container {\n",
       "    max-height: 300px;\n",
       "    overflow: auto;\n",
       "  }\n",
       "  table, th, td {\n",
       "    border: 1px solid black;\n",
       "    border-collapse: collapse;\n",
       "  }\n",
       "  th, td {\n",
       "    padding: 5px;\n",
       "  }\n",
       "  th {\n",
       "    text-align: left;\n",
       "  }\n",
       "</style><div class='table-result-container'><table class='table-result'><thead style='background-color: white'><tr><th>prediction</th><th>0</th><th>1</th></tr></thead><tbody><tr><td>0.0</td><td>56</td><td>26</td></tr><tr><td>1.0</td><td>19</td><td>26</td></tr></tbody></table></div>"
      ]
     },
     "metadata": {},
     "output_type": "display_data"
    }
   ],
   "source": [
    "cf_count = predictions_test.select(F.col(\"prediction\"), F.col(\"label\").cast(IntegerType()))\\\n",
    "                           .groupBy(\"prediction\")\\\n",
    "                           .pivot(\"label\")\\\n",
    "                           .count() \n",
    "\n",
    "display(cf_count)"
   ]
  },
  {
   "cell_type": "markdown",
   "metadata": {},
   "source": [
    "- Résultats du modèle de forêt d'arbres alétoire\n",
    "    - Précision : 57%\n",
    "    - Rappel : 50%\n",
    "    - Accuracy : 65%\n",
    "    - F1-score : 53%"
   ]
  },
  {
   "cell_type": "markdown",
   "metadata": {},
   "source": [
    "- Gridsearch et cross validation pour améliorer le modèle"
   ]
  },
  {
   "cell_type": "code",
   "execution_count": 57,
   "metadata": {},
   "outputs": [
    {
     "data": {
      "text/html": [
       "<style scoped>\n",
       "  .ansiout {\n",
       "    display: block;\n",
       "    unicode-bidi: embed;\n",
       "    white-space: pre-wrap;\n",
       "    word-wrap: break-word;\n",
       "    word-break: break-all;\n",
       "    font-family: \"Source Code Pro\", \"Menlo\", monospace;;\n",
       "    font-size: 13px;\n",
       "    color: #555;\n",
       "    margin-left: 4px;\n",
       "    line-height: 19px;\n",
       "  }\n",
       "</style>\n",
       "<div class=\"ansiout\"></div>"
      ]
     },
     "metadata": {},
     "output_type": "display_data"
    }
   ],
   "source": [
    "from pyspark.ml.tuning import ParamGridBuilder, CrossValidator\n",
    "\n",
    "paramGrid = ParamGridBuilder().addGrid(rf_model.numTrees, [5, 10, 20, 30])\\\n",
    "                              .addGrid(rf_model.maxDepth, [4, 6, 8, 10, 12])\\\n",
    "                              .addGrid(rf_model.impurity, [\"entropy\", \"gini\"])\\\n",
    "                              .build()\n",
    " \n",
    "cv_rf_model = CrossValidator(estimator=rf_model, estimatorParamMaps=paramGrid, evaluator=evaluator_auc, numFolds=5)\n",
    "cv_rf_model_fitted = cv_rf_model.fit(train_set)"
   ]
  },
  {
   "cell_type": "code",
   "execution_count": 58,
   "metadata": {},
   "outputs": [
    {
     "data": {
      "text/html": [
       "<style scoped>\n",
       "  .ansiout {\n",
       "    display: block;\n",
       "    unicode-bidi: embed;\n",
       "    white-space: pre-wrap;\n",
       "    word-wrap: break-word;\n",
       "    word-break: break-all;\n",
       "    font-family: \"Source Code Pro\", \"Menlo\", monospace;;\n",
       "    font-size: 13px;\n",
       "    color: #555;\n",
       "    margin-left: 4px;\n",
       "    line-height: 19px;\n",
       "  }\n",
       "</style>\n",
       "<div class=\"ansiout\">{&apos;impurity&apos;: &apos;entropy&apos;, &apos;numTrees&apos;: 30, &apos;maxDepth&apos;: 6}\n",
       "</div>"
      ]
     },
     "metadata": {},
     "output_type": "display_data"
    }
   ],
   "source": [
    "bestModel = cv_rf_model_fitted.bestModel\n",
    "\n",
    "bestModelParameters = {\n",
    "  key.name: value\n",
    "  for key, value in bestModel.extractParamMap().items()\n",
    "  if key.name in [\"numTrees\", \"maxDepth\", \"impurity\"]\n",
    "}\n",
    "\n",
    "print(bestModelParameters)"
   ]
  },
  {
   "cell_type": "code",
   "execution_count": 59,
   "metadata": {},
   "outputs": [
    {
     "data": {
      "text/html": [
       "<style scoped>\n",
       "  .ansiout {\n",
       "    display: block;\n",
       "    unicode-bidi: embed;\n",
       "    white-space: pre-wrap;\n",
       "    word-wrap: break-word;\n",
       "    word-break: break-all;\n",
       "    font-family: \"Source Code Pro\", \"Menlo\", monospace;;\n",
       "    font-size: 13px;\n",
       "    color: #555;\n",
       "    margin-left: 4px;\n",
       "    line-height: 19px;\n",
       "  }\n",
       "</style>\n",
       "<div class=\"ansiout\">AUC test : 0.8593046171171177 - AUC test : 0.6770512820512821\n",
       "</div>"
      ]
     },
     "metadata": {},
     "output_type": "display_data"
    }
   ],
   "source": [
    "predictions_train_after_cv = cv_rf_model_fitted.transform(train_set)\n",
    "predictions_test_after_cv = cv_rf_model_fitted.transform(test_set)\n",
    "\n",
    "print(\n",
    "  \"AUC train : {0} - AUC test : {1}\".format(\n",
    "    evaluator_auc.evaluate(predictions_train_after_cv), \n",
    "    evaluator_auc.evaluate(predictions_test_after_cv)\n",
    "  )\n",
    ")"
   ]
  },
  {
   "cell_type": "code",
   "execution_count": 60,
   "metadata": {},
   "outputs": [
    {
     "data": {
      "text/html": [
       "<style scoped>\n",
       "  .table-result-container {\n",
       "    max-height: 300px;\n",
       "    overflow: auto;\n",
       "  }\n",
       "  table, th, td {\n",
       "    border: 1px solid black;\n",
       "    border-collapse: collapse;\n",
       "  }\n",
       "  th, td {\n",
       "    padding: 5px;\n",
       "  }\n",
       "  th {\n",
       "    text-align: left;\n",
       "  }\n",
       "</style><div class='table-result-container'><table class='table-result'><thead style='background-color: white'><tr><th>prediction</th><th>0</th><th>1</th></tr></thead><tbody><tr><td>0.0</td><td>56</td><td>26</td></tr><tr><td>1.0</td><td>19</td><td>26</td></tr></tbody></table></div>"
      ]
     },
     "metadata": {},
     "output_type": "display_data"
    }
   ],
   "source": [
    "cf_count = predictions_test.select(F.col(\"prediction\"), F.col(\"label\").cast(IntegerType()))\\\n",
    "                           .groupBy(\"prediction\")\\\n",
    "                           .pivot(\"label\")\\\n",
    "                           .count() \n",
    "\n",
    "display(cf_count)"
   ]
  },
  {
   "cell_type": "markdown",
   "metadata": {},
   "source": [
    "- Résultats du modèle de forêt d'arbres alétoire après la GridSearch\n",
    "    - Précision : 58%\n",
    "    - Rappel : 50%\n",
    "    - Accuracy : 65%\n",
    "    - F1-score : 54%"
   ]
  },
  {
   "cell_type": "code",
   "execution_count": 62,
   "metadata": {},
   "outputs": [
    {
     "data": {
      "text/html": [
       "<style scoped>\n",
       "  .ansiout {\n",
       "    display: block;\n",
       "    unicode-bidi: embed;\n",
       "    white-space: pre-wrap;\n",
       "    word-wrap: break-word;\n",
       "    word-break: break-all;\n",
       "    font-family: \"Source Code Pro\", \"Menlo\", monospace;;\n",
       "    font-size: 13px;\n",
       "    color: #555;\n",
       "    margin-left: 4px;\n",
       "    line-height: 19px;\n",
       "  }\n",
       "</style>\n",
       "<div class=\"ansiout\"><span class=\"ansired\">Out[</span><span class=\"ansired\">47</span><span class=\"ansired\">]: </span>SparseVector(54, {0: 0.0623, 1: 0.0183, 2: 0.0285, 3: 0.0195, 4: 0.0173, 5: 0.0187, 6: 0.02, 7: 0.0036, 8: 0.0253, 9: 0.0147, 10: 0.029, 11: 0.0049, 12: 0.005, 14: 0.0082, 15: 0.0167, 16: 0.0031, 17: 0.0355, 18: 0.0231, 19: 0.0094, 20: 0.0181, 21: 0.0086, 22: 0.0054, 23: 0.0168, 24: 0.0291, 25: 0.0107, 26: 0.0121, 27: 0.0003, 28: 0.0102, 29: 0.0096, 30: 0.0029, 31: 0.0099, 32: 0.0205, 33: 0.005, 34: 0.0145, 35: 0.0184, 36: 0.0191, 37: 0.0256, 38: 0.0086, 39: 0.0169, 40: 0.028, 41: 0.003, 42: 0.0245, 43: 0.0254, 44: 0.0082, 45: 0.0068, 46: 0.012, 47: 0.01, 48: 0.0119, 49: 0.0123, 50: 0.003, 51: 0.0739, 52: 0.0699, 53: 0.0859})</div>"
      ]
     },
     "metadata": {},
     "output_type": "display_data"
    }
   ],
   "source": [
    "bestModel.featureImportances"
   ]
  },
  {
   "cell_type": "code",
   "execution_count": 63,
   "metadata": {},
   "outputs": [
    {
     "data": {
      "text/html": [
       "<div style=\"max-width:1500px;overflow:auto;\">\n",
       "<table border=\"1\" class=\"dataframe\">\n",
       "  <thead>\n",
       "    <tr style=\"text-align: right;\">\n",
       "      <th></th>\n",
       "      <th>Coeff</th>\n",
       "      <th>Features</th>\n",
       "    </tr>\n",
       "  </thead>\n",
       "  <tbody>\n",
       "    <tr>\n",
       "      <th>0</th>\n",
       "      <td>0.085938</td>\n",
       "      <td>height</td>\n",
       "    </tr>\n",
       "    <tr>\n",
       "      <th>1</th>\n",
       "      <td>0.073859</td>\n",
       "      <td>birth_year</td>\n",
       "    </tr>\n",
       "    <tr>\n",
       "      <th>2</th>\n",
       "      <td>0.069878</td>\n",
       "      <td>weight</td>\n",
       "    </tr>\n",
       "    <tr>\n",
       "      <th>3</th>\n",
       "      <td>0.062324</td>\n",
       "      <td>drink_levelVec_casual drinker</td>\n",
       "    </tr>\n",
       "    <tr>\n",
       "      <th>4</th>\n",
       "      <td>0.035473</td>\n",
       "      <td>interestVec_variety</td>\n",
       "    </tr>\n",
       "    <tr>\n",
       "      <th>5</th>\n",
       "      <td>0.029115</td>\n",
       "      <td>religionVec_Catholic</td>\n",
       "    </tr>\n",
       "    <tr>\n",
       "      <th>6</th>\n",
       "      <td>0.029041</td>\n",
       "      <td>transportVec_on foot</td>\n",
       "    </tr>\n",
       "    <tr>\n",
       "      <th>7</th>\n",
       "      <td>0.028493</td>\n",
       "      <td>smokerVec_false</td>\n",
       "    </tr>\n",
       "    <tr>\n",
       "      <th>8</th>\n",
       "      <td>0.028045</td>\n",
       "      <td>budgetVec_low</td>\n",
       "    </tr>\n",
       "    <tr>\n",
       "      <th>9</th>\n",
       "      <td>0.025597</td>\n",
       "      <td>colorVec_white</td>\n",
       "    </tr>\n",
       "    <tr>\n",
       "      <th>10</th>\n",
       "      <td>0.025443</td>\n",
       "      <td>smoking_areaVec_section</td>\n",
       "    </tr>\n",
       "    <tr>\n",
       "      <th>11</th>\n",
       "      <td>0.025258</td>\n",
       "      <td>transportVec_public</td>\n",
       "    </tr>\n",
       "    <tr>\n",
       "      <th>12</th>\n",
       "      <td>0.024534</td>\n",
       "      <td>smoking_areaVec_none</td>\n",
       "    </tr>\n",
       "    <tr>\n",
       "      <th>13</th>\n",
       "      <td>0.023126</td>\n",
       "      <td>interestVec_none</td>\n",
       "    </tr>\n",
       "    <tr>\n",
       "      <th>14</th>\n",
       "      <td>0.020467</td>\n",
       "      <td>colorVec_blue</td>\n",
       "    </tr>\n",
       "    <tr>\n",
       "      <th>15</th>\n",
       "      <td>0.019988</td>\n",
       "      <td>dress_preferenceVec_no preference</td>\n",
       "    </tr>\n",
       "    <tr>\n",
       "      <th>16</th>\n",
       "      <td>0.019546</td>\n",
       "      <td>smokerVec_true</td>\n",
       "    </tr>\n",
       "    <tr>\n",
       "      <th>17</th>\n",
       "      <td>0.019115</td>\n",
       "      <td>colorVec_red</td>\n",
       "    </tr>\n",
       "    <tr>\n",
       "      <th>18</th>\n",
       "      <td>0.018656</td>\n",
       "      <td>dress_preferenceVec_formal</td>\n",
       "    </tr>\n",
       "    <tr>\n",
       "      <th>19</th>\n",
       "      <td>0.018390</td>\n",
       "      <td>colorVec_yellow</td>\n",
       "    </tr>\n",
       "    <tr>\n",
       "      <th>20</th>\n",
       "      <td>0.018343</td>\n",
       "      <td>drink_levelVec_abstemious</td>\n",
       "    </tr>\n",
       "    <tr>\n",
       "      <th>21</th>\n",
       "      <td>0.018078</td>\n",
       "      <td>interestVec_eco-friendly</td>\n",
       "    </tr>\n",
       "    <tr>\n",
       "      <th>22</th>\n",
       "      <td>0.017300</td>\n",
       "      <td>dress_preferenceVec_informal</td>\n",
       "    </tr>\n",
       "    <tr>\n",
       "      <th>23</th>\n",
       "      <td>0.016875</td>\n",
       "      <td>budgetVec_medium</td>\n",
       "    </tr>\n",
       "    <tr>\n",
       "      <th>24</th>\n",
       "      <td>0.016778</td>\n",
       "      <td>personalityVec_hunter-ostentatious</td>\n",
       "    </tr>\n",
       "    <tr>\n",
       "      <th>25</th>\n",
       "      <td>0.016678</td>\n",
       "      <td>hijosVec_kids</td>\n",
       "    </tr>\n",
       "    <tr>\n",
       "      <th>26</th>\n",
       "      <td>0.014704</td>\n",
       "      <td>transportVec_car owner</td>\n",
       "    </tr>\n",
       "    <tr>\n",
       "      <th>27</th>\n",
       "      <td>0.014493</td>\n",
       "      <td>colorVec_green</td>\n",
       "    </tr>\n",
       "    <tr>\n",
       "      <th>28</th>\n",
       "      <td>0.012278</td>\n",
       "      <td>priceVec_high</td>\n",
       "    </tr>\n",
       "    <tr>\n",
       "      <th>29</th>\n",
       "      <td>0.012111</td>\n",
       "      <td>religionVec_Christian</td>\n",
       "    </tr>\n",
       "    <tr>\n",
       "      <th>30</th>\n",
       "      <td>0.012015</td>\n",
       "      <td>accessibilityVec_no_accessibility</td>\n",
       "    </tr>\n",
       "    <tr>\n",
       "      <th>31</th>\n",
       "      <td>0.011908</td>\n",
       "      <td>priceVec_medium</td>\n",
       "    </tr>\n",
       "    <tr>\n",
       "      <th>32</th>\n",
       "      <td>0.010653</td>\n",
       "      <td>religionVec_none</td>\n",
       "    </tr>\n",
       "    <tr>\n",
       "      <th>33</th>\n",
       "      <td>0.010239</td>\n",
       "      <td>activityVec_student</td>\n",
       "    </tr>\n",
       "    <tr>\n",
       "      <th>34</th>\n",
       "      <td>0.009972</td>\n",
       "      <td>accessibilityVec_completely</td>\n",
       "    </tr>\n",
       "    <tr>\n",
       "      <th>35</th>\n",
       "      <td>0.009916</td>\n",
       "      <td>activityVec_unemployed</td>\n",
       "    </tr>\n",
       "    <tr>\n",
       "      <th>36</th>\n",
       "      <td>0.009552</td>\n",
       "      <td>activityVec_professional</td>\n",
       "    </tr>\n",
       "    <tr>\n",
       "      <th>37</th>\n",
       "      <td>0.009352</td>\n",
       "      <td>interestVec_technology</td>\n",
       "    </tr>\n",
       "    <tr>\n",
       "      <th>38</th>\n",
       "      <td>0.008615</td>\n",
       "      <td>personalityVec_hard-worker</td>\n",
       "    </tr>\n",
       "    <tr>\n",
       "      <th>39</th>\n",
       "      <td>0.008583</td>\n",
       "      <td>colorVec_purple</td>\n",
       "    </tr>\n",
       "    <tr>\n",
       "      <th>40</th>\n",
       "      <td>0.008205</td>\n",
       "      <td>hijosVec_independent</td>\n",
       "    </tr>\n",
       "    <tr>\n",
       "      <th>41</th>\n",
       "      <td>0.008157</td>\n",
       "      <td>smoking_areaVec_not permitted</td>\n",
       "    </tr>\n",
       "    <tr>\n",
       "      <th>42</th>\n",
       "      <td>0.006819</td>\n",
       "      <td>dress_codeVec_informal</td>\n",
       "    </tr>\n",
       "    <tr>\n",
       "      <th>43</th>\n",
       "      <td>0.005406</td>\n",
       "      <td>personalityVec_thrifty-protector</td>\n",
       "    </tr>\n",
       "    <tr>\n",
       "      <th>44</th>\n",
       "      <td>0.004977</td>\n",
       "      <td>marital_statusVec_married</td>\n",
       "    </tr>\n",
       "    <tr>\n",
       "      <th>45</th>\n",
       "      <td>0.004972</td>\n",
       "      <td>colorVec_black</td>\n",
       "    </tr>\n",
       "    <tr>\n",
       "      <th>46</th>\n",
       "      <td>0.004853</td>\n",
       "      <td>marital_statusVec_single</td>\n",
       "    </tr>\n",
       "    <tr>\n",
       "      <th>47</th>\n",
       "      <td>0.003620</td>\n",
       "      <td>dress_preferenceVec_?</td>\n",
       "    </tr>\n",
       "    <tr>\n",
       "      <th>48</th>\n",
       "      <td>0.003050</td>\n",
       "      <td>hijosVec_?</td>\n",
       "    </tr>\n",
       "    <tr>\n",
       "      <th>49</th>\n",
       "      <td>0.003027</td>\n",
       "      <td>areaVec_closed</td>\n",
       "    </tr>\n",
       "    <tr>\n",
       "      <th>50</th>\n",
       "      <td>0.002978</td>\n",
       "      <td>budgetVec_?</td>\n",
       "    </tr>\n",
       "    <tr>\n",
       "      <th>51</th>\n",
       "      <td>0.002932</td>\n",
       "      <td>activityVec_?</td>\n",
       "    </tr>\n",
       "    <tr>\n",
       "      <th>52</th>\n",
       "      <td>0.000272</td>\n",
       "      <td>religionVec_Mormon</td>\n",
       "    </tr>\n",
       "    <tr>\n",
       "      <th>53</th>\n",
       "      <td>0.000000</td>\n",
       "      <td>marital_statusVec_?</td>\n",
       "    </tr>\n",
       "  </tbody>\n",
       "</table>\n",
       "</div>"
      ]
     },
     "metadata": {},
     "output_type": "display_data"
    }
   ],
   "source": [
    "from itertools import chain\n",
    "import pandas as pd\n",
    "\n",
    "pd.DataFrame(sorted([\n",
    "  (bestModel.featureImportances[attr[\"idx\"]], attr[\"name\"]) \n",
    "  for attr in chain(*predictions_test_after_cv.schema[\"features\"].metadata[\"ml_attr\"][\"attrs\"].values())\n",
    "                     ], reverse=True), columns=[\"Coeff\", \"Features\"])"
   ]
  }
 ],
 "metadata": {
  "colab": {
   "name": "Copy of S8-4. Spark MLlib Classification - Exercice SOLUTION.ipynb",
   "provenance": []
  },
  "kernelspec": {
   "display_name": "Python 3",
   "language": "python",
   "name": "python3"
  },
  "language_info": {
   "codemirror_mode": {
    "name": "ipython",
    "version": 3
   },
   "file_extension": ".py",
   "mimetype": "text/x-python",
   "name": "python",
   "nbconvert_exporter": "python",
   "pygments_lexer": "ipython3",
   "version": "3.7.6"
  },
  "name": "S8-4. Classification",
  "notebookId": 4335005257049936
 },
 "nbformat": 4,
 "nbformat_minor": 1
}
