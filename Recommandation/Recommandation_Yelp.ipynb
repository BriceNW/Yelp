{
 "cells": [
  {
   "cell_type": "markdown",
   "metadata": {},
   "source": [
    "## Construire un moteur de recommandation avec SPARK"
   ]
  },
  {
   "cell_type": "markdown",
   "metadata": {},
   "source": [
    "Utiliser les notes globales des clients attribuées aux restaurants pour générez des prédictions pour d'autres restaurants et recommander ainsi des restaurtants à des clients."
   ]
  },
  {
   "cell_type": "markdown",
   "metadata": {},
   "source": [
    "- Importation des librairies utiles"
   ]
  },
  {
   "cell_type": "code",
   "execution_count": 4,
   "metadata": {},
   "outputs": [
    {
     "data": {
      "text/html": [
       "<style scoped>\n",
       "  .ansiout {\n",
       "    display: block;\n",
       "    unicode-bidi: embed;\n",
       "    white-space: pre-wrap;\n",
       "    word-wrap: break-word;\n",
       "    word-break: break-all;\n",
       "    font-family: \"Source Code Pro\", \"Menlo\", monospace;;\n",
       "    font-size: 13px;\n",
       "    color: #555;\n",
       "    margin-left: 4px;\n",
       "    line-height: 19px;\n",
       "  }\n",
       "</style>\n",
       "<div class=\"ansiout\"></div>"
      ]
     },
     "metadata": {},
     "output_type": "display_data"
    }
   ],
   "source": [
    "from pyspark.sql.types import *\n",
    "from pyspark.sql import functions as F\n",
    "import pandas as pd\n",
    "from pyspark.sql.window import Window\n",
    "from pyspark.ml.feature import StringIndexer\n",
    "from pyspark.ml.feature import IndexToString"
   ]
  },
  {
   "cell_type": "markdown",
   "metadata": {},
   "source": [
    "#### Importation des données depuis le compte de stokage"
   ]
  },
  {
   "cell_type": "code",
   "execution_count": 6,
   "metadata": {},
   "outputs": [
    {
     "data": {
      "text/html": [
       "<style scoped>\n",
       "  .ansiout {\n",
       "    display: block;\n",
       "    unicode-bidi: embed;\n",
       "    white-space: pre-wrap;\n",
       "    word-wrap: break-word;\n",
       "    word-break: break-all;\n",
       "    font-family: \"Source Code Pro\", \"Menlo\", monospace;;\n",
       "    font-size: 13px;\n",
       "    color: #555;\n",
       "    margin-left: 4px;\n",
       "    line-height: 19px;\n",
       "  }\n",
       "</style>\n",
       "<div class=\"ansiout\"></div>"
      ]
     },
     "metadata": {},
     "output_type": "display_data"
    }
   ],
   "source": [
    "#spark.conf.set(\n",
    "# storage aaccount\n",
    "# password\n",
    "#               )"
   ]
  },
  {
   "cell_type": "code",
   "execution_count": 7,
   "metadata": {},
   "outputs": [
    {
     "data": {
      "text/html": [
       "<style scoped>\n",
       "  .ansiout {\n",
       "    display: block;\n",
       "    unicode-bidi: embed;\n",
       "    white-space: pre-wrap;\n",
       "    word-wrap: break-word;\n",
       "    word-break: break-all;\n",
       "    font-family: \"Source Code Pro\", \"Menlo\", monospace;;\n",
       "    font-size: 13px;\n",
       "    color: #555;\n",
       "    margin-left: 4px;\n",
       "    line-height: 19px;\n",
       "  }\n",
       "</style>\n",
       "<div class=\"ansiout\"></div>"
      ]
     },
     "metadata": {},
     "output_type": "display_data"
    }
   ],
   "source": [
    "datasets = {\n",
    "  dataset: spark.read.load( \n",
    "    \"wasbs://default@storagestudent.blob.core.windows.net/datasets/S8-5/Exo/restaurant-data-with-consumer-ratings/{0}.csv\".format(dataset), \n",
    "    format=\"csv\",\n",
    "    header=\"true\"\n",
    "                           )\n",
    "  for dataset in [\"chefmozaccepts\", \"chefmozcuisine\", \"chefmozhours4\", \"chefmozparking\", \"geoplaces2\", \"rating_final\", \"usercuisine\", \"userpayment\", \"userprofile\"]\n",
    "            }"
   ]
  },
  {
   "cell_type": "code",
   "execution_count": 8,
   "metadata": {},
   "outputs": [
    {
     "data": {
      "text/html": [
       "<style scoped>\n",
       "  .ansiout {\n",
       "    display: block;\n",
       "    unicode-bidi: embed;\n",
       "    white-space: pre-wrap;\n",
       "    word-wrap: break-word;\n",
       "    word-break: break-all;\n",
       "    font-family: \"Source Code Pro\", \"Menlo\", monospace;;\n",
       "    font-size: 13px;\n",
       "    color: #555;\n",
       "    margin-left: 4px;\n",
       "    line-height: 19px;\n",
       "  }\n",
       "</style>\n",
       "<div class=\"ansiout\">dict_keys([&apos;chefmozaccepts&apos;, &apos;chefmozcuisine&apos;, &apos;geoplaces2&apos;, &apos;chefmozparking&apos;, &apos;rating_final&apos;, &apos;chefmozhours4&apos;, &apos;userpayment&apos;, &apos;userprofile&apos;, &apos;usercuisine&apos;])\n",
       "</div>"
      ]
     },
     "metadata": {},
     "output_type": "display_data"
    }
   ],
   "source": [
    "print(datasets.keys())"
   ]
  },
  {
   "cell_type": "markdown",
   "metadata": {},
   "source": [
    "#### Contenu des datasets"
   ]
  },
  {
   "cell_type": "code",
   "execution_count": 10,
   "metadata": {},
   "outputs": [
    {
     "data": {
      "text/html": [
       "<style scoped>\n",
       "  .table-result-container {\n",
       "    max-height: 300px;\n",
       "    overflow: auto;\n",
       "  }\n",
       "  table, th, td {\n",
       "    border: 1px solid black;\n",
       "    border-collapse: collapse;\n",
       "  }\n",
       "  th, td {\n",
       "    padding: 5px;\n",
       "  }\n",
       "  th {\n",
       "    text-align: left;\n",
       "  }\n",
       "</style><div class='table-result-container'><table class='table-result'><thead style='background-color: white'><tr><th>userID</th><th>latitude</th><th>longitude</th><th>smoker</th><th>drink_level</th><th>dress_preference</th><th>ambience</th><th>transport</th><th>marital_status</th><th>hijos</th><th>birth_year</th><th>interest</th><th>personality</th><th>religion</th><th>activity</th><th>color</th><th>weight</th><th>budget</th><th>height</th></tr></thead><tbody><tr><td>U1001</td><td>22.139997</td><td>-100.978803</td><td>false</td><td>abstemious</td><td>informal</td><td>family</td><td>on foot</td><td>single</td><td>independent</td><td>1989</td><td>variety</td><td>thrifty-protector</td><td>none</td><td>student</td><td>black</td><td>69</td><td>medium</td><td>1.77</td></tr><tr><td>U1002</td><td>22.150087</td><td>-100.983325</td><td>false</td><td>abstemious</td><td>informal</td><td>family</td><td>public</td><td>single</td><td>independent</td><td>1990</td><td>technology</td><td>hunter-ostentatious</td><td>Catholic</td><td>student</td><td>red</td><td>40</td><td>low</td><td>1.87</td></tr><tr><td>U1003</td><td>22.119847</td><td>-100.946527</td><td>false</td><td>social drinker</td><td>formal</td><td>family</td><td>public</td><td>single</td><td>independent</td><td>1989</td><td>none</td><td>hard-worker</td><td>Catholic</td><td>student</td><td>blue</td><td>60</td><td>low</td><td>1.69</td></tr><tr><td>U1004</td><td>18.867</td><td>-99.183</td><td>false</td><td>abstemious</td><td>informal</td><td>family</td><td>public</td><td>single</td><td>independent</td><td>1940</td><td>variety</td><td>hard-worker</td><td>none</td><td>professional</td><td>green</td><td>44</td><td>medium</td><td>1.53</td></tr><tr><td>U1005</td><td>22.183477</td><td>-100.959891</td><td>false</td><td>abstemious</td><td>no preference</td><td>family</td><td>public</td><td>single</td><td>independent</td><td>1992</td><td>none</td><td>thrifty-protector</td><td>Catholic</td><td>student</td><td>black</td><td>65</td><td>medium</td><td>1.69</td></tr></tbody></table></div>"
      ]
     },
     "metadata": {},
     "output_type": "display_data"
    }
   ],
   "source": [
    "userprofile = datasets['userprofile']\n",
    "display(userprofile.head(5))"
   ]
  },
  {
   "cell_type": "code",
   "execution_count": 11,
   "metadata": {},
   "outputs": [
    {
     "data": {
      "text/html": [
       "<style scoped>\n",
       "  .table-result-container {\n",
       "    max-height: 300px;\n",
       "    overflow: auto;\n",
       "  }\n",
       "  table, th, td {\n",
       "    border: 1px solid black;\n",
       "    border-collapse: collapse;\n",
       "  }\n",
       "  th, td {\n",
       "    padding: 5px;\n",
       "  }\n",
       "  th {\n",
       "    text-align: left;\n",
       "  }\n",
       "</style><div class='table-result-container'><table class='table-result'><thead style='background-color: white'><tr><th>userID</th><th>Upayment</th></tr></thead><tbody><tr><td>U1001</td><td>cash</td></tr><tr><td>U1002</td><td>cash</td></tr><tr><td>U1003</td><td>cash</td></tr><tr><td>U1004</td><td>cash</td></tr><tr><td>U1004</td><td>bank_debit_cards</td></tr></tbody></table></div>"
      ]
     },
     "metadata": {},
     "output_type": "display_data"
    }
   ],
   "source": [
    "userpayment = datasets['userpayment']\n",
    "display(userpayment.head(5))"
   ]
  },
  {
   "cell_type": "code",
   "execution_count": 12,
   "metadata": {},
   "outputs": [
    {
     "data": {
      "text/html": [
       "<style scoped>\n",
       "  .table-result-container {\n",
       "    max-height: 300px;\n",
       "    overflow: auto;\n",
       "  }\n",
       "  table, th, td {\n",
       "    border: 1px solid black;\n",
       "    border-collapse: collapse;\n",
       "  }\n",
       "  th, td {\n",
       "    padding: 5px;\n",
       "  }\n",
       "  th {\n",
       "    text-align: left;\n",
       "  }\n",
       "</style><div class='table-result-container'><table class='table-result'><thead style='background-color: white'><tr><th>userID</th><th>Rcuisine</th></tr></thead><tbody><tr><td>U1001</td><td>American</td></tr><tr><td>U1002</td><td>Mexican</td></tr><tr><td>U1003</td><td>Mexican</td></tr><tr><td>U1004</td><td>Bakery</td></tr><tr><td>U1004</td><td>Breakfast-Brunch</td></tr></tbody></table></div>"
      ]
     },
     "metadata": {},
     "output_type": "display_data"
    }
   ],
   "source": [
    "usercuisine = datasets['usercuisine']\n",
    "display(usercuisine.head(5))"
   ]
  },
  {
   "cell_type": "code",
   "execution_count": 13,
   "metadata": {},
   "outputs": [
    {
     "data": {
      "text/html": [
       "<style scoped>\n",
       "  .table-result-container {\n",
       "    max-height: 300px;\n",
       "    overflow: auto;\n",
       "  }\n",
       "  table, th, td {\n",
       "    border: 1px solid black;\n",
       "    border-collapse: collapse;\n",
       "  }\n",
       "  th, td {\n",
       "    padding: 5px;\n",
       "  }\n",
       "  th {\n",
       "    text-align: left;\n",
       "  }\n",
       "</style><div class='table-result-container'><table class='table-result'><thead style='background-color: white'><tr><th>userID</th><th>placeID</th><th>rating</th><th>food_rating</th><th>service_rating</th></tr></thead><tbody><tr><td>U1077</td><td>135085</td><td>2</td><td>2</td><td>2</td></tr><tr><td>U1077</td><td>135038</td><td>2</td><td>2</td><td>1</td></tr><tr><td>U1077</td><td>132825</td><td>2</td><td>2</td><td>2</td></tr><tr><td>U1077</td><td>135060</td><td>1</td><td>2</td><td>2</td></tr><tr><td>U1068</td><td>135104</td><td>1</td><td>1</td><td>2</td></tr></tbody></table></div>"
      ]
     },
     "metadata": {},
     "output_type": "display_data"
    }
   ],
   "source": [
    "rating = datasets['rating_final']\n",
    "display(rating.head(5))"
   ]
  },
  {
   "cell_type": "code",
   "execution_count": 14,
   "metadata": {},
   "outputs": [
    {
     "data": {
      "text/html": [
       "<style scoped>\n",
       "  .table-result-container {\n",
       "    max-height: 300px;\n",
       "    overflow: auto;\n",
       "  }\n",
       "  table, th, td {\n",
       "    border: 1px solid black;\n",
       "    border-collapse: collapse;\n",
       "  }\n",
       "  th, td {\n",
       "    padding: 5px;\n",
       "  }\n",
       "  th {\n",
       "    text-align: left;\n",
       "  }\n",
       "</style><div class='table-result-container'><table class='table-result'><thead style='background-color: white'><tr><th>placeID</th><th>latitude</th><th>longitude</th><th>the_geom_meter</th><th>name</th><th>address</th><th>city</th><th>state</th><th>country</th><th>fax</th><th>zip</th><th>alcohol</th><th>smoking_area</th><th>dress_code</th><th>accessibility</th><th>price</th><th>url</th><th>Rambience</th><th>franchise</th><th>area</th><th>other_services</th></tr></thead><tbody><tr><td>134999</td><td>18.915421</td><td>-99.184871</td><td>0101000020957F000088568DE356715AC138C0A525FC464A41</td><td>Kiku Cuernavaca</td><td>Revolucion</td><td>Cuernavaca</td><td>Morelos</td><td>Mexico</td><td>?</td><td>?</td><td>No_Alcohol_Served</td><td>none</td><td>informal</td><td>no_accessibility</td><td>medium</td><td>kikucuernavaca.com.mx</td><td>familiar</td><td>f</td><td>closed</td><td>none</td></tr><tr><td>132825</td><td>22.1473922</td><td>-100.983092</td><td>0101000020957F00001AD016568C4858C1243261274BA54B41</td><td>puesto de tacos</td><td>esquina santos degollado y leon guzman</td><td>s.l.p.</td><td>s.l.p.</td><td>mexico</td><td>?</td><td>78280</td><td>No_Alcohol_Served</td><td>none</td><td>informal</td><td>completely</td><td>low</td><td>?</td><td>familiar</td><td>f</td><td>open</td><td>none</td></tr><tr><td>135106</td><td>22.1497088</td><td>-100.9760928</td><td>0101000020957F0000649D6F21634858C119AE9BF528A34B41</td><td>El Rinc�n de San Francisco</td><td>Universidad 169</td><td>San Luis Potosi</td><td>San Luis Potosi</td><td>Mexico</td><td>?</td><td>78000</td><td>Wine-Beer</td><td>only at bar</td><td>informal</td><td>partially</td><td>medium</td><td>?</td><td>familiar</td><td>f</td><td>open</td><td>none</td></tr><tr><td>132667</td><td>23.7526973</td><td>-99.1633594</td><td>0101000020957F00005D67BCDDED8157C1222A2DC8D84D4941</td><td>little pizza Emilio Portes Gil</td><td>calle emilio portes gil</td><td>victoria </td><td>tamaulipas</td><td>?</td><td>?</td><td>?</td><td>No_Alcohol_Served</td><td>none</td><td>informal</td><td>completely</td><td>low</td><td>?</td><td>familiar</td><td>t</td><td>closed</td><td>none</td></tr><tr><td>132613</td><td>23.7529035</td><td>-99.165076</td><td>0101000020957F00008EBA2D06DC8157C194E03B7B504E4941</td><td>carnitas_mata</td><td>lic. Emilio portes gil</td><td>victoria</td><td>Tamaulipas</td><td>Mexico</td><td>?</td><td>?</td><td>No_Alcohol_Served</td><td>permitted</td><td>informal</td><td>completely</td><td>medium</td><td>?</td><td>familiar</td><td>t</td><td>closed</td><td>none</td></tr></tbody></table></div>"
      ]
     },
     "metadata": {},
     "output_type": "display_data"
    }
   ],
   "source": [
    "location = datasets['geoplaces2']\n",
    "display(location.head(5))"
   ]
  },
  {
   "cell_type": "code",
   "execution_count": 15,
   "metadata": {},
   "outputs": [
    {
     "data": {
      "text/html": [
       "<style scoped>\n",
       "  .table-result-container {\n",
       "    max-height: 300px;\n",
       "    overflow: auto;\n",
       "  }\n",
       "  table, th, td {\n",
       "    border: 1px solid black;\n",
       "    border-collapse: collapse;\n",
       "  }\n",
       "  th, td {\n",
       "    padding: 5px;\n",
       "  }\n",
       "  th {\n",
       "    text-align: left;\n",
       "  }\n",
       "</style><div class='table-result-container'><table class='table-result'><thead style='background-color: white'><tr><th>placeID</th><th>Rpayment</th></tr></thead><tbody><tr><td>135110</td><td>cash</td></tr><tr><td>135110</td><td>VISA</td></tr><tr><td>135110</td><td>MasterCard-Eurocard</td></tr><tr><td>135110</td><td>American_Express</td></tr><tr><td>135110</td><td>bank_debit_cards</td></tr></tbody></table></div>"
      ]
     },
     "metadata": {},
     "output_type": "display_data"
    }
   ],
   "source": [
    "accepted_payment = datasets['chefmozaccepts']\n",
    "display(accepted_payment.head(5))"
   ]
  },
  {
   "cell_type": "code",
   "execution_count": 16,
   "metadata": {},
   "outputs": [
    {
     "data": {
      "text/html": [
       "<style scoped>\n",
       "  .table-result-container {\n",
       "    max-height: 300px;\n",
       "    overflow: auto;\n",
       "  }\n",
       "  table, th, td {\n",
       "    border: 1px solid black;\n",
       "    border-collapse: collapse;\n",
       "  }\n",
       "  th, td {\n",
       "    padding: 5px;\n",
       "  }\n",
       "  th {\n",
       "    text-align: left;\n",
       "  }\n",
       "</style><div class='table-result-container'><table class='table-result'><thead style='background-color: white'><tr><th>placeID</th><th>hours</th><th>days</th></tr></thead><tbody><tr><td>135111</td><td>00:00-23:30;</td><td>Mon;Tue;Wed;Thu;Fri;</td></tr><tr><td>135111</td><td>00:00-23:30;</td><td>Sat;</td></tr><tr><td>135111</td><td>00:00-23:30;</td><td>Sun;</td></tr><tr><td>135110</td><td>08:00-19:00;</td><td>Mon;Tue;Wed;Thu;Fri;</td></tr><tr><td>135110</td><td>00:00-00:00;</td><td>Sat;</td></tr></tbody></table></div>"
      ]
     },
     "metadata": {},
     "output_type": "display_data"
    }
   ],
   "source": [
    "hour = datasets['chefmozhours4']\n",
    "display(hour.head(5))"
   ]
  },
  {
   "cell_type": "code",
   "execution_count": 17,
   "metadata": {},
   "outputs": [
    {
     "data": {
      "text/html": [
       "<style scoped>\n",
       "  .table-result-container {\n",
       "    max-height: 300px;\n",
       "    overflow: auto;\n",
       "  }\n",
       "  table, th, td {\n",
       "    border: 1px solid black;\n",
       "    border-collapse: collapse;\n",
       "  }\n",
       "  th, td {\n",
       "    padding: 5px;\n",
       "  }\n",
       "  th {\n",
       "    text-align: left;\n",
       "  }\n",
       "</style><div class='table-result-container'><table class='table-result'><thead style='background-color: white'><tr><th>placeID</th><th>Rcuisine</th></tr></thead><tbody><tr><td>135110</td><td>Spanish</td></tr><tr><td>135109</td><td>Italian</td></tr><tr><td>135107</td><td>Latin_American</td></tr><tr><td>135106</td><td>Mexican</td></tr><tr><td>135105</td><td>Fast_Food</td></tr></tbody></table></div>"
      ]
     },
     "metadata": {},
     "output_type": "display_data"
    }
   ],
   "source": [
    "chefcuisine = datasets['chefmozcuisine']\n",
    "display(chefcuisine.head(5))"
   ]
  },
  {
   "cell_type": "code",
   "execution_count": 18,
   "metadata": {},
   "outputs": [
    {
     "data": {
      "text/html": [
       "<style scoped>\n",
       "  .table-result-container {\n",
       "    max-height: 300px;\n",
       "    overflow: auto;\n",
       "  }\n",
       "  table, th, td {\n",
       "    border: 1px solid black;\n",
       "    border-collapse: collapse;\n",
       "  }\n",
       "  th, td {\n",
       "    padding: 5px;\n",
       "  }\n",
       "  th {\n",
       "    text-align: left;\n",
       "  }\n",
       "</style><div class='table-result-container'><table class='table-result'><thead style='background-color: white'><tr><th>placeID</th><th>parking_lot</th></tr></thead><tbody><tr><td>135111</td><td>public</td></tr><tr><td>135110</td><td>none</td></tr><tr><td>135109</td><td>none</td></tr><tr><td>135108</td><td>none</td></tr><tr><td>135107</td><td>none</td></tr></tbody></table></div>"
      ]
     },
     "metadata": {},
     "output_type": "display_data"
    }
   ],
   "source": [
    "parking = datasets['chefmozparking']\n",
    "display(parking.head(5))"
   ]
  },
  {
   "cell_type": "markdown",
   "metadata": {},
   "source": [
    "### Prospects"
   ]
  },
  {
   "cell_type": "markdown",
   "metadata": {},
   "source": [
    "- Nombre de userID dans 'usercuisine' par ordre décroissant"
   ]
  },
  {
   "cell_type": "code",
   "execution_count": 21,
   "metadata": {},
   "outputs": [
    {
     "data": {
      "text/html": [
       "<style scoped>\n",
       "  .table-result-container {\n",
       "    max-height: 300px;\n",
       "    overflow: auto;\n",
       "  }\n",
       "  table, th, td {\n",
       "    border: 1px solid black;\n",
       "    border-collapse: collapse;\n",
       "  }\n",
       "  th, td {\n",
       "    padding: 5px;\n",
       "  }\n",
       "  th {\n",
       "    text-align: left;\n",
       "  }\n",
       "</style><div class='table-result-container'><table class='table-result'><thead style='background-color: white'><tr><th>userID</th><th>Rcuisine</th></tr></thead><tbody><tr><td>U1001</td><td>American</td></tr><tr><td>U1002</td><td>Mexican</td></tr><tr><td>U1003</td><td>Mexican</td></tr><tr><td>U1004</td><td>Bakery</td></tr><tr><td>U1004</td><td>Breakfast-Brunch</td></tr></tbody></table></div>"
      ]
     },
     "metadata": {},
     "output_type": "display_data"
    }
   ],
   "source": [
    "display(usercuisine.head(5))"
   ]
  },
  {
   "cell_type": "code",
   "execution_count": 22,
   "metadata": {},
   "outputs": [
    {
     "data": {
      "text/html": [
       "<style scoped>\n",
       "  .table-result-container {\n",
       "    max-height: 300px;\n",
       "    overflow: auto;\n",
       "  }\n",
       "  table, th, td {\n",
       "    border: 1px solid black;\n",
       "    border-collapse: collapse;\n",
       "  }\n",
       "  th, td {\n",
       "    padding: 5px;\n",
       "  }\n",
       "  th {\n",
       "    text-align: left;\n",
       "  }\n",
       "</style><div class='table-result-container'><table class='table-result'><thead style='background-color: white'><tr><th>userID</th><th>count</th></tr></thead><tbody><tr><td>U1135</td><td>103</td></tr><tr><td>U1108</td><td>18</td></tr><tr><td>U1101</td><td>15</td></tr><tr><td>U1016</td><td>14</td></tr><tr><td>U1060</td><td>13</td></tr></tbody></table></div>"
      ]
     },
     "metadata": {},
     "output_type": "display_data"
    }
   ],
   "source": [
    "#display(usercuisine.groupBy(\"userID\").count().orderBy(F.desc(\"count\")))\n",
    "display(usercuisine.groupBy('userID').agg(F.count('userID').alias('count')).orderBy(-F.col('count')).head(5))"
   ]
  },
  {
   "cell_type": "markdown",
   "metadata": {},
   "source": [
    "- Nombre de placeID dans le dataset 'chefmozcuisine' par ordre décroissant"
   ]
  },
  {
   "cell_type": "code",
   "execution_count": 24,
   "metadata": {},
   "outputs": [
    {
     "data": {
      "text/html": [
       "<style scoped>\n",
       "  .table-result-container {\n",
       "    max-height: 300px;\n",
       "    overflow: auto;\n",
       "  }\n",
       "  table, th, td {\n",
       "    border: 1px solid black;\n",
       "    border-collapse: collapse;\n",
       "  }\n",
       "  th, td {\n",
       "    padding: 5px;\n",
       "  }\n",
       "  th {\n",
       "    text-align: left;\n",
       "  }\n",
       "</style><div class='table-result-container'><table class='table-result'><thead style='background-color: white'><tr><th>placeID</th><th>Rcuisine</th></tr></thead><tbody><tr><td>135110</td><td>Spanish</td></tr><tr><td>135109</td><td>Italian</td></tr><tr><td>135107</td><td>Latin_American</td></tr><tr><td>135106</td><td>Mexican</td></tr><tr><td>135105</td><td>Fast_Food</td></tr></tbody></table></div>"
      ]
     },
     "metadata": {},
     "output_type": "display_data"
    }
   ],
   "source": [
    "display(chefcuisine.head(5))"
   ]
  },
  {
   "cell_type": "code",
   "execution_count": 25,
   "metadata": {},
   "outputs": [
    {
     "data": {
      "text/html": [
       "<style scoped>\n",
       "  .table-result-container {\n",
       "    max-height: 300px;\n",
       "    overflow: auto;\n",
       "  }\n",
       "  table, th, td {\n",
       "    border: 1px solid black;\n",
       "    border-collapse: collapse;\n",
       "  }\n",
       "  th, td {\n",
       "    padding: 5px;\n",
       "  }\n",
       "  th {\n",
       "    text-align: left;\n",
       "  }\n",
       "</style><div class='table-result-container'><table class='table-result'><thead style='background-color: white'><tr><th>placeID</th><th>count</th></tr></thead><tbody><tr><td>132774</td><td>9</td></tr><tr><td>135099</td><td>6</td></tr><tr><td>135097</td><td>6</td></tr><tr><td>135103</td><td>4</td></tr><tr><td>135098</td><td>4</td></tr></tbody></table></div>"
      ]
     },
     "metadata": {},
     "output_type": "display_data"
    }
   ],
   "source": [
    "#display(chefcuisine.groupBy(\"placeID\").count().orderBy(F.desc(\"count\")))\n",
    "display(chefcuisine.groupBy('placeID').agg(F.count('placeID').alias('count')).orderBy(-F.col('count')).head(5))"
   ]
  },
  {
   "cell_type": "markdown",
   "metadata": {},
   "source": [
    "- Créer un dataset contenant pour chaque placeID, la liste des userID dans une colonne et le nombre de userID dans une autre colonne\n",
    "- Ajouter la colonne RCuisine pour connaître le type de cuisine de chaque placeID\n",
    "- Ordonner le dataset par userID de façon decroissante"
   ]
  },
  {
   "cell_type": "code",
   "execution_count": 27,
   "metadata": {},
   "outputs": [
    {
     "data": {
      "text/html": [
       "<style scoped>\n",
       "  .table-result-container {\n",
       "    max-height: 300px;\n",
       "    overflow: auto;\n",
       "  }\n",
       "  table, th, td {\n",
       "    border: 1px solid black;\n",
       "    border-collapse: collapse;\n",
       "  }\n",
       "  th, td {\n",
       "    padding: 5px;\n",
       "  }\n",
       "  th {\n",
       "    text-align: left;\n",
       "  }\n",
       "</style><div class='table-result-container'><table class='table-result'><thead style='background-color: white'><tr><th>placeID</th><th>Rcuisine</th><th>users</th><th>count_users</th></tr></thead><tbody><tr><td>132777</td><td>Mexican</td><td>List(U1075, U1002, U1134, U1025, U1119, U1076, U1020, U1054, U1111, U1084, U1100, U1045, U1128, U1068, U1123, U1135, U1081, U1038, U1083, U1037, U1079, U1103, U1048, U1089, U1136, U1030, U1101, U1078, U1072, U1071, U1110, U1069, U1097, U1096, U1032, U1003, U1116, U1042, U1009, U1132, U1077, U1029, U1114, U1085, U1028, U1010, U1033, U1066, U1015, U1056, U1008, U1126, U1006, U1036, U1088, U1053, U1109, U1130, U1098, U1022, U1099, U1080, U1070, U1112, U1133, U1044, U1050, U1051, U1061, U1049, U1060, U1131, U1067, U1011, U1082, U1091, U1018, U1137, U1127, U1065, U1125, U1059, U1026, U1031, U1034, U1120, U1023, U1108, U1124, U1063, U1062, U1129, U1121, U1064, U1107, U1004, U1094)</td><td>97</td></tr><tr><td>132732</td><td>Mexican</td><td>List(U1075, U1002, U1134, U1025, U1119, U1076, U1020, U1054, U1111, U1084, U1100, U1045, U1128, U1068, U1123, U1135, U1081, U1038, U1083, U1037, U1079, U1103, U1048, U1089, U1136, U1030, U1101, U1078, U1072, U1071, U1110, U1069, U1097, U1096, U1032, U1003, U1116, U1042, U1009, U1132, U1077, U1029, U1114, U1085, U1028, U1010, U1033, U1066, U1015, U1056, U1008, U1126, U1006, U1036, U1088, U1053, U1109, U1130, U1098, U1022, U1099, U1080, U1070, U1112, U1133, U1044, U1050, U1051, U1061, U1049, U1060, U1131, U1067, U1011, U1082, U1091, U1018, U1137, U1127, U1065, U1125, U1059, U1026, U1031, U1034, U1120, U1023, U1108, U1124, U1063, U1062, U1129, U1121, U1064, U1107, U1004, U1094)</td><td>97</td></tr><tr><td>132919</td><td>Mexican</td><td>List(U1075, U1002, U1134, U1025, U1119, U1076, U1020, U1054, U1111, U1084, U1100, U1045, U1128, U1068, U1123, U1135, U1081, U1038, U1083, U1037, U1079, U1103, U1048, U1089, U1136, U1030, U1101, U1078, U1072, U1071, U1110, U1069, U1097, U1096, U1032, U1003, U1116, U1042, U1009, U1132, U1077, U1029, U1114, U1085, U1028, U1010, U1033, U1066, U1015, U1056, U1008, U1126, U1006, U1036, U1088, U1053, U1109, U1130, U1098, U1022, U1099, U1080, U1070, U1112, U1133, U1044, U1050, U1051, U1061, U1049, U1060, U1131, U1067, U1011, U1082, U1091, U1018, U1137, U1127, U1065, U1125, U1059, U1026, U1031, U1034, U1120, U1023, U1108, U1124, U1063, U1062, U1129, U1121, U1064, U1107, U1004, U1094)</td><td>97</td></tr><tr><td>132868</td><td>Mexican</td><td>List(U1075, U1002, U1134, U1025, U1119, U1076, U1020, U1054, U1111, U1084, U1100, U1045, U1128, U1068, U1123, U1135, U1081, U1038, U1083, U1037, U1079, U1103, U1048, U1089, U1136, U1030, U1101, U1078, U1072, U1071, U1110, U1069, U1097, U1096, U1032, U1003, U1116, U1042, U1009, U1132, U1077, U1029, U1114, U1085, U1028, U1010, U1033, U1066, U1015, U1056, U1008, U1126, U1006, U1036, U1088, U1053, U1109, U1130, U1098, U1022, U1099, U1080, U1070, U1112, U1133, U1044, U1050, U1051, U1061, U1049, U1060, U1131, U1067, U1011, U1082, U1091, U1018, U1137, U1127, U1065, U1125, U1059, U1026, U1031, U1034, U1120, U1023, U1108, U1124, U1063, U1062, U1129, U1121, U1064, U1107, U1004, U1094)</td><td>97</td></tr><tr><td>132761</td><td>Mexican</td><td>List(U1075, U1002, U1134, U1025, U1119, U1076, U1020, U1054, U1111, U1084, U1100, U1045, U1128, U1068, U1123, U1135, U1081, U1038, U1083, U1037, U1079, U1103, U1048, U1089, U1136, U1030, U1101, U1078, U1072, U1071, U1110, U1069, U1097, U1096, U1032, U1003, U1116, U1042, U1009, U1132, U1077, U1029, U1114, U1085, U1028, U1010, U1033, U1066, U1015, U1056, U1008, U1126, U1006, U1036, U1088, U1053, U1109, U1130, U1098, U1022, U1099, U1080, U1070, U1112, U1133, U1044, U1050, U1051, U1061, U1049, U1060, U1131, U1067, U1011, U1082, U1091, U1018, U1137, U1127, U1065, U1125, U1059, U1026, U1031, U1034, U1120, U1023, U1108, U1124, U1063, U1062, U1129, U1121, U1064, U1107, U1004, U1094)</td><td>97</td></tr></tbody></table></div>"
      ]
     },
     "metadata": {},
     "output_type": "display_data"
    }
   ],
   "source": [
    "prospects = (chefcuisine.join(usercuisine, 'Rcuisine', 'inner')\n",
    "            .groupBy('placeID', 'Rcuisine')\n",
    "            .agg(F.collect_set('userID').alias('users'))\n",
    "            .withColumn('count_users', F.size('users'))\n",
    "            .orderBy(F.desc('count_users'))                          \n",
    "            )\n",
    "display(prospects.head(5))"
   ]
  },
  {
   "cell_type": "markdown",
   "metadata": {},
   "source": [
    "- On s'intéresse maintenant au jeu de données dans dataset 'rating_final'"
   ]
  },
  {
   "cell_type": "code",
   "execution_count": 29,
   "metadata": {},
   "outputs": [
    {
     "data": {
      "text/html": [
       "<style scoped>\n",
       "  .table-result-container {\n",
       "    max-height: 300px;\n",
       "    overflow: auto;\n",
       "  }\n",
       "  table, th, td {\n",
       "    border: 1px solid black;\n",
       "    border-collapse: collapse;\n",
       "  }\n",
       "  th, td {\n",
       "    padding: 5px;\n",
       "  }\n",
       "  th {\n",
       "    text-align: left;\n",
       "  }\n",
       "</style><div class='table-result-container'><table class='table-result'><thead style='background-color: white'><tr><th>userID</th><th>placeID</th><th>rating</th><th>food_rating</th><th>service_rating</th></tr></thead><tbody><tr><td>U1077</td><td>135085</td><td>2</td><td>2</td><td>2</td></tr><tr><td>U1077</td><td>135038</td><td>2</td><td>2</td><td>1</td></tr><tr><td>U1077</td><td>132825</td><td>2</td><td>2</td><td>2</td></tr><tr><td>U1077</td><td>135060</td><td>1</td><td>2</td><td>2</td></tr><tr><td>U1068</td><td>135104</td><td>1</td><td>1</td><td>2</td></tr></tbody></table></div>"
      ]
     },
     "metadata": {},
     "output_type": "display_data"
    }
   ],
   "source": [
    "rating = datasets[\"rating_final\"]\n",
    "display(rating.head(5))"
   ]
  },
  {
   "cell_type": "markdown",
   "metadata": {},
   "source": [
    "- Calculer un score NPS pour chaque placeID:\n",
    "  - Il faut les notes exactes données à chaque placeID en colonne\n",
    "  - Compter le nombre de chacune des notes attribuées pour chacune des placeID"
   ]
  },
  {
   "cell_type": "code",
   "execution_count": 31,
   "metadata": {},
   "outputs": [
    {
     "data": {
      "text/html": [
       "<style scoped>\n",
       "  .table-result-container {\n",
       "    max-height: 300px;\n",
       "    overflow: auto;\n",
       "  }\n",
       "  table, th, td {\n",
       "    border: 1px solid black;\n",
       "    border-collapse: collapse;\n",
       "  }\n",
       "  th, td {\n",
       "    padding: 5px;\n",
       "  }\n",
       "  th {\n",
       "    text-align: left;\n",
       "  }\n",
       "</style><div class='table-result-container'><table class='table-result'><thead style='background-color: white'><tr><th>placeID</th><th>0</th><th>1</th><th>2</th></tr></thead><tbody><tr><td>132834</td><td>7</td><td>11</td><td>7</td></tr><tr><td>132626</td><td>1</td><td>1</td><td>2</td></tr><tr><td>135042</td><td>4</td><td>7</td><td>9</td></tr><tr><td>135058</td><td>4</td><td>8</td><td>6</td></tr><tr><td>132767</td><td>2</td><td>1</td><td>3</td></tr></tbody></table></div>"
      ]
     },
     "metadata": {},
     "output_type": "display_data"
    }
   ],
   "source": [
    "display(rating.groupBy(\"placeID\").pivot(\"rating\").count().head(5))"
   ]
  },
  {
   "cell_type": "markdown",
   "metadata": {},
   "source": [
    "- Calcul du NPS:\n",
    "  - NPS = (somme_de_note_max / somme_totale_des_notes) - (somme_de_note_min / somme_totale_des_notes)\n",
    "  - Joindre ensuite au dataset 'chefcuisine'\n",
    "  - Utiliser la window function F.rank() pour affichez un ranking global pour chaque placeID et un ranking pour chaque RCuisine"
   ]
  },
  {
   "cell_type": "code",
   "execution_count": 33,
   "metadata": {},
   "outputs": [
    {
     "data": {
      "text/html": [
       "<style scoped>\n",
       "  .table-result-container {\n",
       "    max-height: 300px;\n",
       "    overflow: auto;\n",
       "  }\n",
       "  table, th, td {\n",
       "    border: 1px solid black;\n",
       "    border-collapse: collapse;\n",
       "  }\n",
       "  th, td {\n",
       "    padding: 5px;\n",
       "  }\n",
       "  th {\n",
       "    text-align: left;\n",
       "  }\n",
       "</style><div class='table-result-container'><table class='table-result'><thead style='background-color: white'><tr><th>placeID</th><th>0</th><th>1</th><th>2</th><th>Total</th><th>NPS</th><th>Rcuisine</th><th>Global Rank</th><th>Rcuisine Rank</th></tr></thead><tbody><tr><td>134986</td><td>0</td><td>0</td><td>8</td><td>8</td><td>1.0</td><td>International</td><td>1</td><td>1</td></tr><tr><td>135034</td><td>0</td><td>0</td><td>5</td><td>5</td><td>1.0</td><td>Japanese</td><td>1</td><td>1</td></tr><tr><td>132955</td><td>0</td><td>0</td><td>5</td><td>5</td><td>1.0</td><td>Bar_Pub_Brewery</td><td>1</td><td>1</td></tr><tr><td>132922</td><td>0</td><td>1</td><td>5</td><td>6</td><td>0.8333333333333334</td><td>Cafeteria</td><td>4</td><td>1</td></tr><tr><td>132755</td><td>0</td><td>1</td><td>4</td><td>5</td><td>0.8</td><td>Mexican</td><td>5</td><td>1</td></tr></tbody></table></div>"
      ]
     },
     "metadata": {},
     "output_type": "display_data"
    }
   ],
   "source": [
    "display(\n",
    "  rating.groupBy(\"placeID\")\n",
    "        .pivot(\"rating\")\n",
    "        .count()\n",
    "        .fillna(0)\n",
    "        .withColumn(\"Total\", F.col(\"0\") + F.col(\"1\") + F.col(\"2\"))\n",
    "        .withColumn(\"NPS\", (F.col(\"2\") / F.col(\"Total\") - (F.col(\"0\") / F.col(\"Total\"))))\n",
    "        .join(chefcuisine, \"placeID\", \"left\")\n",
    "        .withColumn(\"Global Rank\", F.rank().over(Window.orderBy(F.desc(\"NPS\"))))\n",
    "        .withColumn(\"Rcuisine Rank\", F.rank().over(Window.partitionBy(\"Rcuisine\").orderBy(F.desc(\"NPS\"))))\n",
    "        .orderBy(\"Global Rank\")\n",
    "        .head(5)\n",
    "        #.select(\"placeID\", \"Rcuisine\", \"NPS\", \"Global Rank\", \"Rank\")\n",
    "        )"
   ]
  },
  {
   "cell_type": "markdown",
   "metadata": {},
   "source": [
    "- Ce ranking est-il représentatif ? Nombre d'utilisateurs qui ont donné leur review\n",
    "- En utilisant le résultat d'au dessus, joindre le nombre d'utilisateurs pour chaque placeID."
   ]
  },
  {
   "cell_type": "code",
   "execution_count": 35,
   "metadata": {},
   "outputs": [
    {
     "data": {
      "text/html": [
       "<style scoped>\n",
       "  .table-result-container {\n",
       "    max-height: 300px;\n",
       "    overflow: auto;\n",
       "  }\n",
       "  table, th, td {\n",
       "    border: 1px solid black;\n",
       "    border-collapse: collapse;\n",
       "  }\n",
       "  th, td {\n",
       "    padding: 5px;\n",
       "  }\n",
       "  th {\n",
       "    text-align: left;\n",
       "  }\n",
       "</style><div class='table-result-container'><table class='table-result'><thead style='background-color: white'><tr><th>placeID</th><th>0</th><th>1</th><th>2</th><th>Total</th><th>NPS</th><th>Rcuisine</th><th>Global Rank</th><th>Rcuisine Rank</th><th>Rcuisine</th><th>users</th><th>count_users</th></tr></thead><tbody><tr><td>132955</td><td>0</td><td>0</td><td>5</td><td>5</td><td>1.0</td><td>Bar_Pub_Brewery</td><td>1</td><td>1</td><td>Bar_Pub_Brewery</td><td>List(U1135)</td><td>1</td></tr><tr><td>134986</td><td>0</td><td>0</td><td>8</td><td>8</td><td>1.0</td><td>International</td><td>1</td><td>1</td><td>International</td><td>List(U1135)</td><td>1</td></tr><tr><td>135034</td><td>0</td><td>0</td><td>5</td><td>5</td><td>1.0</td><td>Japanese</td><td>1</td><td>1</td><td>Japanese</td><td>List(U1108, U1093, U1016, U1135, U1004, U1013, U1014)</td><td>7</td></tr><tr><td>132922</td><td>0</td><td>1</td><td>5</td><td>6</td><td>0.8333333333333334</td><td>Cafeteria</td><td>4</td><td>1</td><td>Cafeteria</td><td>List(U1108, U1128, U1008, U1135, U1105, U1101, U1009, U1004, U1060)</td><td>9</td></tr><tr><td>132755</td><td>0</td><td>1</td><td>4</td><td>5</td><td>0.8</td><td>Mexican</td><td>5</td><td>1</td><td>Mexican</td><td>List(U1075, U1002, U1134, U1025, U1119, U1076, U1020, U1054, U1111, U1084, U1100, U1045, U1128, U1068, U1123, U1135, U1081, U1038, U1083, U1037, U1079, U1103, U1048, U1089, U1136, U1030, U1101, U1078, U1072, U1071, U1110, U1069, U1097, U1096, U1032, U1003, U1116, U1042, U1009, U1132, U1077, U1029, U1114, U1085, U1028, U1010, U1033, U1066, U1015, U1056, U1008, U1126, U1006, U1036, U1088, U1053, U1109, U1130, U1098, U1022, U1099, U1080, U1070, U1112, U1133, U1044, U1050, U1051, U1061, U1049, U1060, U1131, U1067, U1011, U1082, U1091, U1018, U1137, U1127, U1065, U1125, U1059, U1026, U1031, U1034, U1120, U1023, U1108, U1124, U1063, U1062, U1129, U1121, U1064, U1107, U1004, U1094)</td><td>97</td></tr></tbody></table></div>"
      ]
     },
     "metadata": {},
     "output_type": "display_data"
    }
   ],
   "source": [
    "from pyspark.sql.window import Window\n",
    "\n",
    "nps = (rating.groupBy(\"placeID\")\n",
    "             .pivot(\"rating\")\n",
    "             .count()\n",
    "             .fillna(0)\n",
    "             .withColumn(\"Total\", F.col(\"0\") + F.col(\"1\") + F.col(\"2\"))\n",
    "             .withColumn(\"NPS\", (F.col(\"2\") / F.col(\"Total\") - (F.col(\"0\") / F.col(\"Total\"))))\n",
    "             .join(chefcuisine, \"placeID\", \"left\")\n",
    "             .withColumn(\"Global Rank\", F.rank().over(Window.orderBy(F.desc(\"NPS\"))))\n",
    "             .withColumn(\"Rcuisine Rank\", F.rank().over(Window.partitionBy(\"Rcuisine\").orderBy(F.desc(\"NPS\"))))\n",
    "             .orderBy(\"Global Rank\")\n",
    "             .join(prospects, \"placeID\", \"left\"))\n",
    "\n",
    "display(nps.head(5))"
   ]
  },
  {
   "cell_type": "markdown",
   "metadata": {},
   "source": [
    "#### Formatage"
   ]
  },
  {
   "cell_type": "code",
   "execution_count": 37,
   "metadata": {},
   "outputs": [
    {
     "data": {
      "text/html": [
       "<style scoped>\n",
       "  .table-result-container {\n",
       "    max-height: 300px;\n",
       "    overflow: auto;\n",
       "  }\n",
       "  table, th, td {\n",
       "    border: 1px solid black;\n",
       "    border-collapse: collapse;\n",
       "  }\n",
       "  th, td {\n",
       "    padding: 5px;\n",
       "  }\n",
       "  th {\n",
       "    text-align: left;\n",
       "  }\n",
       "</style><div class='table-result-container'><table class='table-result'><thead style='background-color: white'><tr><th>placeID</th><th>hours</th><th>days</th></tr></thead><tbody><tr><td>135111</td><td>00:00-23:30;</td><td>Mon;Tue;Wed;Thu;Fri;</td></tr><tr><td>135111</td><td>00:00-23:30;</td><td>Sat;</td></tr><tr><td>135111</td><td>00:00-23:30;</td><td>Sun;</td></tr><tr><td>135110</td><td>08:00-19:00;</td><td>Mon;Tue;Wed;Thu;Fri;</td></tr><tr><td>135110</td><td>00:00-00:00;</td><td>Sat;</td></tr></tbody></table></div>"
      ]
     },
     "metadata": {},
     "output_type": "display_data"
    }
   ],
   "source": [
    "hours = datasets[\"chefmozhours4\"]\n",
    "display(hours.head(5))"
   ]
  },
  {
   "cell_type": "markdown",
   "metadata": {},
   "source": [
    "- Reformater le dataset pour le rendre plus lisible"
   ]
  },
  {
   "cell_type": "code",
   "execution_count": 39,
   "metadata": {},
   "outputs": [
    {
     "data": {
      "text/html": [
       "<style scoped>\n",
       "  .table-result-container {\n",
       "    max-height: 300px;\n",
       "    overflow: auto;\n",
       "  }\n",
       "  table, th, td {\n",
       "    border: 1px solid black;\n",
       "    border-collapse: collapse;\n",
       "  }\n",
       "  th, td {\n",
       "    padding: 5px;\n",
       "  }\n",
       "  th {\n",
       "    text-align: left;\n",
       "  }\n",
       "</style><div class='table-result-container'><table class='table-result'><thead style='background-color: white'><tr><th>placeID</th><th>Fri</th><th>Mon</th><th>Sat</th><th>Sun</th><th>Thu</th><th>Tue</th><th>Wed</th></tr></thead><tbody><tr><td>132023</td><td>11:00-00:00;</td><td>11:00-00:00;</td><td>11:00-00:00;</td><td>11:00-00:00;</td><td>11:00-00:00;</td><td>11:00-00:00;</td><td>11:00-00:00;</td></tr><tr><td>132012</td><td>12:00-22:00;</td><td>12:00-22:00;</td><td>12:00-22:00;</td><td>12:00-22:00;</td><td>12:00-22:00;</td><td>12:00-22:00;</td><td>12:00-22:00;</td></tr><tr><td>132026</td><td>12:00-14:30;</td><td>12:00-14:30;</td><td>null</td><td>null</td><td>12:00-14:30;</td><td>12:00-14:30;</td><td>12:00-14:30;</td></tr><tr><td>132030</td><td>12:00-15:00;15:00-21:00;</td><td>12:00-15:00;15:00-21:00;</td><td>12:00-15:00;15:00-21:00;</td><td>12:00-15:00;15:00-21:00;</td><td>12:00-15:00;15:00-21:00;</td><td>12:00-15:00;15:00-21:00;</td><td>12:00-15:00;15:00-21:00;</td></tr><tr><td>132024</td><td>11:00-21:00;</td><td>11:00-21:00;</td><td>11:00-21:00;</td><td>11:00-21:00;</td><td>11:00-21:00;</td><td>11:00-21:00;</td><td>11:00-21:00;</td></tr></tbody></table></div>"
      ]
     },
     "metadata": {},
     "output_type": "display_data"
    }
   ],
   "source": [
    "hours_1 = (hours.withColumn(\"days_splitted\", F.split(\"days\", \";\"))\n",
    "                                    .withColumn(\"day\", F.explode(\"days_splitted\"))\n",
    "                                    .filter(F.col(\"day\") != \"\")\n",
    "                                    .groupBy(\"placeID\")\n",
    "                                    .pivot(\"day\").agg(F.first(\"hours\"))\n",
    "           )\n",
    "\n",
    "display(hours_1.head(5))"
   ]
  },
  {
   "cell_type": "markdown",
   "metadata": {},
   "source": [
    "### Construire un modèle de recommandation à partir du dataset rating"
   ]
  },
  {
   "cell_type": "code",
   "execution_count": 41,
   "metadata": {},
   "outputs": [
    {
     "data": {
      "text/html": [
       "<style scoped>\n",
       "  .table-result-container {\n",
       "    max-height: 300px;\n",
       "    overflow: auto;\n",
       "  }\n",
       "  table, th, td {\n",
       "    border: 1px solid black;\n",
       "    border-collapse: collapse;\n",
       "  }\n",
       "  th, td {\n",
       "    padding: 5px;\n",
       "  }\n",
       "  th {\n",
       "    text-align: left;\n",
       "  }\n",
       "</style><div class='table-result-container'><table class='table-result'><thead style='background-color: white'><tr><th>userID</th><th>placeID</th><th>rating</th><th>food_rating</th><th>service_rating</th></tr></thead><tbody><tr><td>U1077</td><td>135085</td><td>2</td><td>2</td><td>2</td></tr><tr><td>U1077</td><td>135038</td><td>2</td><td>2</td><td>1</td></tr><tr><td>U1077</td><td>132825</td><td>2</td><td>2</td><td>2</td></tr><tr><td>U1077</td><td>135060</td><td>1</td><td>2</td><td>2</td></tr><tr><td>U1068</td><td>135104</td><td>1</td><td>1</td><td>2</td></tr></tbody></table></div>"
      ]
     },
     "metadata": {},
     "output_type": "display_data"
    }
   ],
   "source": [
    "rating = datasets['rating_final']\n",
    "display(rating.head(5))"
   ]
  },
  {
   "cell_type": "markdown",
   "metadata": {},
   "source": [
    "#### Preprocessing"
   ]
  },
  {
   "cell_type": "code",
   "execution_count": 43,
   "metadata": {},
   "outputs": [
    {
     "data": {
      "text/html": [
       "<style scoped>\n",
       "  .table-result-container {\n",
       "    max-height: 300px;\n",
       "    overflow: auto;\n",
       "  }\n",
       "  table, th, td {\n",
       "    border: 1px solid black;\n",
       "    border-collapse: collapse;\n",
       "  }\n",
       "  th, td {\n",
       "    padding: 5px;\n",
       "  }\n",
       "  th {\n",
       "    text-align: left;\n",
       "  }\n",
       "</style><div class='table-result-container'><table class='table-result'><thead style='background-color: white'><tr><th>userID</th><th>placeID</th><th>rating</th><th>food_rating</th><th>service_rating</th><th>userIdIndex</th></tr></thead><tbody><tr><td>U1077</td><td>135085</td><td>2</td><td>2</td><td>2</td><td>112.0</td></tr><tr><td>U1077</td><td>135038</td><td>2</td><td>2</td><td>1</td><td>112.0</td></tr><tr><td>U1077</td><td>132825</td><td>2</td><td>2</td><td>2</td><td>112.0</td></tr><tr><td>U1077</td><td>135060</td><td>1</td><td>2</td><td>2</td><td>112.0</td></tr><tr><td>U1068</td><td>135104</td><td>1</td><td>1</td><td>2</td><td>81.0</td></tr></tbody></table></div>"
      ]
     },
     "metadata": {},
     "output_type": "display_data"
    }
   ],
   "source": [
    "userIdIndexer = StringIndexer(inputCol=\"userID\", outputCol=\"userIdIndex\").fit(rating)\n",
    "rating = userIdIndexer.transform(rating)\n",
    "display(rating.head(5))"
   ]
  },
  {
   "cell_type": "code",
   "execution_count": 44,
   "metadata": {},
   "outputs": [
    {
     "data": {
      "text/html": [
       "<style scoped>\n",
       "  .ansiout {\n",
       "    display: block;\n",
       "    unicode-bidi: embed;\n",
       "    white-space: pre-wrap;\n",
       "    word-wrap: break-word;\n",
       "    word-break: break-all;\n",
       "    font-family: \"Source Code Pro\", \"Menlo\", monospace;;\n",
       "    font-size: 13px;\n",
       "    color: #555;\n",
       "    margin-left: 4px;\n",
       "    line-height: 19px;\n",
       "  }\n",
       "</style>\n",
       "<div class=\"ansiout\">root\n",
       "-- userID: string (nullable = true)\n",
       "-- placeID: string (nullable = true)\n",
       "-- rating: string (nullable = true)\n",
       "-- food_rating: string (nullable = true)\n",
       "-- service_rating: string (nullable = true)\n",
       "-- userIdIndex: double (nullable = false)\n",
       "\n",
       "</div>"
      ]
     },
     "metadata": {},
     "output_type": "display_data"
    }
   ],
   "source": [
    "rating.printSchema()"
   ]
  },
  {
   "cell_type": "code",
   "execution_count": 45,
   "metadata": {},
   "outputs": [
    {
     "data": {
      "text/html": [
       "<style scoped>\n",
       "  .ansiout {\n",
       "    display: block;\n",
       "    unicode-bidi: embed;\n",
       "    white-space: pre-wrap;\n",
       "    word-wrap: break-word;\n",
       "    word-break: break-all;\n",
       "    font-family: \"Source Code Pro\", \"Menlo\", monospace;;\n",
       "    font-size: 13px;\n",
       "    color: #555;\n",
       "    margin-left: 4px;\n",
       "    line-height: 19px;\n",
       "  }\n",
       "</style>\n",
       "<div class=\"ansiout\">root\n",
       "-- userIdIndex: double (nullable = false)\n",
       "-- placeID: integer (nullable = true)\n",
       "-- rating: integer (nullable = true)\n",
       "\n",
       "</div>"
      ]
     },
     "metadata": {},
     "output_type": "display_data"
    }
   ],
   "source": [
    "rating = rating.select(\n",
    "  F.col('userIdIndex'),\n",
    "  F.col('placeID').cast(IntegerType()),\n",
    "  F.col('rating').cast(IntegerType()),\n",
    "                       )\n",
    "rating.printSchema()"
   ]
  },
  {
   "cell_type": "code",
   "execution_count": 46,
   "metadata": {},
   "outputs": [
    {
     "data": {
      "text/html": [
       "<style scoped>\n",
       "  .table-result-container {\n",
       "    max-height: 300px;\n",
       "    overflow: auto;\n",
       "  }\n",
       "  table, th, td {\n",
       "    border: 1px solid black;\n",
       "    border-collapse: collapse;\n",
       "  }\n",
       "  th, td {\n",
       "    padding: 5px;\n",
       "  }\n",
       "  th {\n",
       "    text-align: left;\n",
       "  }\n",
       "</style><div class='table-result-container'><table class='table-result'><thead style='background-color: white'><tr><th>userIdIndex</th><th>placeID</th><th>rating</th></tr></thead><tbody><tr><td>112.0</td><td>135085</td><td>2</td></tr><tr><td>112.0</td><td>135038</td><td>2</td></tr><tr><td>112.0</td><td>132825</td><td>2</td></tr><tr><td>112.0</td><td>135060</td><td>1</td></tr><tr><td>81.0</td><td>135104</td><td>1</td></tr></tbody></table></div>"
      ]
     },
     "metadata": {},
     "output_type": "display_data"
    }
   ],
   "source": [
    "display(rating.head(5))"
   ]
  },
  {
   "cell_type": "markdown",
   "metadata": {},
   "source": [
    "#### Gridsearch et cross validation pour déterminer les meilleurs paramètres du modèle ALS"
   ]
  },
  {
   "cell_type": "code",
   "execution_count": 48,
   "metadata": {},
   "outputs": [
    {
     "data": {
      "text/html": [
       "<style scoped>\n",
       "  .ansiout {\n",
       "    display: block;\n",
       "    unicode-bidi: embed;\n",
       "    white-space: pre-wrap;\n",
       "    word-wrap: break-word;\n",
       "    word-break: break-all;\n",
       "    font-family: \"Source Code Pro\", \"Menlo\", monospace;;\n",
       "    font-size: 13px;\n",
       "    color: #555;\n",
       "    margin-left: 4px;\n",
       "    line-height: 19px;\n",
       "  }\n",
       "</style>\n",
       "<div class=\"ansiout\"></div>"
      ]
     },
     "metadata": {},
     "output_type": "display_data"
    }
   ],
   "source": [
    "from pyspark.ml.recommendation import ALS\n",
    "from pyspark.ml.evaluation import RegressionEvaluator\n",
    "from pyspark.ml.tuning import ParamGridBuilder, CrossValidator\n",
    "\n",
    "train_set, test_set = rating.randomSplit([0.8, 0.2], seed=100)\n",
    "\n",
    "als = ALS(userCol=\"userIdIndex\", itemCol=\"placeID\", ratingCol=\"rating\", coldStartStrategy=\"drop\", nonnegative=True)\n",
    "\n",
    "evaluator = RegressionEvaluator(metricName=\"rmse\", labelCol=\"rating\", predictionCol=\"prediction\")\n",
    "\n",
    "paramGrid = ParamGridBuilder() \\\n",
    "                    .addGrid(als.rank, [1, 5]) \\\n",
    "                    .addGrid(als.alpha, [2.0, 3.0])\\\n",
    "                    .build()"
   ]
  },
  {
   "cell_type": "code",
   "execution_count": 49,
   "metadata": {},
   "outputs": [
    {
     "data": {
      "text/html": [
       "<style scoped>\n",
       "  .ansiout {\n",
       "    display: block;\n",
       "    unicode-bidi: embed;\n",
       "    white-space: pre-wrap;\n",
       "    word-wrap: break-word;\n",
       "    word-break: break-all;\n",
       "    font-family: \"Source Code Pro\", \"Menlo\", monospace;;\n",
       "    font-size: 13px;\n",
       "    color: #555;\n",
       "    margin-left: 4px;\n",
       "    line-height: 19px;\n",
       "  }\n",
       "</style>\n",
       "<div class=\"ansiout\"></div>"
      ]
     },
     "metadata": {},
     "output_type": "display_data"
    }
   ],
   "source": [
    "cv = CrossValidator(\n",
    "                    estimator=als, \n",
    "                    evaluator=evaluator, \n",
    "                    estimatorParamMaps=paramGrid, \n",
    "                    numFolds=5\n",
    "                    )\n",
    "\n",
    "model = cv.fit(train_set)"
   ]
  },
  {
   "cell_type": "markdown",
   "metadata": {},
   "source": [
    "## Evaluation"
   ]
  },
  {
   "cell_type": "code",
   "execution_count": 51,
   "metadata": {},
   "outputs": [
    {
     "data": {
      "text/html": [
       "<style scoped>\n",
       "  .ansiout {\n",
       "    display: block;\n",
       "    unicode-bidi: embed;\n",
       "    white-space: pre-wrap;\n",
       "    word-wrap: break-word;\n",
       "    word-break: break-all;\n",
       "    font-family: \"Source Code Pro\", \"Menlo\", monospace;;\n",
       "    font-size: 13px;\n",
       "    color: #555;\n",
       "    margin-left: 4px;\n",
       "    line-height: 19px;\n",
       "  }\n",
       "</style>\n",
       "<div class=\"ansiout\"></div>"
      ]
     },
     "metadata": {},
     "output_type": "display_data"
    }
   ],
   "source": [
    "predictions = model.transform(test_set)"
   ]
  },
  {
   "cell_type": "code",
   "execution_count": 52,
   "metadata": {},
   "outputs": [
    {
     "data": {
      "text/html": [
       "<style scoped>\n",
       "  .table-result-container {\n",
       "    max-height: 300px;\n",
       "    overflow: auto;\n",
       "  }\n",
       "  table, th, td {\n",
       "    border: 1px solid black;\n",
       "    border-collapse: collapse;\n",
       "  }\n",
       "  th, td {\n",
       "    padding: 5px;\n",
       "  }\n",
       "  th {\n",
       "    text-align: left;\n",
       "  }\n",
       "</style><div class='table-result-container'><table class='table-result'><thead style='background-color: white'><tr><th>userIdIndex</th><th>placeID</th><th>rating</th><th>prediction</th><th>userID</th></tr></thead><tbody><tr><td>26.0</td><td>135027</td><td>0</td><td>1.0</td><td>U1116</td></tr><tr><td>48.0</td><td>135027</td><td>2</td><td>1.0</td><td>U1132</td></tr><tr><td>23.0</td><td>135027</td><td>0</td><td>0.0</td><td>U1081</td></tr><tr><td>12.0</td><td>135066</td><td>2</td><td>2.0</td><td>U1016</td></tr><tr><td>81.0</td><td>132663</td><td>1</td><td>1.0</td><td>U1068</td></tr></tbody></table></div>"
      ]
     },
     "metadata": {},
     "output_type": "display_data"
    }
   ],
   "source": [
    "predictions = IndexToString(inputCol=\"userIdIndex\", outputCol=\"userID\").transform(predictions)\n",
    "predictions = predictions.withColumn(\"prediction\", F.abs(F.round(predictions[\"prediction\"],0)))\n",
    "display(predictions.head(5))"
   ]
  },
  {
   "cell_type": "markdown",
   "metadata": {},
   "source": [
    "- Utiliser les datasets userpayment et chefmozaccepts pour filtrez les prédictions et ne garder que les recommandations concernant des users ayant des moyens de paiment compatibles avec les restaurants"
   ]
  },
  {
   "cell_type": "code",
   "execution_count": 54,
   "metadata": {},
   "outputs": [
    {
     "data": {
      "text/html": [
       "<style scoped>\n",
       "  .table-result-container {\n",
       "    max-height: 300px;\n",
       "    overflow: auto;\n",
       "  }\n",
       "  table, th, td {\n",
       "    border: 1px solid black;\n",
       "    border-collapse: collapse;\n",
       "  }\n",
       "  th, td {\n",
       "    padding: 5px;\n",
       "  }\n",
       "  th {\n",
       "    text-align: left;\n",
       "  }\n",
       "</style><div class='table-result-container'><table class='table-result'><thead style='background-color: white'><tr><th>userID</th><th>Upayment</th></tr></thead><tbody><tr><td>U1001</td><td>cash</td></tr><tr><td>U1002</td><td>cash</td></tr><tr><td>U1003</td><td>cash</td></tr><tr><td>U1004</td><td>cash</td></tr><tr><td>U1004</td><td>bank_debit_cards</td></tr></tbody></table></div>"
      ]
     },
     "metadata": {},
     "output_type": "display_data"
    }
   ],
   "source": [
    "userpayment = datasets['userpayment']\n",
    "display(userpayment.head(5))"
   ]
  },
  {
   "cell_type": "code",
   "execution_count": 55,
   "metadata": {},
   "outputs": [
    {
     "data": {
      "text/html": [
       "<style scoped>\n",
       "  .table-result-container {\n",
       "    max-height: 300px;\n",
       "    overflow: auto;\n",
       "  }\n",
       "  table, th, td {\n",
       "    border: 1px solid black;\n",
       "    border-collapse: collapse;\n",
       "  }\n",
       "  th, td {\n",
       "    padding: 5px;\n",
       "  }\n",
       "  th {\n",
       "    text-align: left;\n",
       "  }\n",
       "</style><div class='table-result-container'><table class='table-result'><thead style='background-color: white'><tr><th>placeID</th><th>Rpayment</th></tr></thead><tbody><tr><td>135110</td><td>cash</td></tr><tr><td>135110</td><td>VISA</td></tr><tr><td>135110</td><td>MasterCard-Eurocard</td></tr><tr><td>135110</td><td>American_Express</td></tr><tr><td>135110</td><td>bank_debit_cards</td></tr></tbody></table></div>"
      ]
     },
     "metadata": {},
     "output_type": "display_data"
    }
   ],
   "source": [
    "accepted_payment = datasets['chefmozaccepts']\n",
    "display(accepted_payment.head(5))"
   ]
  },
  {
   "cell_type": "code",
   "execution_count": 56,
   "metadata": {},
   "outputs": [
    {
     "data": {
      "text/html": [
       "<style scoped>\n",
       "  .table-result-container {\n",
       "    max-height: 300px;\n",
       "    overflow: auto;\n",
       "  }\n",
       "  table, th, td {\n",
       "    border: 1px solid black;\n",
       "    border-collapse: collapse;\n",
       "  }\n",
       "  th, td {\n",
       "    padding: 5px;\n",
       "  }\n",
       "  th {\n",
       "    text-align: left;\n",
       "  }\n",
       "</style><div class='table-result-container'><table class='table-result'><thead style='background-color: white'><tr><th>userID</th><th>placeID</th></tr></thead><tbody><tr><td>U1081</td><td>135110</td></tr><tr><td>U1006</td><td>135107</td></tr><tr><td>U1042</td><td>135107</td></tr><tr><td>U1029</td><td>135105</td></tr><tr><td>U1070</td><td>135104</td></tr></tbody></table></div>"
      ]
     },
     "metadata": {},
     "output_type": "display_data"
    }
   ],
   "source": [
    "payment_matching = userpayment.join(accepted_payment, userpayment['Upayment'] == accepted_payment['Rpayment'], how='inner')\n",
    "payment_matching = payment_matching.select(\"userID\", \"placeID\").dropDuplicates()\n",
    "display(payment_matching.head(5))"
   ]
  },
  {
   "cell_type": "code",
   "execution_count": 57,
   "metadata": {},
   "outputs": [
    {
     "data": {
      "text/html": [
       "<style scoped>\n",
       "  .ansiout {\n",
       "    display: block;\n",
       "    unicode-bidi: embed;\n",
       "    white-space: pre-wrap;\n",
       "    word-wrap: break-word;\n",
       "    word-break: break-all;\n",
       "    font-family: \"Source Code Pro\", \"Menlo\", monospace;;\n",
       "    font-size: 13px;\n",
       "    color: #555;\n",
       "    margin-left: 4px;\n",
       "    line-height: 19px;\n",
       "  }\n",
       "</style>\n",
       "<div class=\"ansiout\"><span class=\"ansired\">Out[</span><span class=\"ansired\">39</span><span class=\"ansired\">]: </span>(67198, 232)</div>"
      ]
     },
     "metadata": {},
     "output_type": "display_data"
    }
   ],
   "source": [
    "payment_matching.count(), predictions.count()"
   ]
  },
  {
   "cell_type": "code",
   "execution_count": 58,
   "metadata": {},
   "outputs": [
    {
     "data": {
      "text/html": [
       "<style scoped>\n",
       "  .ansiout {\n",
       "    display: block;\n",
       "    unicode-bidi: embed;\n",
       "    white-space: pre-wrap;\n",
       "    word-wrap: break-word;\n",
       "    word-break: break-all;\n",
       "    font-family: \"Source Code Pro\", \"Menlo\", monospace;;\n",
       "    font-size: 13px;\n",
       "    color: #555;\n",
       "    margin-left: 4px;\n",
       "    line-height: 19px;\n",
       "  }\n",
       "</style>\n",
       "<div class=\"ansiout\"><span class=\"ansired\">Out[</span><span class=\"ansired\">40</span><span class=\"ansired\">]: </span>196</div>"
      ]
     },
     "metadata": {},
     "output_type": "display_data"
    }
   ],
   "source": [
    "predictions_filtered = predictions.join(payment_matching, [\"userID\", \"placeID\"], how='inner').drop(\"userIdIndex\")\n",
    "predictions_filtered.count()"
   ]
  },
  {
   "cell_type": "code",
   "execution_count": 59,
   "metadata": {},
   "outputs": [
    {
     "data": {
      "text/html": [
       "<style scoped>\n",
       "  .table-result-container {\n",
       "    max-height: 300px;\n",
       "    overflow: auto;\n",
       "  }\n",
       "  table, th, td {\n",
       "    border: 1px solid black;\n",
       "    border-collapse: collapse;\n",
       "  }\n",
       "  th, td {\n",
       "    padding: 5px;\n",
       "  }\n",
       "  th {\n",
       "    text-align: left;\n",
       "  }\n",
       "</style><div class='table-result-container'><table class='table-result'><thead style='background-color: white'><tr><th>userID</th><th>placeID</th><th>rating</th><th>prediction</th></tr></thead><tbody><tr><td>U1116</td><td>135027</td><td>0</td><td>1.0</td></tr><tr><td>U1132</td><td>135027</td><td>2</td><td>1.0</td></tr><tr><td>U1081</td><td>135027</td><td>0</td><td>0.0</td></tr><tr><td>U1016</td><td>135066</td><td>2</td><td>2.0</td></tr><tr><td>U1124</td><td>135071</td><td>1</td><td>1.0</td></tr></tbody></table></div>"
      ]
     },
     "metadata": {},
     "output_type": "display_data"
    }
   ],
   "source": [
    "display(predictions_filtered.head(5))"
   ]
  },
  {
   "cell_type": "code",
   "execution_count": 60,
   "metadata": {},
   "outputs": [
    {
     "data": {
      "text/html": [
       "<style scoped>\n",
       "  .ansiout {\n",
       "    display: block;\n",
       "    unicode-bidi: embed;\n",
       "    white-space: pre-wrap;\n",
       "    word-wrap: break-word;\n",
       "    word-break: break-all;\n",
       "    font-family: \"Source Code Pro\", \"Menlo\", monospace;;\n",
       "    font-size: 13px;\n",
       "    color: #555;\n",
       "    margin-left: 4px;\n",
       "    line-height: 19px;\n",
       "  }\n",
       "</style>\n",
       "<div class=\"ansiout\">Root-mean-square error = 0.7457361792078965\n",
       "</div>"
      ]
     },
     "metadata": {},
     "output_type": "display_data"
    }
   ],
   "source": [
    "rmse = evaluator.evaluate(predictions_filtered)\n",
    "print(\"Root-mean-square error = \" + str(rmse))"
   ]
  },
  {
   "cell_type": "markdown",
   "metadata": {},
   "source": [
    "- Les 10 meilleurs restaurants recommandés pour chacun des clients"
   ]
  },
  {
   "cell_type": "code",
   "execution_count": 62,
   "metadata": {},
   "outputs": [
    {
     "data": {
      "text/html": [
       "<style scoped>\n",
       "  .table-result-container {\n",
       "    max-height: 300px;\n",
       "    overflow: auto;\n",
       "  }\n",
       "  table, th, td {\n",
       "    border: 1px solid black;\n",
       "    border-collapse: collapse;\n",
       "  }\n",
       "  th, td {\n",
       "    padding: 5px;\n",
       "  }\n",
       "  th {\n",
       "    text-align: left;\n",
       "  }\n",
       "</style><div class='table-result-container'><table class='table-result'><thead style='background-color: white'><tr><th>userIdIndex</th><th>recommendations</th></tr></thead><tbody><tr><td>31</td><td>List(List(134986, 1.1379204), List(135109, 1.0855305), List(132922, 1.048903), List(132875, 1.0379986), List(132768, 1.036059), List(135073, 1.0314724), List(132584, 0.99903345), List(135034, 0.9964369), List(135055, 0.9938734), List(132937, 0.9907132))</td></tr><tr><td>85</td><td>List(List(134986, 1.3660666), List(135109, 1.3031728), List(132922, 1.2592016), List(132875, 1.246111), List(132768, 1.2437826), List(135073, 1.2382765), List(132584, 1.1993337), List(135034, 1.1962165), List(135055, 1.1931391), List(132937, 1.1893451))</td></tr><tr><td>137</td><td>List(List(134986, 1.9794658), List(135109, 1.888331), List(132922, 1.8246157), List(132875, 1.805647), List(132768, 1.8022733), List(135073, 1.7942947), List(132584, 1.7378654), List(135034, 1.7333486), List(135055, 1.7288893), List(132937, 1.7233919))</td></tr><tr><td>65</td><td>List(List(134986, 1.9940985), List(135109, 1.9022901), List(132922, 1.8381038), List(132875, 1.8189949), List(132768, 1.8155961), List(135073, 1.8075585), List(132584, 1.7507123), List(135034, 1.7461619), List(135055, 1.7416698), List(132937, 1.7361317))</td></tr><tr><td>53</td><td>List(List(134986, 1.6756427), List(135109, 1.5984961), List(132922, 1.5445603), List(132875, 1.5285031), List(132768, 1.525647), List(135073, 1.5188931), List(132584, 1.4711251), List(135034, 1.4673015), List(135055, 1.4635267), List(132937, 1.458873))</td></tr><tr><td>133</td><td>List(List(134986, 1.2302933), List(135109, 1.1736505), List(132922, 1.1340497), List(132875, 1.1222601), List(132768, 1.1201632), List(135073, 1.1152042), List(132584, 1.0801319), List(135034, 1.0773245), List(135055, 1.074553), List(132937, 1.0711362))</td></tr><tr><td>78</td><td>List(List(134986, 1.4288181), List(135109, 1.3630352), List(132922, 1.3170443), List(132875, 1.3033522), List(132768, 1.300917), List(135073, 1.2951579), List(132584, 1.2544261), List(135034, 1.2511657), List(135055, 1.247947), List(132937, 1.2439789))</td></tr><tr><td>108</td><td>List(List(134986, 2.2492387), List(135109, 2.1456838), List(132922, 2.0732849), List(132875, 2.051731), List(132768, 2.0478973), List(135073, 2.0388315), List(132584, 1.9747118), List(135034, 1.9695793), List(135055, 1.9645123), List(132937, 1.9582657))</td></tr><tr><td>34</td><td>List(List(132560, 0.0), List(132630, 0.0), List(132660, 0.0), List(132740, 0.0), List(132830, 0.0), List(132870, 0.0), List(135000, 0.0), List(135030, 0.0), List(135040, 0.0), List(135050, 0.0))</td></tr><tr><td>101</td><td>List(List(134986, 2.1958115), List(135109, 2.094716), List(132922, 2.0240371), List(132875, 2.0029953), List(132768, 1.9992527), List(135073, 1.990402), List(132584, 1.9278054), List(135034, 1.9227948), List(135055, 1.9178482), List(132937, 1.91175))</td></tr><tr><td>115</td><td>List(List(134986, 2.425187), List(135109, 2.3135314), List(132922, 2.235469), List(132875, 2.2122293), List(132768, 2.2080958), List(135073, 2.1983206), List(132584, 2.129185), List(135034, 2.123651), List(135055, 2.1181877), List(132937, 2.1114526))</td></tr><tr><td>126</td><td>List(List(134986, 1.998224), List(135109, 1.9062257), List(132922, 1.8419065), List(132875, 1.8227581), List(132768, 1.8193523), List(135073, 1.8112981), List(132584, 1.7543342), List(135034, 1.7497745), List(135055, 1.745273), List(132937, 1.7397234))</td></tr><tr><td>81</td><td>List(List(134986, 1.0263635), List(135109, 0.9791097), List(132922, 0.946073), List(132875, 0.93623763), List(132768, 0.9344883), List(135073, 0.9303513), List(132584, 0.9010925), List(135034, 0.8987505), List(135055, 0.89643836), List(132937, 0.8935879))</td></tr><tr><td>28</td><td>List(List(134986, 1.7017589), List(135109, 1.6234097), List(132922, 1.5686333), List(132875, 1.5523257), List(132768, 1.5494254), List(135073, 1.5425661), List(132584, 1.4940536), List(135034, 1.4901704), List(135055, 1.4863367), List(132937, 1.4816105))</td></tr><tr><td>76</td><td>List(List(134986, 1.9351846), List(135109, 1.8460885), List(132922, 1.7837986), List(132875, 1.7652541), List(132768, 1.7619559), List(135073, 1.7541558), List(132584, 1.6989889), List(135034, 1.694573), List(135055, 1.6902136), List(132937, 1.6848391))</td></tr><tr><td>26</td><td>List(List(134986, 1.9847442), List(135109, 1.8933665), List(132922, 1.8294812), List(132875, 1.810462), List(132768, 1.8070792), List(135073, 1.7990793), List(132584, 1.7424997), List(135034, 1.7379707), List(135055, 1.7334996), List(132937, 1.7279875))</td></tr><tr><td>27</td><td>List(List(134986, 2.1625195), List(135109, 2.062957), List(132922, 1.9933494), List(132875, 1.9726267), List(132768, 1.9689409), List(135073, 1.9602244), List(132584, 1.8985769), List(135034, 1.8936423), List(135055, 1.8887707), List(132937, 1.8827648))</td></tr><tr><td>44</td><td>List(List(134986, 1.9261569), List(135109, 1.8374765), List(132922, 1.775477), List(132875, 1.7570193), List(132768, 1.7537364), List(135073, 1.7459726), List(132584, 1.6910632), List(135034, 1.6866678), List(135055, 1.6823287), List(132937, 1.6769793))</td></tr><tr><td>103</td><td>List(List(134986, 2.8327975), List(135109, 2.7023754), List(132922, 2.611193), List(132875, 2.5840468), List(132768, 2.5792186), List(135073, 2.5678005), List(132584, 2.4870453), List(135034, 2.480581), List(135055, 2.4741995), List(132937, 2.4663322))</td></tr><tr><td>12</td><td>List(List(134986, 2.4977367), List(135109, 2.3827407), List(132922, 2.3023434), List(132875, 2.278408), List(132768, 2.274151), List(135073, 2.2640834), List(132584, 2.19288), List(135034, 2.1871803), List(135055, 2.1815534), List(132937, 2.1746168))</td></tr><tr><td>91</td><td>List(List(134986, 2.0635347), List(135109, 1.9685295), List(132922, 1.9021081), List(132875, 1.8823338), List(132768, 1.8788167), List(135073, 1.8704993), List(132584, 1.8116735), List(135034, 1.8069648), List(135055, 1.8023162), List(132937, 1.7965852))</td></tr><tr><td>22</td><td>List(List(134986, 1.5411137), List(135109, 1.4701608), List(132922, 1.4205552), List(132875, 1.4057871), List(132768, 1.4031605), List(135073, 1.3969487), List(132584, 1.3530158), List(135034, 1.3494991), List(135055, 1.3460274), List(132937, 1.3417474))</td></tr><tr><td>128</td><td>List(List(134986, 2.060967), List(135109, 1.9660798), List(132922, 1.8997412), List(132875, 1.8799914), List(132768, 1.8764787), List(135073, 1.8681717), List(132584, 1.809419), List(135034, 1.8047162), List(135055, 1.8000734), List(132937, 1.7943496))</td></tr><tr><td>122</td><td>List(List(134986, 1.0313766), List(135109, 0.983892), List(132922, 0.9506939), List(132875, 0.9408105), List(132768, 0.93905264), List(135073, 0.93489546), List(132584, 0.90549374), List(135034, 0.90314025), List(135055, 0.9008168), List(132937, 0.89795244))</td></tr><tr><td>93</td><td>List(List(134986, 1.5436653), List(135109, 1.4725949), List(132922, 1.4229071), List(132875, 1.4081146), List(132768, 1.4054836), List(135073, 1.3992616), List(132584, 1.3552558), List(135034, 1.3517333), List(135055, 1.3482559), List(132937, 1.3439687))</td></tr><tr><td>111</td><td>List(List(134986, 2.0186548), List(135109, 1.9257158), List(132922, 1.860739), List(132875, 1.8413948), List(132768, 1.8379542), List(135073, 1.8298177), List(132584, 1.7722713), List(135034, 1.7676649), List(135055, 1.7631174), List(132937, 1.7575111))</td></tr><tr><td>47</td><td>List(List(134986, 2.2877004), List(135109, 2.1823745), List(132922, 2.1087377), List(132875, 2.0868154), List(132768, 2.0829163), List(135073, 2.0736952), List(132584, 2.008479), List(135034, 2.0032587), List(135055, 1.9981052), List(132937, 1.9917517))</td></tr><tr><td>132</td><td>List(List(134986, 1.6238157), List(135109, 1.5490551), List(132922, 1.4967875), List(132875, 1.4812269), List(132768, 1.4784594), List(135073, 1.4719142), List(132584, 1.4256237), List(135034, 1.4219183), List(135055, 1.4182602), List(132937, 1.4137505))</td></tr><tr><td>1</td><td>List(List(134986, 2.1226041), List(135109, 2.0248795), List(132922, 1.9565567), List(132875, 1.9362164), List(132768, 1.9325986), List(135073, 1.924043), List(132584, 1.8635334), List(135034, 1.8586898), List(135055, 1.8539082), List(132937, 1.8480132))</td></tr><tr><td>52</td><td>List(List(134986, 2.4292781), List(135109, 2.317434), List(132922, 2.2392402), List(132875, 2.215961), List(132768, 2.2118206), List(135073, 2.202029), List(132584, 2.132777), List(135034, 2.1272335), List(135055, 2.121761), List(132937, 2.1150143))</td></tr><tr><td>13</td><td>List(List(134986, 0.5652263), List(135109, 0.5392032), List(132922, 0.5210097), List(132875, 0.51559323), List(132768, 0.5146299), List(135073, 0.51235163), List(132584, 0.4962386), List(135034, 0.4949488), List(135055, 0.49367547), List(132937, 0.49210572))</td></tr><tr><td>6</td><td>List(List(134986, 1.1173145), List(135109, 1.0658733), List(132922, 1.029909), List(132875, 1.0192021), List(132768, 1.0172977), List(135073, 1.0127943), List(132584, 0.9809426), List(135034, 0.978393), List(135055, 0.975876), List(132937, 0.97277296))</td></tr><tr><td>16</td><td>List(List(134986, 2.1889467), List(135109, 2.0881677), List(132922, 2.0177095), List(132875, 1.9967333), List(132768, 1.9930025), List(135073, 1.9841796), List(132584, 1.9217787), List(135034, 1.9167837), List(135055, 1.9118526), List(132937, 1.9057734))</td></tr><tr><td>86</td><td>List(List(134986, 2.1455426), List(135109, 2.0467618), List(132922, 1.9777006), List(132875, 1.9571404), List(132768, 1.9534836), List(135073, 1.9448357), List(132584, 1.883672), List(135034, 1.8787762), List(135055, 1.8739429), List(132937, 1.8679842))</td></tr><tr><td>3</td><td>List(List(134986, 1.4257258), List(135109, 1.3600852), List(132922, 1.3141938), List(132875, 1.3005315), List(132768, 1.2981014), List(135073, 1.2923548), List(132584, 1.2517112), List(135034, 1.2484579), List(135055, 1.2452462), List(132937, 1.2412866))</td></tr><tr><td>20</td><td>List(List(132560, 0.0), List(132630, 0.0), List(132660, 0.0), List(132740, 0.0), List(132830, 0.0), List(132870, 0.0), List(135000, 0.0), List(135030, 0.0), List(135040, 0.0), List(135050, 0.0))</td></tr><tr><td>40</td><td>List(List(134986, 2.004426), List(135109, 1.9121422), List(132922, 1.8476233), List(132875, 1.8284155), List(132768, 1.8249992), List(135073, 1.81692), List(132584, 1.7597792), List(135034, 1.7552054), List(135055, 1.75069), List(132937, 1.7451231))</td></tr><tr><td>94</td><td>List(List(134986, 2.0281937), List(135109, 1.9348156), List(132922, 1.8695319), List(132875, 1.8500962), List(132768, 1.8466394), List(135073, 1.8384644), List(132584, 1.7806461), List(135034, 1.776018), List(135055, 1.771449), List(132937, 1.7658162))</td></tr><tr><td>57</td><td>List(List(134986, 2.4175394), List(135109, 2.3062358), List(132922, 2.2284195), List(132875, 2.2052531), List(132768, 2.2011325), List(135073, 2.1913884), List(132584, 2.1224709), List(135034, 2.1169543), List(135055, 2.1115081), List(132937, 2.104794))</td></tr><tr><td>120</td><td>List(List(134986, 1.7471845), List(135109, 1.6667441), List(132922, 1.6105055), List(132875, 1.5937626), List(132768, 1.5907848), List(135073, 1.5837424), List(132584, 1.533935), List(135034, 1.5299481), List(135055, 1.5260121), List(132937, 1.5211598))</td></tr><tr><td>54</td><td>List(List(134986, 1.661601), List(135109, 1.5851008), List(132922, 1.5316169), List(132875, 1.5156943), List(132768, 1.5128622), List(135073, 1.5061649), List(132584, 1.4587971), List(135034, 1.4550055), List(135055, 1.4512624), List(132937, 1.4466478))</td></tr><tr><td>96</td><td>List(List(134986, 1.934466), List(135109, 1.8454031), List(132922, 1.7831362), List(132875, 1.7645987), List(132768, 1.7613016), List(135073, 1.7535044), List(132584, 1.698358), List(135034, 1.6939439), List(135055, 1.689586), List(132937, 1.6842135))</td></tr><tr><td>48</td><td>List(List(134986, 2.0243378), List(135109, 1.9311371), List(132922, 1.8659774), List(132875, 1.8465787), List(132768, 1.8431284), List(135073, 1.834969), List(132584, 1.7772607), List(135034, 1.7726413), List(135055, 1.7680811), List(132937, 1.762459))</td></tr><tr><td>5</td><td>List(List(132560, 0.0), List(132630, 0.0), List(132660, 0.0), List(132740, 0.0), List(132830, 0.0), List(132870, 0.0), List(135000, 0.0), List(135030, 0.0), List(135040, 0.0), List(135050, 0.0))</td></tr><tr><td>19</td><td>List(List(134986, 2.2226417), List(135109, 2.1203113), List(132922, 2.0487685), List(132875, 2.0274694), List(132768, 2.0236812), List(135073, 2.0147226), List(132584, 1.9513611), List(135034, 1.9462892), List(135055, 1.9412822), List(132937, 1.9351094))</td></tr><tr><td>92</td><td>List(List(134986, 2.0700462), List(135109, 1.9747411), List(132922, 1.9081101), List(132875, 1.8882735), List(132768, 1.8847452), List(135073, 1.8764015), List(132584, 1.8173902), List(135034, 1.8126665), List(135055, 1.8080033), List(132937, 1.8022543))</td></tr><tr><td>64</td><td>List(List(134986, 2.0476065), List(135109, 1.9533346), List(132922, 1.8874259), List(132875, 1.8678043), List(132768, 1.8643143), List(135073, 1.8560611), List(132584, 1.7976894), List(135034, 1.793017), List(135055, 1.7884042), List(132937, 1.7827176))</td></tr><tr><td>117</td><td>List(List(134986, 2.109765), List(135109, 2.0126314), List(132922, 1.944722), List(132875, 1.9245048), List(132768, 1.9209088), List(135073, 1.912405), List(132584, 1.8522614), List(135034, 1.8474472), List(135055, 1.8426944), List(132937, 1.8368351))</td></tr><tr><td>41</td><td>List(List(134986, 1.9427736), List(135109, 1.8533282), List(132922, 1.7907939), List(132875, 1.7721769), List(132768, 1.7688656), List(135073, 1.7610348), List(132584, 1.7056518), List(135034, 1.7012185), List(135055, 1.696842), List(132937, 1.6914464))</td></tr><tr><td>43</td><td>List(List(134986, 2.510869), List(135109, 2.3952684), List(132922, 2.314448), List(132875, 2.2903872), List(132768, 2.2861078), List(135073, 2.2759871), List(132584, 2.2044091), List(135034, 2.1986797), List(135055, 2.1930232), List(132937, 2.18605))</td></tr><tr><td>15</td><td>List(List(134986, 2.153181), List(135109, 2.0540485), List(132922, 1.9847416), List(132875, 1.9641082), List(132768, 1.9604384), List(135073, 1.9517596), List(132584, 1.8903782), List(135034, 1.8854649), List(135055, 1.8806144), List(132937, 1.8746345))</td></tr><tr><td>112</td><td>List(List(134986, 2.019436), List(135109, 1.9264609), List(132922, 1.8614589), List(132875, 1.8421072), List(132768, 1.8386654), List(135073, 1.8305256), List(132584, 1.772957), List(135034, 1.7683489), List(135055, 1.7637997), List(132937, 1.7581912))</td></tr><tr><td>37</td><td>List(List(134986, 1.6724409), List(135109, 1.5954416), List(132922, 1.5416088), List(132875, 1.5255823), List(132768, 1.5227318), List(135073, 1.5159907), List(132584, 1.4683139), List(135034, 1.4644977), List(135055, 1.4607301), List(132937, 1.4560853))</td></tr><tr><td>61</td><td>List(List(134986, 2.0916882), List(135109, 1.9953866), List(132922, 1.9280591), List(132875, 1.908015), List(132768, 1.9044499), List(135073, 1.896019), List(132584, 1.8363906), List(135034, 1.8316177), List(135055, 1.8269056), List(132937, 1.8210965))</td></tr><tr><td>127</td><td>List(List(134986, 1.0505012), List(135109, 1.0021361), List(132922, 0.96832246), List(132875, 0.95825577), List(132768, 0.9564653), List(135073, 0.9522311), List(132584, 0.9222841), List(135034, 0.919887), List(135055, 0.9175205), List(132937, 0.91460305))</td></tr><tr><td>88</td><td>List(List(134986, 0.70112824), List(135109, 0.6688482), List(132922, 0.6462802), List(132875, 0.6395615), List(132768, 0.6383665), List(135073, 0.6355405), List(132584, 0.6155532), List(135034, 0.6139533), List(135055, 0.6123739), List(132937, 0.61042666))</td></tr><tr><td>107</td><td>List(List(134986, 1.9744282), List(135109, 1.8835254), List(132922, 1.8199722), List(132875, 1.8010517), List(132768, 1.7976866), List(135073, 1.7897283), List(132584, 1.7334427), List(135034, 1.7289373), List(135055, 1.7244895), List(132937, 1.719006))</td></tr><tr><td>17</td><td>List(List(134986, 1.6646051), List(135109, 1.5879666), List(132922, 1.534386), List(132875, 1.5184345), List(132768, 1.5155975), List(135073, 1.508888), List(132584, 1.4614346), List(135034, 1.4576361), List(135055, 1.4538863), List(132937, 1.4492632))</td></tr><tr><td>9</td><td>List(List(134986, 2.43595), List(135109, 2.3237987), List(132922, 2.24539), List(132875, 2.2220469), List(132768, 2.217895), List(135073, 2.2080767), List(132584, 2.1386342), List(135034, 2.1330757), List(135055, 2.1275883), List(132937, 2.120823))</td></tr><tr><td>72</td><td>List(List(132560, 0.0), List(132630, 0.0), List(132660, 0.0), List(132740, 0.0), List(132830, 0.0), List(132870, 0.0), List(135000, 0.0), List(135030, 0.0), List(135040, 0.0), List(135050, 0.0))</td></tr><tr><td>35</td><td>List(List(134986, 1.2320285), List(135109, 1.1753058), List(132922, 1.1356491), List(132875, 1.1238428), List(132768, 1.1217431), List(135073, 1.1167771), List(132584, 1.0816554), List(135034, 1.078844), List(135055, 1.0760685), List(132937, 1.072647))</td></tr><tr><td>114</td><td>List(List(134986, 1.4510218), List(135109, 1.3842167), List(132922, 1.337511), List(132875, 1.3236063), List(132768, 1.3211331), List(135073, 1.3152845), List(132584, 1.2739198), List(135034, 1.2706088), List(135055, 1.26734), List(132937, 1.2633102))</td></tr><tr><td>4</td><td>List(List(134986, 1.738906), List(135109, 1.6588467), List(132922, 1.6028745), List(132875, 1.5862111), List(132768, 1.5832473), List(135073, 1.5762383), List(132584, 1.5266669), List(135034, 1.5226989), List(135055, 1.5187815), List(132937, 1.5139523))</td></tr><tr><td>55</td><td>List(List(134986, 2.2887409), List(135109, 2.1833673), List(132922, 2.1096969), List(132875, 2.0877645), List(132768, 2.0838635), List(135073, 2.0746384), List(132584, 2.0093925), List(135034, 2.00417), List(135055, 1.999014), List(132937, 1.9926577))</td></tr><tr><td>59</td><td>List(List(132560, 0.0), List(132630, 0.0), List(132660, 0.0), List(132740, 0.0), List(132830, 0.0), List(132870, 0.0), List(135000, 0.0), List(135030, 0.0), List(135040, 0.0), List(135050, 0.0))</td></tr><tr><td>100</td><td>List(List(134986, 2.6520345), List(135109, 2.5299346), List(132922, 2.4445708), List(132875, 2.419157), List(132768, 2.4146369), List(135073, 2.4039474), List(132584, 2.328345), List(135034, 2.3222933), List(135055, 2.316319), List(132937, 2.3089538))</td></tr><tr><td>8</td><td>List(List(134986, 2.464488), List(135109, 2.351023), List(132922, 2.2716956), List(132875, 2.248079), List(132768, 2.2438786), List(135073, 2.2339451), List(132584, 2.1636891), List(135034, 2.1580656), List(135055, 2.1525137), List(132937, 2.1456692))</td></tr><tr><td>23</td><td>List(List(134986, 0.75393003), List(135109, 0.719219), List(132922, 0.6949514), List(132875, 0.68772674), List(132768, 0.6864417), List(135073, 0.6834029), List(132584, 0.6619104), List(135034, 0.66019), List(135055, 0.6584916), List(132937, 0.65639776))</td></tr><tr><td>39</td><td>List(List(134986, 2.6590197), List(135109, 2.5365984), List(132922, 2.4510095), List(132875, 2.4255288), List(132768, 2.4209967), List(135073, 2.410279), List(132584, 2.3344777), List(135034, 2.3284101), List(135055, 2.32242), List(132937, 2.3150353))</td></tr><tr><td>49</td><td>List(List(134986, 1.8539829), List(135109, 1.7686255), List(132922, 1.7089492), List(132875, 1.691183), List(132768, 1.6880231), List(135073, 1.6805502), List(132584, 1.6276983), List(135034, 1.6234677), List(135055, 1.6192911), List(132937, 1.6141422))</td></tr><tr><td>7</td><td>List(List(134986, 2.5344782), List(135109, 2.4177907), List(132922, 2.3362105), List(132875, 2.3119233), List(132768, 2.3076036), List(135073, 2.2973878), List(132584, 2.2251368), List(135034, 2.2193534), List(135055, 2.213644), List(132937, 2.2066052))</td></tr><tr><td>130</td><td>List(List(132560, 0.0), List(132630, 0.0), List(132660, 0.0), List(132740, 0.0), List(132830, 0.0), List(132870, 0.0), List(135000, 0.0), List(135030, 0.0), List(135040, 0.0), List(135050, 0.0))</td></tr><tr><td>84</td><td>List(List(134986, 1.2147541), List(135109, 1.1588268), List(132922, 1.1197262), List(132875, 1.1080855), List(132768, 1.1060151), List(135073, 1.1011188), List(132584, 1.0664895), List(135034, 1.0637175), List(135055, 1.0609809), List(132937, 1.0576073))</td></tr><tr><td>136</td><td>List(List(134986, 3.3553472), List(135109, 3.200867), List(132922, 3.0928645), List(132875, 3.0607111), List(132768, 3.0549922), List(135073, 3.041468), List(132584, 2.945816), List(135034, 2.9381597), List(135055, 2.930601), List(132937, 2.9212823))</td></tr><tr><td>87</td><td>List(List(134986, 2.0236728), List(135109, 1.9305029), List(132922, 1.8653646), List(132875, 1.8459723), List(132768, 1.8425231), List(135073, 1.8343663), List(132584, 1.776677), List(135034, 1.7720592), List(135055, 1.7675004), List(132937, 1.7618802))</td></tr><tr><td>51</td><td>List(List(134986, 2.3353739), List(135109, 2.227853), List(132922, 2.1526818), List(132875, 2.1303024), List(132768, 2.126322), List(135073, 2.116909), List(132584, 2.0503337), List(135034, 2.0450048), List(135055, 2.0397437), List(132937, 2.033258))</td></tr><tr><td>69</td><td>List(List(134986, 1.1980172), List(135109, 1.1428605), List(132922, 1.1042985), List(132875, 1.0928183), List(132768, 1.0907763), List(135073, 1.0859475), List(132584, 1.0517954), List(135034, 1.0490615), List(135055, 1.0463628), List(132937, 1.0430356))</td></tr><tr><td>129</td><td>List(List(134986, 1.3276272), List(135109, 1.2665031), List(132922, 1.2237692), List(132875, 1.2110469), List(132768, 1.2087841), List(135073, 1.2034329), List(132584, 1.1655859), List(135034, 1.1625564), List(135055, 1.1595656), List(132937, 1.1558784))</td></tr><tr><td>97</td><td>List(List(134986, 2.4648654), List(135109, 2.351383), List(132922, 2.2720435), List(132875, 2.2484233), List(132768, 2.2442222), List(135073, 2.2342873), List(132584, 2.1640205), List(135034, 2.158396), List(135055, 2.1528432), List(132937, 2.1459978))</td></tr><tr><td>63</td><td>List(List(134986, 1.3499107), List(135109, 1.2877607), List(132922, 1.2443097), List(132875, 1.2313738), List(132768, 1.229073), List(135073, 1.223632), List(132584, 1.1851497), List(135034, 1.1820693), List(135055, 1.1790283), List(132937, 1.1752793))</td></tr><tr><td>10</td><td>List(List(134986, 2.144871), List(135109, 2.0461211), List(132922, 1.9770817), List(132875, 1.9565278), List(132768, 1.9528722), List(135073, 1.9442269), List(132584, 1.8830825), List(135034, 1.8781881), List(135055, 1.8733562), List(132937, 1.8673995))</td></tr><tr><td>102</td><td>List(List(134986, 1.5650928), List(135109, 1.4930358), List(132922, 1.4426584), List(132875, 1.4276605), List(132768, 1.424993), List(135073, 1.4186846), List(132584, 1.374068), List(135034, 1.3704967), List(135055, 1.3669709), List(132937, 1.3626243))</td></tr><tr><td>77</td><td>List(List(132560, 0.0), List(132630, 0.0), List(132660, 0.0), List(132740, 0.0), List(132830, 0.0), List(132870, 0.0), List(135000, 0.0), List(135030, 0.0), List(135040, 0.0), List(135050, 0.0))</td></tr><tr><td>50</td><td>List(List(134986, 1.0901469), List(135109, 1.0399565), List(132922, 1.0048666), List(132875, 0.99442005), List(132768, 0.992562), List(135073, 0.988168), List(132584, 0.95709085), List(135034, 0.95460325), List(135055, 0.9521474), List(132937, 0.94911987))</td></tr><tr><td>45</td><td>List(List(134986, 1.182633), List(135109, 1.1281846), List(132922, 1.0901178), List(132875, 1.078785), List(132768, 1.0767692), List(135073, 1.0720024), List(132584, 1.0382888), List(135034, 1.0355902), List(135055, 1.032926), List(132937, 1.0296415))</td></tr><tr><td>38</td><td>List(List(134986, 1.2825601), List(135109, 1.223511), List(132922, 1.1822278), List(132875, 1.1699374), List(132768, 1.1677514), List(135073, 1.1625818), List(132584, 1.1260195), List(135034, 1.1230929), List(135055, 1.1202036), List(132937, 1.1166416))</td></tr><tr><td>82</td><td>List(List(134986, 1.2256275), List(135109, 1.1691996), List(132922, 1.129749), List(132875, 1.1180041), List(132768, 1.1159152), List(135073, 1.110975), List(132584, 1.0760357), List(135034, 1.073239), List(135055, 1.070478), List(132937, 1.0670741))</td></tr><tr><td>80</td><td>List(List(134986, 2.4359338), List(135109, 2.3237832), List(132922, 2.2453752), List(132875, 2.222032), List(132768, 2.2178802), List(135073, 2.208062), List(132584, 2.1386201), List(135034, 2.1330614), List(135055, 2.127574), List(132937, 2.1208088))</td></tr><tr><td>73</td><td>List(List(132560, 0.0), List(132630, 0.0), List(132660, 0.0), List(132740, 0.0), List(132830, 0.0), List(132870, 0.0), List(135000, 0.0), List(135030, 0.0), List(135040, 0.0), List(135050, 0.0))</td></tr><tr><td>25</td><td>List(List(134986, 2.5242016), List(135109, 2.4079874), List(132922, 2.3267379), List(132875, 2.3025491), List(132768, 2.298247), List(135073, 2.2880728), List(132584, 2.2161145), List(135034, 2.2103546), List(135055, 2.2046683), List(132937, 2.197658))</td></tr><tr><td>113</td><td>List(List(134986, 1.8144554), List(135109, 1.7309178), List(132922, 1.6725138), List(132875, 1.6551263), List(132768, 1.6520338), List(135073, 1.6447203), List(132584, 1.5929952), List(135034, 1.5888548), List(135055, 1.5847672), List(132937, 1.5797281))</td></tr><tr><td>24</td><td>List(List(134986, 0.23348346), List(135109, 0.22273387), List(132922, 0.21521847), List(132875, 0.21298106), List(132768, 0.21258311), List(135073, 0.21164201), List(132584, 0.20498604), List(135034, 0.20445326), List(135055, 0.20392728), List(132937, 0.20327884))</td></tr><tr><td>70</td><td>List(List(134986, 1.9582355), List(135109, 1.8680782), List(132922, 1.8050462), List(132875, 1.786281), List(132768, 1.7829434), List(135073, 1.7750504), List(132584, 1.7192265), List(135034, 1.7147579), List(135055, 1.7103466), List(132937, 1.7049081))</td></tr><tr><td>121</td><td>List(List(134986, 2.473672), List(135109, 2.3597841), List(132922, 2.2801611), List(132875, 2.2564566), List(132768, 2.2522404), List(135073, 2.24227), List(132584, 2.1717522), List(135034, 2.1661077), List(135055, 2.160535), List(132937, 2.153665))</td></tr><tr><td>62</td><td>List(List(134986, 1.4977597), List(135109, 1.4288027), List(132922, 1.3805926), List(132875, 1.36624), List(132768, 1.3636872), List(135073, 1.3576502), List(132584, 1.3149532), List(135034, 1.3115355), List(135055, 1.3081614), List(132937, 1.3040018))</td></tr><tr><td>125</td><td>List(List(134986, 1.6323222), List(135109, 1.55717), List(132922, 1.5046285), List(132875, 1.4889865), List(132768, 1.4862044), List(135073, 1.479625), List(132584, 1.433092), List(135034, 1.4293672), List(135055, 1.4256899), List(132937, 1.4211566))</td></tr><tr><td>95</td><td>List(List(134986, 1.1232408), List(135109, 1.0715268), List(132922, 1.0353717), List(132875, 1.024608), List(132768, 1.0226935), List(135073, 1.0181661), List(132584, 0.98614556), List(135034, 0.98358244), List(135055, 0.9810521), List(132937, 0.9779326))</td></tr><tr><td>29</td><td>List(List(134986, 2.0871484), List(135109, 1.991056), List(132922, 1.9238746), List(132875, 1.9038739), List(132768, 1.9003166), List(135073, 1.891904), List(132584, 1.8324051), List(135034, 1.8276424), List(135055, 1.8229407), List(132937, 1.8171442))</td></tr><tr><td>21</td><td>List(List(134986, 2.269485), List(135109, 2.1649978), List(132922, 2.0919473), List(132875, 2.0701995), List(132768, 2.0663314), List(135073, 2.0571837), List(132584, 1.992487), List(135034, 1.9873083), List(135055, 1.9821957), List(132937, 1.9758929))</td></tr><tr><td>98</td><td>List(List(134986, 0.7052512), List(135109, 0.67278147), List(132922, 0.65008074), List(132875, 0.64332247), List(132768, 0.6421204), List(135073, 0.6392778), List(132584, 0.619173), List(135034, 0.6175637), List(135055, 0.61597496), List(132937, 0.61401635))</td></tr><tr><td>60</td><td>List(List(134986, 1.7773454), List(135109, 1.6955163), List(132922, 1.6383069), List(132875, 1.6212751), List(132768, 1.6182458), List(135073, 1.6110818), List(132584, 1.5604146), List(135034, 1.5563589), List(135055, 1.552355), List(132937, 1.547419))</td></tr><tr><td>90</td><td>List(List(132560, 0.0), List(132630, 0.0), List(132660, 0.0), List(132740, 0.0), List(132830, 0.0), List(132870, 0.0), List(135000, 0.0), List(135030, 0.0), List(135040, 0.0), List(135050, 0.0))</td></tr><tr><td>32</td><td>List(List(134986, 1.06861), List(135109, 1.0194111), List(132922, 0.9850145), List(132875, 0.9747743), List(132768, 0.97295296), List(135073, 0.96864575), List(132584, 0.9381826), List(135034, 0.9357441), List(135055, 0.93333685), List(132937, 0.9303691))</td></tr><tr><td>75</td><td>List(List(134986, 2.5382607), List(135109, 2.421399), List(132922, 2.3396971), List(132875, 2.3153737), List(132768, 2.3110476), List(135073, 2.3008165), List(132584, 2.2284577), List(135034, 2.2226655), List(135055, 2.2169476), List(132937, 2.2098982))</td></tr><tr><td>56</td><td>List(List(134986, 2.1861603), List(135109, 2.0855095), List(132922, 2.015141), List(132875, 1.9941915), List(132768, 1.9904655), List(135073, 1.9816538), List(132584, 1.9193323), List(135034, 1.9143437), List(135055, 1.909419), List(132937, 1.9033475))</td></tr><tr><td>109</td><td>List(List(134986, 1.911032), List(135109, 1.8230479), List(132922, 1.7615353), List(132875, 1.7432225), List(132768, 1.7399653), List(135073, 1.7322625), List(132584, 1.6777842), List(135034, 1.6734234), List(135055, 1.6691184), List(132937, 1.663811))</td></tr><tr><td>105</td><td>List(List(134986, 1.3259612), List(135109, 1.2649139), List(132922, 1.2222337), List(132875, 1.2095273), List(132768, 1.2072673), List(135073, 1.2019228), List(132584, 1.1641233), List(135034, 1.1610975), List(135055, 1.1581105), List(132937, 1.154428))</td></tr><tr><td>58</td><td>List(List(134986, 1.8129452), List(135109, 1.7294772), List(132922, 1.6711218), List(132875, 1.6537489), List(132768, 1.650659), List(135073, 1.6433516), List(132584, 1.5916693), List(135034, 1.5875324), List(135055, 1.5834483), List(132937, 1.5784134))</td></tr><tr><td>11</td><td>List(List(134986, 2.290446), List(135109, 2.184994), List(132922, 2.1112688), List(132875, 2.08932), List(132768, 2.085416), List(135073, 2.076184), List(132584, 2.0108898), List(135034, 2.0056632), List(135055, 2.0005033), List(132937, 1.9941423))</td></tr><tr><td>33</td><td>List(List(134986, 1.6258681), List(135109, 1.5510131), List(132922, 1.4986794), List(132875, 1.4830991), List(132768, 1.480328), List(135073, 1.4737747), List(132584, 1.4274256), List(135034, 1.4237156), List(135055, 1.4200529), List(132937, 1.4155375))</td></tr><tr><td>110</td><td>List(List(134986, 1.5493007), List(135109, 1.4779708), List(132922, 1.4281017), List(132875, 1.4132551), List(132768, 1.4106145), List(135073, 1.4043698), List(132584, 1.3602034), List(135034, 1.3566681), List(135055, 1.3531779), List(132937, 1.3488752))</td></tr><tr><td>83</td><td>List(List(132560, 0.0), List(132630, 0.0), List(132660, 0.0), List(132740, 0.0), List(132830, 0.0), List(132870, 0.0), List(135000, 0.0), List(135030, 0.0), List(135040, 0.0), List(135050, 0.0))</td></tr><tr><td>71</td><td>List(List(134986, 2.048094), List(135109, 1.9537997), List(132922, 1.8878753), List(132875, 1.8682489), List(132768, 1.8647583), List(135073, 1.856503), List(132584, 1.7981174), List(135034, 1.7934439), List(135055, 1.78883), List(132937, 1.7831421))</td></tr><tr><td>106</td><td>List(List(134986, 1.387727), List(135109, 1.323836), List(132922, 1.2791677), List(132875, 1.2658694), List(132768, 1.2635041), List(135073, 1.2579107), List(132584, 1.2183504), List(135034, 1.2151837), List(135055, 1.2120576), List(132937, 1.2082036))</td></tr><tr><td>68</td><td>List(List(132560, 0.0), List(132630, 0.0), List(132660, 0.0), List(132740, 0.0), List(132830, 0.0), List(132870, 0.0), List(135000, 0.0), List(135030, 0.0), List(135040, 0.0), List(135050, 0.0))</td></tr><tr><td>116</td><td>List(List(134986, 1.8159072), List(135109, 1.7323028), List(132922, 1.6738521), List(132875, 1.6564506), List(132768, 1.6533557), List(135073, 1.6460364), List(132584, 1.5942698), List(135034, 1.590126), List(135055, 1.5860353), List(132937, 1.5809921))</td></tr><tr><td>14</td><td>List(List(134986, 1.6979139), List(135109, 1.6197418), List(132922, 1.5650891), List(132875, 1.5488185), List(132768, 1.5459245), List(135073, 1.5390807), List(132584, 1.4906778), List(135034, 1.4868034), List(135055, 1.4829785), List(132937, 1.478263))</td></tr><tr><td>123</td><td>List(List(134986, 0.004191026), List(135109, 0.003998071), List(132922, 0.0038631696), List(132875, 0.0038230082), List(132768, 0.003815865), List(135073, 0.0037989723), List(132584, 0.0036794976), List(135034, 0.003669934), List(135055, 0.0036604928), List(132937, 0.0036488534))</td></tr><tr><td>135</td><td>List(List(134986, 2.3201108), List(135109, 2.2132928), List(132922, 2.1386127), List(132875, 2.1163797), List(132768, 2.1124253), List(135073, 2.1030736), List(132584, 2.0369337), List(135034, 2.0316393), List(135055, 2.0264127), List(132937, 2.0199692))</td></tr><tr><td>42</td><td>List(List(134986, 1.703726), List(135109, 1.6252863), List(132922, 1.5704466), List(132875, 1.5541202), List(132768, 1.5512165), List(135073, 1.5443493), List(132584, 1.4957807), List(135034, 1.4918929), List(135055, 1.4880549), List(132937, 1.4833232))</td></tr><tr><td>119</td><td>List(List(134986, 1.312638), List(135109, 1.2522041), List(132922, 1.2099527), List(132875, 1.1973741), List(132768, 1.1951368), List(135073, 1.189846), List(132584, 1.1524262), List(135034, 1.149431), List(135055, 1.1464739), List(132937, 1.1428285))</td></tr><tr><td>2</td><td>List(List(134986, 2.0767114), List(135109, 1.9810995), List(132922, 1.914254), List(132875, 1.8943534), List(132768, 1.8908138), List(135073, 1.8824433), List(132584, 1.823242), List(135034, 1.8185031), List(135055, 1.8138248), List(132937, 1.8080573))</td></tr><tr><td>79</td><td>List(List(134986, 1.0881805), List(135109, 1.0380806), List(132922, 1.0030541), List(132875, 0.99262637), List(132768, 0.99077165), List(135073, 0.9863856), List(132584, 0.9553645), List(135034, 0.9528814), List(135055, 0.95043004), List(132937, 0.9474079))</td></tr><tr><td>131</td><td>List(List(134986, 3.377936), List(135109, 3.2224157), List(132922, 3.113686), List(132875, 3.0813162), List(132768, 3.075559), List(135073, 3.0619435), List(132584, 2.9656477), List(135034, 2.9579396), List(135055, 2.95033), List(132937, 2.9409487))</td></tr><tr><td>118</td><td>List(List(134986, 2.93997), List(135109, 2.8046138), List(132922, 2.7099814), List(132875, 2.6818085), List(132768, 2.6767976), List(135073, 2.6649477), List(132584, 2.5811372), List(135034, 2.5744283), List(135055, 2.5678055), List(132937, 2.5596404))</td></tr><tr><td>124</td><td>List(List(134986, 1.1189063), List(135109, 1.0673918), List(132922, 1.0313762), List(132875, 1.0206541), List(132768, 1.0187471), List(135073, 1.014237), List(132584, 0.9823401), List(135034, 0.9797869), List(135055, 0.9772663), List(132937, 0.9741588))</td></tr><tr><td>30</td><td>List(List(134986, 1.4701766), List(135109, 1.4024895), List(132922, 1.3551673), List(132875, 1.341079), List(132768, 1.3385732), List(135073, 1.3326474), List(132584, 1.2907367), List(135034, 1.2873819), List(135055, 1.2840699), List(132937, 1.279987))</td></tr><tr><td>99</td><td>List(List(134986, 1.487698), List(135109, 1.4192044), List(132922, 1.3713181), List(132875, 1.3570619), List(132768, 1.3545263), List(135073, 1.3485298), List(132584, 1.3061196), List(135034, 1.3027248), List(135055, 1.2993734), List(132937, 1.2952417))</td></tr><tr><td>66</td><td>List(List(134986, 0.3724289), List(135109, 0.35528225), List(132922, 0.34329444), List(132875, 0.33972555), List(132768, 0.3390908), List(135073, 0.33758965), List(132584, 0.32697272), List(135034, 0.32612288), List(135055, 0.32528389), List(132937, 0.3242496))</td></tr><tr><td>46</td><td>List(List(134986, 1.6495843), List(135109, 1.5736374), List(132922, 1.5205402), List(132875, 1.5047327), List(132768, 1.5019212), List(135073, 1.4952723), List(132584, 1.4482471), List(135034, 1.4444829), List(135055, 1.4407668), List(132937, 1.4361856))</td></tr><tr><td>67</td><td>List(List(134986, 1.4781946), List(135109, 1.4101385), List(132922, 1.3625581), List(132875, 1.348393), List(132768, 1.3458735), List(135073, 1.3399154), List(132584, 1.2977761), List(135034, 1.2944031), List(135055, 1.2910731), List(132937, 1.2869678))</td></tr><tr><td>0</td><td>List(List(134986, 1.6867659), List(135109, 1.6091071), List(132922, 1.5548133), List(132875, 1.5386494), List(132768, 1.5357745), List(135073, 1.5289757), List(132584, 1.4808906), List(135034, 1.4770416), List(135055, 1.4732417), List(132937, 1.4685572))</td></tr><tr><td>18</td><td>List(List(134986, 2.578292), List(135109, 2.459587), List(132922, 2.3765967), List(132875, 2.3518896), List(132768, 2.3474953), List(135073, 2.337103), List(132584, 2.263603), List(135034, 2.2577195), List(135055, 2.2519112), List(132937, 2.2447507))</td></tr><tr><td>74</td><td>List(List(134986, 1.1270703), List(135109, 1.0751799), List(132922, 1.0389016), List(132875, 1.0281012), List(132768, 1.0261803), List(135073, 1.0216373), List(132584, 0.9895077), List(135034, 0.9869358), List(135055, 0.9843968), List(132937, 0.9812667))</td></tr><tr><td>104</td><td>List(List(134986, 1.8542149), List(135109, 1.7688469), List(132922, 1.7091631), List(132875, 1.6913946), List(132768, 1.6882343), List(135073, 1.6807605), List(132584, 1.6279019), List(135034, 1.6236708), List(135055, 1.6194937), List(132937, 1.6143442))</td></tr><tr><td>134</td><td>List(List(132560, 0.0), List(132630, 0.0), List(132660, 0.0), List(132740, 0.0), List(132830, 0.0), List(132870, 0.0), List(135000, 0.0), List(135030, 0.0), List(135040, 0.0), List(135050, 0.0))</td></tr><tr><td>36</td><td>List(List(134986, 1.8674885), List(135109, 1.7815093), List(132922, 1.7213982), List(132875, 1.7035027), List(132768, 1.7003196), List(135073, 1.6927924), List(132584, 1.6395555), List(135034, 1.6352941), List(135055, 1.6310871), List(132937, 1.6259006))</td></tr><tr><td>89</td><td>List(List(134986, 2.0095818), List(135109, 1.9170605), List(132922, 1.8523759), List(132875, 1.8331186), List(132768, 1.8296934), List(135073, 1.8215934), List(132584, 1.7643057), List(135034, 1.7597201), List(135055, 1.755193), List(132937, 1.749612))</td></tr></tbody></table></div>"
      ]
     },
     "metadata": {},
     "output_type": "display_data"
    }
   ],
   "source": [
    "userRecommendations = model.bestModel.recommendForAllUsers(10)\n",
    "display(userRecommendations)"
   ]
  },
  {
   "cell_type": "code",
   "execution_count": 63,
   "metadata": {},
   "outputs": [
    {
     "data": {
      "text/html": [
       "<style scoped>\n",
       "  .table-result-container {\n",
       "    max-height: 300px;\n",
       "    overflow: auto;\n",
       "  }\n",
       "  table, th, td {\n",
       "    border: 1px solid black;\n",
       "    border-collapse: collapse;\n",
       "  }\n",
       "  th, td {\n",
       "    padding: 5px;\n",
       "  }\n",
       "  th {\n",
       "    text-align: left;\n",
       "  }\n",
       "</style><div class='table-result-container'><table class='table-result'><thead style='background-color: white'><tr><th>recommendations</th><th>userID</th></tr></thead><tbody><tr><td>List(List(134986, 1.1379204), List(135109, 1.0855305), List(132922, 1.048903), List(132875, 1.0379986), List(132768, 1.036059), List(135073, 1.0314724), List(132584, 0.99903345), List(135034, 0.9964369), List(135055, 0.9938734), List(132937, 0.9907132))</td><td>U1057</td></tr><tr><td>List(List(134986, 1.3660666), List(135109, 1.3031728), List(132922, 1.2592016), List(132875, 1.246111), List(132768, 1.2437826), List(135073, 1.2382765), List(132584, 1.1993337), List(135034, 1.1962165), List(135055, 1.1931391), List(132937, 1.1893451))</td><td>U1030</td></tr><tr><td>List(List(134986, 1.9794658), List(135109, 1.888331), List(132922, 1.8246157), List(132875, 1.805647), List(132768, 1.8022733), List(135073, 1.7942947), List(132584, 1.7378654), List(135034, 1.7333486), List(135055, 1.7288893), List(132937, 1.7233919))</td><td>U1011</td></tr><tr><td>List(List(134986, 1.9940985), List(135109, 1.9022901), List(132922, 1.8381038), List(132875, 1.8189949), List(132768, 1.8155961), List(135073, 1.8075585), List(132584, 1.7507123), List(135034, 1.7461619), List(135055, 1.7416698), List(132937, 1.7361317))</td><td>U1086</td></tr><tr><td>List(List(134986, 1.6756427), List(135109, 1.5984961), List(132922, 1.5445603), List(132875, 1.5285031), List(132768, 1.525647), List(135073, 1.5188931), List(132584, 1.4711251), List(135034, 1.4673015), List(135055, 1.4635267), List(132937, 1.458873))</td><td>U1045</td></tr><tr><td>List(List(134986, 1.2302933), List(135109, 1.1736505), List(132922, 1.1340497), List(132875, 1.1222601), List(132768, 1.1201632), List(135073, 1.1152042), List(132584, 1.0801319), List(135034, 1.0773245), List(135055, 1.074553), List(132937, 1.0711362))</td><td>U1017</td></tr><tr><td>List(List(134986, 1.4288181), List(135109, 1.3630352), List(132922, 1.3170443), List(132875, 1.3033522), List(132768, 1.300917), List(135073, 1.2951579), List(132584, 1.2544261), List(135034, 1.2511657), List(135055, 1.247947), List(132937, 1.2439789))</td><td>U1103</td></tr><tr><td>List(List(134986, 2.2492387), List(135109, 2.1456838), List(132922, 2.0732849), List(132875, 2.051731), List(132768, 2.0478973), List(135073, 2.0388315), List(132584, 1.9747118), List(135034, 1.9695793), List(135055, 1.9645123), List(132937, 1.9582657))</td><td>U1026</td></tr><tr><td>List(List(132560, 0.0), List(132630, 0.0), List(132660, 0.0), List(132740, 0.0), List(132830, 0.0), List(132870, 0.0), List(135000, 0.0), List(135030, 0.0), List(135040, 0.0), List(135050, 0.0))</td><td>U1073</td></tr><tr><td>List(List(134986, 2.1958115), List(135109, 2.094716), List(132922, 2.0240371), List(132875, 2.0029953), List(132768, 1.9992527), List(135073, 1.990402), List(132584, 1.9278054), List(135034, 1.9227948), List(135055, 1.9178482), List(132937, 1.91175))</td><td>U1012</td></tr><tr><td>List(List(134986, 2.425187), List(135109, 2.3135314), List(132922, 2.235469), List(132875, 2.2122293), List(132768, 2.2080958), List(135073, 2.1983206), List(132584, 2.129185), List(135034, 2.123651), List(135055, 2.1181877), List(132937, 2.1114526))</td><td>U1110</td></tr><tr><td>List(List(134986, 1.998224), List(135109, 1.9062257), List(132922, 1.8419065), List(132875, 1.8227581), List(132768, 1.8193523), List(135073, 1.8112981), List(132584, 1.7543342), List(135034, 1.7497745), List(135055, 1.745273), List(132937, 1.7397234))</td><td>U1052</td></tr><tr><td>List(List(134986, 1.0263635), List(135109, 0.9791097), List(132922, 0.946073), List(132875, 0.93623763), List(132768, 0.9344883), List(135073, 0.9303513), List(132584, 0.9010925), List(135034, 0.8987505), List(135055, 0.89643836), List(132937, 0.8935879))</td><td>U1068</td></tr><tr><td>List(List(134986, 1.7017589), List(135109, 1.6234097), List(132922, 1.5686333), List(132875, 1.5523257), List(132768, 1.5494254), List(135073, 1.5425661), List(132584, 1.4940536), List(135034, 1.4901704), List(135055, 1.4863367), List(132937, 1.4816105))</td><td>U1006</td></tr><tr><td>List(List(134986, 1.9351846), List(135109, 1.8460885), List(132922, 1.7837986), List(132875, 1.7652541), List(132768, 1.7619559), List(135073, 1.7541558), List(132584, 1.6989889), List(135034, 1.694573), List(135055, 1.6902136), List(132937, 1.6848391))</td><td>U1087</td></tr><tr><td>List(List(134986, 1.9847442), List(135109, 1.8933665), List(132922, 1.8294812), List(132875, 1.810462), List(132768, 1.8070792), List(135073, 1.7990793), List(132584, 1.7424997), List(135034, 1.7379707), List(135055, 1.7334996), List(132937, 1.7279875))</td><td>U1116</td></tr><tr><td>List(List(134986, 2.1625195), List(135109, 2.062957), List(132922, 1.9933494), List(132875, 1.9726267), List(132768, 1.9689409), List(135073, 1.9602244), List(132584, 1.8985769), List(135034, 1.8936423), List(135055, 1.8887707), List(132937, 1.8827648))</td><td>U1025</td></tr><tr><td>List(List(134986, 1.9261569), List(135109, 1.8374765), List(132922, 1.775477), List(132875, 1.7570193), List(132768, 1.7537364), List(135073, 1.7459726), List(132584, 1.6910632), List(135034, 1.6866678), List(135055, 1.6823287), List(132937, 1.6769793))</td><td>U1013</td></tr><tr><td>List(List(134986, 2.8327975), List(135109, 2.7023754), List(132922, 2.611193), List(132875, 2.5840468), List(132768, 2.5792186), List(135073, 2.5678005), List(132584, 2.4870453), List(135034, 2.480581), List(135055, 2.4741995), List(132937, 2.4663322))</td><td>U1102</td></tr><tr><td>List(List(134986, 2.4977367), List(135109, 2.3827407), List(132922, 2.3023434), List(132875, 2.278408), List(132768, 2.274151), List(135073, 2.2640834), List(132584, 2.19288), List(135034, 2.1871803), List(135055, 2.1815534), List(132937, 2.1746168))</td><td>U1016</td></tr><tr><td>List(List(134986, 2.0635347), List(135109, 1.9685295), List(132922, 1.9021081), List(132875, 1.8823338), List(132768, 1.8788167), List(135073, 1.8704993), List(132584, 1.8116735), List(135034, 1.8069648), List(135055, 1.8023162), List(132937, 1.7965852))</td><td>U1048</td></tr><tr><td>List(List(134986, 1.5411137), List(135109, 1.4701608), List(132922, 1.4205552), List(132875, 1.4057871), List(132768, 1.4031605), List(135073, 1.3969487), List(132584, 1.3530158), List(135034, 1.3494991), List(135055, 1.3460274), List(132937, 1.3417474))</td><td>U1125</td></tr><tr><td>List(List(134986, 2.060967), List(135109, 1.9660798), List(132922, 1.8997412), List(132875, 1.8799914), List(132768, 1.8764787), List(135073, 1.8681717), List(132584, 1.809419), List(135034, 1.8047162), List(135055, 1.8000734), List(132937, 1.7943496))</td><td>U1138</td></tr><tr><td>List(List(134986, 1.0313766), List(135109, 0.983892), List(132922, 0.9506939), List(132875, 0.9408105), List(132768, 0.93905264), List(135073, 0.93489546), List(132584, 0.90549374), List(135034, 0.90314025), List(135055, 0.9008168), List(132937, 0.89795244))</td><td>U1072</td></tr><tr><td>List(List(134986, 1.5436653), List(135109, 1.4725949), List(132922, 1.4229071), List(132875, 1.4081146), List(132768, 1.4054836), List(135073, 1.3992616), List(132584, 1.3552558), List(135034, 1.3517333), List(135055, 1.3482559), List(132937, 1.3439687))</td><td>U1117</td></tr><tr><td>List(List(134986, 2.0186548), List(135109, 1.9257158), List(132922, 1.860739), List(132875, 1.8413948), List(132768, 1.8379542), List(135073, 1.8298177), List(132584, 1.7722713), List(135034, 1.7676649), List(135055, 1.7631174), List(132937, 1.7575111))</td><td>U1042</td></tr><tr><td>List(List(134986, 2.2877004), List(135109, 2.1823745), List(132922, 2.1087377), List(132875, 2.0868154), List(132768, 2.0829163), List(135073, 2.0736952), List(132584, 2.008479), List(135034, 2.0032587), List(135055, 1.9981052), List(132937, 1.9917517))</td><td>U1058</td></tr><tr><td>List(List(134986, 1.6238157), List(135109, 1.5490551), List(132922, 1.4967875), List(132875, 1.4812269), List(132768, 1.4784594), List(135073, 1.4719142), List(132584, 1.4256237), List(135034, 1.4219183), List(135055, 1.4182602), List(132937, 1.4137505))</td><td>U1070</td></tr><tr><td>List(List(134986, 2.1226041), List(135109, 2.0248795), List(132922, 1.9565567), List(132875, 1.9362164), List(132768, 1.9325986), List(135073, 1.924043), List(132584, 1.8635334), List(135034, 1.8586898), List(135055, 1.8539082), List(132937, 1.8480132))</td><td>U1061</td></tr><tr><td>List(List(134986, 2.4292781), List(135109, 2.317434), List(132922, 2.2392402), List(132875, 2.215961), List(132768, 2.2118206), List(135073, 2.202029), List(132584, 2.132777), List(135034, 2.1272335), List(135055, 2.121761), List(132937, 2.1150143))</td><td>U1056</td></tr><tr><td>List(List(134986, 0.5652263), List(135109, 0.5392032), List(132922, 0.5210097), List(132875, 0.51559323), List(132768, 0.5146299), List(135073, 0.51235163), List(132584, 0.4962386), List(135034, 0.4949488), List(135055, 0.49367547), List(132937, 0.49210572))</td><td>U1112</td></tr><tr><td>List(List(134986, 1.1173145), List(135109, 1.0658733), List(132922, 1.029909), List(132875, 1.0192021), List(132768, 1.0172977), List(135073, 1.0127943), List(132584, 0.9809426), List(135034, 0.978393), List(135055, 0.975876), List(132937, 0.97277296))</td><td>U1089</td></tr><tr><td>List(List(134986, 2.1889467), List(135109, 2.0881677), List(132922, 2.0177095), List(132875, 1.9967333), List(132768, 1.9930025), List(135073, 1.9841796), List(132584, 1.9217787), List(135034, 1.9167837), List(135055, 1.9118526), List(132937, 1.9057734))</td><td>U1075</td></tr><tr><td>List(List(134986, 2.1455426), List(135109, 2.0467618), List(132922, 1.9777006), List(132875, 1.9571404), List(132768, 1.9534836), List(135073, 1.9448357), List(132584, 1.883672), List(135034, 1.8787762), List(135055, 1.8739429), List(132937, 1.8679842))</td><td>U1115</td></tr><tr><td>List(List(134986, 1.4257258), List(135109, 1.3600852), List(132922, 1.3141938), List(132875, 1.3005315), List(132768, 1.2981014), List(135073, 1.2923548), List(132584, 1.2517112), List(135034, 1.2484579), List(135055, 1.2452462), List(132937, 1.2412866))</td><td>U1024</td></tr><tr><td>List(List(132560, 0.0), List(132630, 0.0), List(132660, 0.0), List(132740, 0.0), List(132830, 0.0), List(132870, 0.0), List(135000, 0.0), List(135030, 0.0), List(135040, 0.0), List(135050, 0.0))</td><td>U1128</td></tr><tr><td>List(List(134986, 2.004426), List(135109, 1.9121422), List(132922, 1.8476233), List(132875, 1.8284155), List(132768, 1.8249992), List(135073, 1.81692), List(132584, 1.7597792), List(135034, 1.7552054), List(135055, 1.75069), List(132937, 1.7451231))</td><td>U1095</td></tr><tr><td>List(List(134986, 2.0281937), List(135109, 1.9348156), List(132922, 1.8695319), List(132875, 1.8500962), List(132768, 1.8466394), List(135073, 1.8384644), List(132584, 1.7806461), List(135034, 1.776018), List(135055, 1.771449), List(132937, 1.7658162))</td><td>U1080</td></tr><tr><td>List(List(134986, 2.4175394), List(135109, 2.3062358), List(132922, 2.2284195), List(132875, 2.2052531), List(132768, 2.2011325), List(135073, 2.1913884), List(132584, 2.1224709), List(135034, 2.1169543), List(135055, 2.1115081), List(132937, 2.104794))</td><td>U1085</td></tr><tr><td>List(List(134986, 1.7471845), List(135109, 1.6667441), List(132922, 1.6105055), List(132875, 1.5937626), List(132768, 1.5907848), List(135073, 1.5837424), List(132584, 1.533935), List(135034, 1.5299481), List(135055, 1.5260121), List(132937, 1.5211598))</td><td>U1020</td></tr><tr><td>List(List(134986, 1.661601), List(135109, 1.5851008), List(132922, 1.5316169), List(132875, 1.5156943), List(132768, 1.5128622), List(135073, 1.5061649), List(132584, 1.4587971), List(135034, 1.4550055), List(135055, 1.4512624), List(132937, 1.4466478))</td><td>U1101</td></tr><tr><td>List(List(134986, 1.934466), List(135109, 1.8454031), List(132922, 1.7831362), List(132875, 1.7645987), List(132768, 1.7613016), List(135073, 1.7535044), List(132584, 1.698358), List(135034, 1.6939439), List(135055, 1.689586), List(132937, 1.6842135))</td><td>U1035</td></tr><tr><td>List(List(134986, 2.0243378), List(135109, 1.9311371), List(132922, 1.8659774), List(132875, 1.8465787), List(132768, 1.8431284), List(135073, 1.834969), List(132584, 1.7772607), List(135034, 1.7726413), List(135055, 1.7680811), List(132937, 1.762459))</td><td>U1132</td></tr><tr><td>List(List(132560, 0.0), List(132630, 0.0), List(132660, 0.0), List(132740, 0.0), List(132830, 0.0), List(132870, 0.0), List(135000, 0.0), List(135030, 0.0), List(135040, 0.0), List(135050, 0.0))</td><td>U1135</td></tr><tr><td>List(List(134986, 2.2226417), List(135109, 2.1203113), List(132922, 2.0487685), List(132875, 2.0274694), List(132768, 2.0236812), List(135073, 2.0147226), List(132584, 1.9513611), List(135034, 1.9462892), List(135055, 1.9412822), List(132937, 1.9351094))</td><td>U1088</td></tr><tr><td>List(List(134986, 2.0700462), List(135109, 1.9747411), List(132922, 1.9081101), List(132875, 1.8882735), List(132768, 1.8847452), List(135073, 1.8764015), List(132584, 1.8173902), List(135034, 1.8126665), List(135055, 1.8080033), List(132937, 1.8022543))</td><td>U1131</td></tr><tr><td>List(List(134986, 2.0476065), List(135109, 1.9533346), List(132922, 1.8874259), List(132875, 1.8678043), List(132768, 1.8643143), List(135073, 1.8560611), List(132584, 1.7976894), List(135034, 1.793017), List(135055, 1.7884042), List(132937, 1.7827176))</td><td>U1005</td></tr><tr><td>List(List(134986, 2.109765), List(135109, 2.0126314), List(132922, 1.944722), List(132875, 1.9245048), List(132768, 1.9209088), List(135073, 1.912405), List(132584, 1.8522614), List(135034, 1.8474472), List(135055, 1.8426944), List(132937, 1.8368351))</td><td>U1121</td></tr><tr><td>List(List(134986, 1.9427736), List(135109, 1.8533282), List(132922, 1.7907939), List(132875, 1.7721769), List(132768, 1.7688656), List(135073, 1.7610348), List(132584, 1.7056518), List(135034, 1.7012185), List(135055, 1.696842), List(132937, 1.6914464))</td><td>U1136</td></tr><tr><td>List(List(134986, 2.510869), List(135109, 2.3952684), List(132922, 2.314448), List(132875, 2.2903872), List(132768, 2.2861078), List(135073, 2.2759871), List(132584, 2.2044091), List(135034, 2.1986797), List(135055, 2.1930232), List(132937, 2.18605))</td><td>U1109</td></tr><tr><td>List(List(134986, 2.153181), List(135109, 2.0540485), List(132922, 1.9847416), List(132875, 1.9641082), List(132768, 1.9604384), List(135073, 1.9517596), List(132584, 1.8903782), List(135034, 1.8854649), List(135055, 1.8806144), List(132937, 1.8746345))</td><td>U1036</td></tr><tr><td>List(List(134986, 2.019436), List(135109, 1.9264609), List(132922, 1.8614589), List(132875, 1.8421072), List(132768, 1.8386654), List(135073, 1.8305256), List(132584, 1.772957), List(135034, 1.7683489), List(135055, 1.7637997), List(132937, 1.7581912))</td><td>U1077</td></tr><tr><td>List(List(134986, 1.6724409), List(135109, 1.5954416), List(132922, 1.5416088), List(132875, 1.5255823), List(132768, 1.5227318), List(135073, 1.5159907), List(132584, 1.4683139), List(135034, 1.4644977), List(135055, 1.4607301), List(132937, 1.4560853))</td><td>U1096</td></tr><tr><td>List(List(134986, 2.0916882), List(135109, 1.9953866), List(132922, 1.9280591), List(132875, 1.908015), List(132768, 1.9044499), List(135073, 1.896019), List(132584, 1.8363906), List(135034, 1.8316177), List(135055, 1.8269056), List(132937, 1.8210965))</td><td>U1120</td></tr><tr><td>List(List(134986, 1.0505012), List(135109, 1.0021361), List(132922, 0.96832246), List(132875, 0.95825577), List(132768, 0.9564653), List(135073, 0.9522311), List(132584, 0.9222841), List(135034, 0.919887), List(135055, 0.9175205), List(132937, 0.91460305))</td><td>U1023</td></tr><tr><td>List(List(134986, 0.70112824), List(135109, 0.6688482), List(132922, 0.6462802), List(132875, 0.6395615), List(132768, 0.6383665), List(135073, 0.6355405), List(132584, 0.6155532), List(135034, 0.6139533), List(135055, 0.6123739), List(132937, 0.61042666))</td><td>U1118</td></tr><tr><td>List(List(134986, 1.9744282), List(135109, 1.8835254), List(132922, 1.8199722), List(132875, 1.8010517), List(132768, 1.7976866), List(135073, 1.7897283), List(132584, 1.7334427), List(135034, 1.7289373), List(135055, 1.7244895), List(132937, 1.719006))</td><td>U1076</td></tr><tr><td>List(List(134986, 1.6646051), List(135109, 1.5879666), List(132922, 1.534386), List(132875, 1.5184345), List(132768, 1.5155975), List(135073, 1.508888), List(132584, 1.4614346), List(135034, 1.4576361), List(135055, 1.4538863), List(132937, 1.4492632))</td><td>U1104</td></tr><tr><td>List(List(134986, 2.43595), List(135109, 2.3237987), List(132922, 2.24539), List(132875, 2.2220469), List(132768, 2.217895), List(135073, 2.2080767), List(132584, 2.1386342), List(135034, 2.1330757), List(135055, 2.1275883), List(132937, 2.120823))</td><td>U1071</td></tr><tr><td>List(List(132560, 0.0), List(132630, 0.0), List(132660, 0.0), List(132740, 0.0), List(132830, 0.0), List(132870, 0.0), List(135000, 0.0), List(135030, 0.0), List(135040, 0.0), List(135050, 0.0))</td><td>U1049</td></tr><tr><td>List(List(134986, 1.2320285), List(135109, 1.1753058), List(132922, 1.1356491), List(132875, 1.1238428), List(132768, 1.1217431), List(135073, 1.1167771), List(132584, 1.0816554), List(135034, 1.078844), List(135055, 1.0760685), List(132937, 1.072647))</td><td>U1037</td></tr><tr><td>List(List(134986, 1.4510218), List(135109, 1.3842167), List(132922, 1.337511), List(132875, 1.3236063), List(132768, 1.3211331), List(135073, 1.3152845), List(132584, 1.2739198), List(135034, 1.2706088), List(135055, 1.26734), List(132937, 1.2633102))</td><td>U1038</td></tr><tr><td>List(List(134986, 1.738906), List(135109, 1.6588467), List(132922, 1.6028745), List(132875, 1.5862111), List(132768, 1.5832473), List(135073, 1.5762383), List(132584, 1.5266669), List(135034, 1.5226989), List(135055, 1.5187815), List(132937, 1.5139523))</td><td>U1022</td></tr><tr><td>List(List(134986, 2.2887409), List(135109, 2.1833673), List(132922, 2.1096969), List(132875, 2.0877645), List(132768, 2.0838635), List(135073, 2.0746384), List(132584, 2.0093925), List(135034, 2.00417), List(135055, 1.999014), List(132937, 1.9926577))</td><td>U1059</td></tr><tr><td>List(List(132560, 0.0), List(132630, 0.0), List(132660, 0.0), List(132740, 0.0), List(132830, 0.0), List(132870, 0.0), List(135000, 0.0), List(135030, 0.0), List(135040, 0.0), List(135050, 0.0))</td><td>U1019</td></tr><tr><td>List(List(134986, 2.6520345), List(135109, 2.5299346), List(132922, 2.4445708), List(132875, 2.419157), List(132768, 2.4146369), List(135073, 2.4039474), List(132584, 2.328345), List(135034, 2.3222933), List(135055, 2.316319), List(132937, 2.3089538))</td><td>U1041</td></tr><tr><td>List(List(134986, 2.464488), List(135109, 2.351023), List(132922, 2.2716956), List(132875, 2.248079), List(132768, 2.2438786), List(135073, 2.2339451), List(132584, 2.1636891), List(135034, 2.1580656), List(135055, 2.1525137), List(132937, 2.1456692))</td><td>U1097</td></tr><tr><td>List(List(134986, 0.75393003), List(135109, 0.719219), List(132922, 0.6949514), List(132875, 0.68772674), List(132768, 0.6864417), List(135073, 0.6834029), List(132584, 0.6619104), List(135034, 0.66019), List(135055, 0.6584916), List(132937, 0.65639776))</td><td>U1081</td></tr><tr><td>List(List(134986, 2.6590197), List(135109, 2.5365984), List(132922, 2.4510095), List(132875, 2.4255288), List(132768, 2.4209967), List(135073, 2.410279), List(132584, 2.3344777), List(135034, 2.3284101), List(135055, 2.32242), List(132937, 2.3150353))</td><td>U1055</td></tr><tr><td>List(List(134986, 1.8539829), List(135109, 1.7686255), List(132922, 1.7089492), List(132875, 1.691183), List(132768, 1.6880231), List(135073, 1.6805502), List(132584, 1.6276983), List(135034, 1.6234677), List(135055, 1.6192911), List(132937, 1.6141422))</td><td>U1108</td></tr><tr><td>List(List(134986, 2.5344782), List(135109, 2.4177907), List(132922, 2.3362105), List(132875, 2.3119233), List(132768, 2.3076036), List(135073, 2.2973878), List(132584, 2.2251368), List(135034, 2.2193534), List(135055, 2.213644), List(132937, 2.2066052))</td><td>U1137</td></tr><tr><td>List(List(132560, 0.0), List(132630, 0.0), List(132660, 0.0), List(132740, 0.0), List(132830, 0.0), List(132870, 0.0), List(135000, 0.0), List(135030, 0.0), List(135040, 0.0), List(135050, 0.0))</td><td>U1047</td></tr><tr><td>List(List(134986, 1.2147541), List(135109, 1.1588268), List(132922, 1.1197262), List(132875, 1.1080855), List(132768, 1.1060151), List(135073, 1.1011188), List(132584, 1.0664895), List(135034, 1.0637175), List(135055, 1.0609809), List(132937, 1.0576073))</td><td>U1123</td></tr><tr><td>List(List(134986, 3.3553472), List(135109, 3.200867), List(132922, 3.0928645), List(132875, 3.0607111), List(132768, 3.0549922), List(135073, 3.041468), List(132584, 2.945816), List(135034, 2.9381597), List(135055, 2.930601), List(132937, 2.9212823))</td><td>U1074</td></tr><tr><td>List(List(134986, 2.0236728), List(135109, 1.9305029), List(132922, 1.8653646), List(132875, 1.8459723), List(132768, 1.8425231), List(135073, 1.8343663), List(132584, 1.776677), List(135034, 1.7720592), List(135055, 1.7675004), List(132937, 1.7618802))</td><td>U1028</td></tr><tr><td>List(List(134986, 2.3353739), List(135109, 2.227853), List(132922, 2.1526818), List(132875, 2.1303024), List(132768, 2.126322), List(135073, 2.116909), List(132584, 2.0503337), List(135034, 2.0450048), List(135055, 2.0397437), List(132937, 2.033258))</td><td>U1084</td></tr><tr><td>List(List(134986, 1.1980172), List(135109, 1.1428605), List(132922, 1.1042985), List(132875, 1.0928183), List(132768, 1.0907763), List(135073, 1.0859475), List(132584, 1.0517954), List(135034, 1.0490615), List(135055, 1.0463628), List(132937, 1.0430356))</td><td>U1007</td></tr><tr><td>List(List(134986, 1.3276272), List(135109, 1.2665031), List(132922, 1.2237692), List(132875, 1.2110469), List(132768, 1.2087841), List(135073, 1.2034329), List(132584, 1.1655859), List(135034, 1.1625564), List(135055, 1.1595656), List(132937, 1.1558784))</td><td>U1039</td></tr><tr><td>List(List(134986, 2.4648654), List(135109, 2.351383), List(132922, 2.2720435), List(132875, 2.2484233), List(132768, 2.2442222), List(135073, 2.2342873), List(132584, 2.1640205), List(135034, 2.158396), List(135055, 2.1528432), List(132937, 2.1459978))</td><td>U1100</td></tr><tr><td>List(List(134986, 1.3499107), List(135109, 1.2877607), List(132922, 1.2443097), List(132875, 1.2313738), List(132768, 1.229073), List(135073, 1.223632), List(132584, 1.1851497), List(135034, 1.1820693), List(135055, 1.1790283), List(132937, 1.1752793))</td><td>U1091</td></tr><tr><td>List(List(134986, 2.144871), List(135109, 2.0461211), List(132922, 1.9770817), List(132875, 1.9565278), List(132768, 1.9528722), List(135073, 1.9442269), List(132584, 1.8830825), List(135034, 1.8781881), List(135055, 1.8733562), List(132937, 1.8673995))</td><td>U1003</td></tr><tr><td>List(List(134986, 1.5650928), List(135109, 1.4930358), List(132922, 1.4426584), List(132875, 1.4276605), List(132768, 1.424993), List(135073, 1.4186846), List(132584, 1.374068), List(135034, 1.3704967), List(135055, 1.3669709), List(132937, 1.3626243))</td><td>U1066</td></tr><tr><td>List(List(132560, 0.0), List(132630, 0.0), List(132660, 0.0), List(132740, 0.0), List(132830, 0.0), List(132870, 0.0), List(135000, 0.0), List(135030, 0.0), List(135040, 0.0), List(135050, 0.0))</td><td>U1105</td></tr><tr><td>List(List(134986, 1.0901469), List(135109, 1.0399565), List(132922, 1.0048666), List(132875, 0.99442005), List(132768, 0.992562), List(135073, 0.988168), List(132584, 0.95709085), List(135034, 0.95460325), List(135055, 0.9521474), List(132937, 0.94911987))</td><td>U1029</td></tr><tr><td>List(List(134986, 1.182633), List(135109, 1.1281846), List(132922, 1.0901178), List(132875, 1.078785), List(132768, 1.0767692), List(135073, 1.0720024), List(132584, 1.0382888), List(135034, 1.0355902), List(135055, 1.032926), List(132937, 1.0296415))</td><td>U1018</td></tr><tr><td>List(List(134986, 1.2825601), List(135109, 1.223511), List(132922, 1.1822278), List(132875, 1.1699374), List(132768, 1.1677514), List(135073, 1.1625818), List(132584, 1.1260195), List(135034, 1.1230929), List(135055, 1.1202036), List(132937, 1.1166416))</td><td>U1124</td></tr><tr><td>List(List(134986, 1.2256275), List(135109, 1.1691996), List(132922, 1.129749), List(132875, 1.1180041), List(132768, 1.1159152), List(135073, 1.110975), List(132584, 1.0760357), List(135034, 1.073239), List(135055, 1.070478), List(132937, 1.0670741))</td><td>U1010</td></tr><tr><td>List(List(134986, 2.4359338), List(135109, 2.3237832), List(132922, 2.2453752), List(132875, 2.222032), List(132768, 2.2178802), List(135073, 2.208062), List(132584, 2.1386201), List(135034, 2.1330614), List(135055, 2.127574), List(132937, 2.1208088))</td><td>U1093</td></tr><tr><td>List(List(132560, 0.0), List(132630, 0.0), List(132660, 0.0), List(132740, 0.0), List(132830, 0.0), List(132870, 0.0), List(135000, 0.0), List(135030, 0.0), List(135040, 0.0), List(135050, 0.0))</td><td>U1062</td></tr><tr><td>List(List(134986, 2.5242016), List(135109, 2.4079874), List(132922, 2.3267379), List(132875, 2.3025491), List(132768, 2.298247), List(135073, 2.2880728), List(132584, 2.2161145), List(135034, 2.2103546), List(135055, 2.2046683), List(132937, 2.197658))</td><td>U1054</td></tr><tr><td>List(List(134986, 1.8144554), List(135109, 1.7309178), List(132922, 1.6725138), List(132875, 1.6551263), List(132768, 1.6520338), List(135073, 1.6447203), List(132584, 1.5929952), List(135034, 1.5888548), List(135055, 1.5847672), List(132937, 1.5797281))</td><td>U1063</td></tr><tr><td>List(List(134986, 0.23348346), List(135109, 0.22273387), List(132922, 0.21521847), List(132875, 0.21298106), List(132768, 0.21258311), List(135073, 0.21164201), List(132584, 0.20498604), List(135034, 0.20445326), List(135055, 0.20392728), List(132937, 0.20327884))</td><td>U1114</td></tr><tr><td>List(List(134986, 1.9582355), List(135109, 1.8680782), List(132922, 1.8050462), List(132875, 1.786281), List(132768, 1.7829434), List(135073, 1.7750504), List(132584, 1.7192265), List(135034, 1.7147579), List(135055, 1.7103466), List(132937, 1.7049081))</td><td>U1046</td></tr><tr><td>List(List(134986, 2.473672), List(135109, 2.3597841), List(132922, 2.2801611), List(132875, 2.2564566), List(132768, 2.2522404), List(135073, 2.24227), List(132584, 2.1717522), List(135034, 2.1661077), List(135055, 2.160535), List(132937, 2.153665))</td><td>U1060</td></tr><tr><td>List(List(134986, 1.4977597), List(135109, 1.4288027), List(132922, 1.3805926), List(132875, 1.36624), List(132768, 1.3636872), List(135073, 1.3576502), List(132584, 1.3149532), List(135034, 1.3115355), List(135055, 1.3081614), List(132937, 1.3040018))</td><td>U1008</td></tr><tr><td>List(List(134986, 1.6323222), List(135109, 1.55717), List(132922, 1.5046285), List(132875, 1.4889865), List(132768, 1.4862044), List(135073, 1.479625), List(132584, 1.433092), List(135034, 1.4293672), List(135055, 1.4256899), List(132937, 1.4211566))</td><td>U1040</td></tr><tr><td>List(List(134986, 1.1232408), List(135109, 1.0715268), List(132922, 1.0353717), List(132875, 1.024608), List(132768, 1.0226935), List(135073, 1.0181661), List(132584, 0.98614556), List(135034, 0.98358244), List(135055, 0.9810521), List(132937, 0.9779326))</td><td>U1092</td></tr><tr><td>List(List(134986, 2.0871484), List(135109, 1.991056), List(132922, 1.9238746), List(132875, 1.9038739), List(132768, 1.9003166), List(135073, 1.891904), List(132584, 1.8324051), List(135034, 1.8276424), List(135055, 1.8229407), List(132937, 1.8171442))</td><td>U1014</td></tr><tr><td>List(List(134986, 2.269485), List(135109, 2.1649978), List(132922, 2.0919473), List(132875, 2.0701995), List(132768, 2.0663314), List(135073, 2.0571837), List(132584, 1.992487), List(135034, 1.9873083), List(135055, 1.9821957), List(132937, 1.9758929))</td><td>U1033</td></tr><tr><td>List(List(134986, 0.7052512), List(135109, 0.67278147), List(132922, 0.65008074), List(132875, 0.64332247), List(132768, 0.6421204), List(135073, 0.6392778), List(132584, 0.619173), List(135034, 0.6175637), List(135055, 0.61597496), List(132937, 0.61401635))</td><td>U1034</td></tr><tr><td>List(List(134986, 1.7773454), List(135109, 1.6955163), List(132922, 1.6383069), List(132875, 1.6212751), List(132768, 1.6182458), List(135073, 1.6110818), List(132584, 1.5604146), List(135034, 1.5563589), List(135055, 1.552355), List(132937, 1.547419))</td><td>U1001</td></tr><tr><td>List(List(132560, 0.0), List(132630, 0.0), List(132660, 0.0), List(132740, 0.0), List(132830, 0.0), List(132870, 0.0), List(135000, 0.0), List(135030, 0.0), List(135040, 0.0), List(135050, 0.0))</td><td>U1050</td></tr><tr><td>List(List(134986, 1.06861), List(135109, 1.0194111), List(132922, 0.9850145), List(132875, 0.9747743), List(132768, 0.97295296), List(135073, 0.96864575), List(132584, 0.9381826), List(135034, 0.9357441), List(135055, 0.93333685), List(132937, 0.9303691))</td><td>U1027</td></tr><tr><td>List(List(134986, 2.5382607), List(135109, 2.421399), List(132922, 2.3396971), List(132875, 2.3153737), List(132768, 2.3110476), List(135073, 2.3008165), List(132584, 2.2284577), List(135034, 2.2226655), List(135055, 2.2169476), List(132937, 2.2098982))</td><td>U1004</td></tr><tr><td>List(List(134986, 2.1861603), List(135109, 2.0855095), List(132922, 2.015141), List(132875, 1.9941915), List(132768, 1.9904655), List(135073, 1.9816538), List(132584, 1.9193323), List(135034, 1.9143437), List(135055, 1.909419), List(132937, 1.9033475))</td><td>U1090</td></tr><tr><td>List(List(134986, 1.911032), List(135109, 1.8230479), List(132922, 1.7615353), List(132875, 1.7432225), List(132768, 1.7399653), List(135073, 1.7322625), List(132584, 1.6777842), List(135034, 1.6734234), List(135055, 1.6691184), List(132937, 1.663811))</td><td>U1119</td></tr><tr><td>List(List(134986, 1.3259612), List(135109, 1.2649139), List(132922, 1.2222337), List(132875, 1.2095273), List(132768, 1.2072673), List(135073, 1.2019228), List(132584, 1.1641233), List(135034, 1.1610975), List(135055, 1.1581105), List(132937, 1.154428))</td><td>U1065</td></tr><tr><td>List(List(134986, 1.8129452), List(135109, 1.7294772), List(132922, 1.6711218), List(132875, 1.6537489), List(132768, 1.650659), List(135073, 1.6433516), List(132584, 1.5916693), List(135034, 1.5875324), List(135055, 1.5834483), List(132937, 1.5784134))</td><td>U1126</td></tr><tr><td>List(List(134986, 2.290446), List(135109, 2.184994), List(132922, 2.1112688), List(132875, 2.08932), List(132768, 2.085416), List(135073, 2.076184), List(132584, 2.0108898), List(135034, 2.0056632), List(135055, 2.0005033), List(132937, 1.9941423))</td><td>U1053</td></tr><tr><td>List(List(134986, 1.6258681), List(135109, 1.5510131), List(132922, 1.4986794), List(132875, 1.4830991), List(132768, 1.480328), List(135073, 1.4737747), List(132584, 1.4274256), List(135034, 1.4237156), List(135055, 1.4200529), List(132937, 1.4155375))</td><td>U1099</td></tr><tr><td>List(List(134986, 1.5493007), List(135109, 1.4779708), List(132922, 1.4281017), List(132875, 1.4132551), List(132768, 1.4106145), List(135073, 1.4043698), List(132584, 1.3602034), List(135034, 1.3566681), List(135055, 1.3531779), List(132937, 1.3488752))</td><td>U1064</td></tr><tr><td>List(List(132560, 0.0), List(132630, 0.0), List(132660, 0.0), List(132740, 0.0), List(132830, 0.0), List(132870, 0.0), List(135000, 0.0), List(135030, 0.0), List(135040, 0.0), List(135050, 0.0))</td><td>U1094</td></tr><tr><td>List(List(134986, 2.048094), List(135109, 1.9537997), List(132922, 1.8878753), List(132875, 1.8682489), List(132768, 1.8647583), List(135073, 1.856503), List(132584, 1.7981174), List(135034, 1.7934439), List(135055, 1.78883), List(132937, 1.7831421))</td><td>U1083</td></tr><tr><td>List(List(134986, 1.387727), List(135109, 1.323836), List(132922, 1.2791677), List(132875, 1.2658694), List(132768, 1.2635041), List(135073, 1.2579107), List(132584, 1.2183504), List(135034, 1.2151837), List(135055, 1.2120576), List(132937, 1.2082036))</td><td>U1043</td></tr><tr><td>List(List(132560, 0.0), List(132630, 0.0), List(132660, 0.0), List(132740, 0.0), List(132830, 0.0), List(132870, 0.0), List(135000, 0.0), List(135030, 0.0), List(135040, 0.0), List(135050, 0.0))</td><td>U1082</td></tr><tr><td>List(List(134986, 1.8159072), List(135109, 1.7323028), List(132922, 1.6738521), List(132875, 1.6564506), List(132768, 1.6533557), List(135073, 1.6460364), List(132584, 1.5942698), List(135034, 1.590126), List(135055, 1.5860353), List(132937, 1.5809921))</td><td>U1079</td></tr><tr><td>List(List(134986, 1.6979139), List(135109, 1.6197418), List(132922, 1.5650891), List(132875, 1.5488185), List(132768, 1.5459245), List(135073, 1.5390807), List(132584, 1.4906778), List(135034, 1.4868034), List(135055, 1.4829785), List(132937, 1.478263))</td><td>U1098</td></tr><tr><td>List(List(134986, 0.004191026), List(135109, 0.003998071), List(132922, 0.0038631696), List(132875, 0.0038230082), List(132768, 0.003815865), List(135073, 0.0037989723), List(132584, 0.0036794976), List(135034, 0.003669934), List(135055, 0.0036604928), List(132937, 0.0036488534))</td><td>U1130</td></tr><tr><td>List(List(134986, 2.3201108), List(135109, 2.2132928), List(132922, 2.1386127), List(132875, 2.1163797), List(132768, 2.1124253), List(135073, 2.1030736), List(132584, 2.0369337), List(135034, 2.0316393), List(135055, 2.0264127), List(132937, 2.0199692))</td><td>U1107</td></tr><tr><td>List(List(134986, 1.703726), List(135109, 1.6252863), List(132922, 1.5704466), List(132875, 1.5541202), List(132768, 1.5512165), List(135073, 1.5443493), List(132584, 1.4957807), List(135034, 1.4918929), List(135055, 1.4880549), List(132937, 1.4833232))</td><td>U1002</td></tr><tr><td>List(List(134986, 1.312638), List(135109, 1.2522041), List(132922, 1.2099527), List(132875, 1.1973741), List(132768, 1.1951368), List(135073, 1.189846), List(132584, 1.1524262), List(135034, 1.149431), List(135055, 1.1464739), List(132937, 1.1428285))</td><td>U1129</td></tr><tr><td>List(List(134986, 2.0767114), List(135109, 1.9810995), List(132922, 1.914254), List(132875, 1.8943534), List(132768, 1.8908138), List(135073, 1.8824433), List(132584, 1.823242), List(135034, 1.8185031), List(135055, 1.8138248), List(132937, 1.8080573))</td><td>U1134</td></tr><tr><td>List(List(134986, 1.0881805), List(135109, 1.0380806), List(132922, 1.0030541), List(132875, 0.99262637), List(132768, 0.99077165), List(135073, 0.9863856), List(132584, 0.9553645), List(135034, 0.9528814), List(135055, 0.95043004), List(132937, 0.9474079))</td><td>U1015</td></tr><tr><td>List(List(134986, 3.377936), List(135109, 3.2224157), List(132922, 3.113686), List(132875, 3.0813162), List(132768, 3.075559), List(135073, 3.0619435), List(132584, 2.9656477), List(135034, 2.9579396), List(135055, 2.95033), List(132937, 2.9409487))</td><td>U1021</td></tr><tr><td>List(List(134986, 2.93997), List(135109, 2.8046138), List(132922, 2.7099814), List(132875, 2.6818085), List(132768, 2.6767976), List(135073, 2.6649477), List(132584, 2.5811372), List(135034, 2.5744283), List(135055, 2.5678055), List(132937, 2.5596404))</td><td>U1127</td></tr><tr><td>List(List(134986, 1.1189063), List(135109, 1.0673918), List(132922, 1.0313762), List(132875, 1.0206541), List(132768, 1.0187471), List(135073, 1.014237), List(132584, 0.9823401), List(135034, 0.9797869), List(135055, 0.9772663), List(132937, 0.9741588))</td><td>U1051</td></tr><tr><td>List(List(134986, 1.4701766), List(135109, 1.4024895), List(132922, 1.3551673), List(132875, 1.341079), List(132768, 1.3385732), List(135073, 1.3326474), List(132584, 1.2907367), List(135034, 1.2873819), List(135055, 1.2840699), List(132937, 1.279987))</td><td>U1111</td></tr><tr><td>List(List(134986, 1.487698), List(135109, 1.4192044), List(132922, 1.3713181), List(132875, 1.3570619), List(132768, 1.3545263), List(135073, 1.3485298), List(132584, 1.3061196), List(135034, 1.3027248), List(135055, 1.2993734), List(132937, 1.2952417))</td><td>U1067</td></tr><tr><td>List(List(134986, 0.3724289), List(135109, 0.35528225), List(132922, 0.34329444), List(132875, 0.33972555), List(132768, 0.3390908), List(135073, 0.33758965), List(132584, 0.32697272), List(135034, 0.32612288), List(135055, 0.32528389), List(132937, 0.3242496))</td><td>U1069</td></tr><tr><td>List(List(134986, 1.6495843), List(135109, 1.5736374), List(132922, 1.5205402), List(132875, 1.5047327), List(132768, 1.5019212), List(135073, 1.4952723), List(132584, 1.4482471), List(135034, 1.4444829), List(135055, 1.4407668), List(132937, 1.4361856))</td><td>U1032</td></tr><tr><td>List(List(134986, 1.4781946), List(135109, 1.4101385), List(132922, 1.3625581), List(132875, 1.348393), List(132768, 1.3458735), List(135073, 1.3399154), List(132584, 1.2977761), List(135034, 1.2944031), List(135055, 1.2910731), List(132937, 1.2869678))</td><td>U1133</td></tr><tr><td>List(List(134986, 1.6867659), List(135109, 1.6091071), List(132922, 1.5548133), List(132875, 1.5386494), List(132768, 1.5357745), List(135073, 1.5289757), List(132584, 1.4808906), List(135034, 1.4770416), List(135055, 1.4732417), List(132937, 1.4685572))</td><td>U1106</td></tr><tr><td>List(List(134986, 2.578292), List(135109, 2.459587), List(132922, 2.3765967), List(132875, 2.3518896), List(132768, 2.3474953), List(135073, 2.337103), List(132584, 2.263603), List(135034, 2.2577195), List(135055, 2.2519112), List(132937, 2.2447507))</td><td>U1122</td></tr><tr><td>List(List(134986, 1.1270703), List(135109, 1.0751799), List(132922, 1.0389016), List(132875, 1.0281012), List(132768, 1.0261803), List(135073, 1.0216373), List(132584, 0.9895077), List(135034, 0.9869358), List(135055, 0.9843968), List(132937, 0.9812667))</td><td>U1113</td></tr><tr><td>List(List(134986, 1.8542149), List(135109, 1.7688469), List(132922, 1.7091631), List(132875, 1.6913946), List(132768, 1.6882343), List(135073, 1.6807605), List(132584, 1.6279019), List(135034, 1.6236708), List(135055, 1.6194937), List(132937, 1.6143442))</td><td>U1044</td></tr><tr><td>List(List(132560, 0.0), List(132630, 0.0), List(132660, 0.0), List(132740, 0.0), List(132830, 0.0), List(132870, 0.0), List(135000, 0.0), List(135030, 0.0), List(135040, 0.0), List(135050, 0.0))</td><td>U1031</td></tr><tr><td>List(List(134986, 1.8674885), List(135109, 1.7815093), List(132922, 1.7213982), List(132875, 1.7035027), List(132768, 1.7003196), List(135073, 1.6927924), List(132584, 1.6395555), List(135034, 1.6352941), List(135055, 1.6310871), List(132937, 1.6259006))</td><td>U1009</td></tr><tr><td>List(List(134986, 2.0095818), List(135109, 1.9170605), List(132922, 1.8523759), List(132875, 1.8331186), List(132768, 1.8296934), List(135073, 1.8215934), List(132584, 1.7643057), List(135034, 1.7597201), List(135055, 1.755193), List(132937, 1.749612))</td><td>U1078</td></tr></tbody></table></div>"
      ]
     },
     "metadata": {},
     "output_type": "display_data"
    }
   ],
   "source": [
    "userRecommendations = IndexToString(inputCol=\"userIdIndex\", outputCol=\"userID\", \n",
    "                                    labels=userIdIndexer.labels\n",
    "                                   ).transform(userRecommendations).drop(\"userIdIndex\")\n",
    "display(userRecommendations)"
   ]
  },
  {
   "cell_type": "code",
   "execution_count": 64,
   "metadata": {},
   "outputs": [
    {
     "data": {
      "text/html": [
       "<div style=\"max-width:1500px;overflow:auto;\">\n",
       "<table border=\"1\" class=\"dataframe\">\n",
       "  <thead>\n",
       "    <tr style=\"text-align: right;\">\n",
       "      <th></th>\n",
       "      <th>userID</th>\n",
       "      <th>Category</th>\n",
       "      <th>Rating</th>\n",
       "    </tr>\n",
       "  </thead>\n",
       "  <tbody>\n",
       "    <tr>\n",
       "      <th>0</th>\n",
       "      <td>U1057</td>\n",
       "      <td>134986</td>\n",
       "      <td>1.0</td>\n",
       "    </tr>\n",
       "    <tr>\n",
       "      <th>1</th>\n",
       "      <td>U1057</td>\n",
       "      <td>135109</td>\n",
       "      <td>1.0</td>\n",
       "    </tr>\n",
       "    <tr>\n",
       "      <th>2</th>\n",
       "      <td>U1057</td>\n",
       "      <td>132922</td>\n",
       "      <td>1.0</td>\n",
       "    </tr>\n",
       "    <tr>\n",
       "      <th>3</th>\n",
       "      <td>U1057</td>\n",
       "      <td>132875</td>\n",
       "      <td>1.0</td>\n",
       "    </tr>\n",
       "    <tr>\n",
       "      <th>4</th>\n",
       "      <td>U1057</td>\n",
       "      <td>132768</td>\n",
       "      <td>1.0</td>\n",
       "    </tr>\n",
       "  </tbody>\n",
       "</table>\n",
       "</div>"
      ]
     },
     "metadata": {},
     "output_type": "display_data"
    }
   ],
   "source": [
    "userRecommendations = userRecommendations.withColumn(\"recommendations\", F.explode(userRecommendations.recommendations)).toPandas()\n",
    "df = pd.DataFrame(userRecommendations['recommendations'].tolist(), index=userRecommendations.index, columns=['Category', 'Rating'])\n",
    "userRecommendations = pd.concat([userRecommendations, df], axis=1)\n",
    "userRecommendations.drop(['recommendations'], axis=1, inplace=True)\n",
    "userRecommendations.Rating = userRecommendations.Rating.round(0)\n",
    "userRecommendations.head()"
   ]
  },
  {
   "cell_type": "markdown",
   "metadata": {},
   "source": [
    "- Les 10 meilleurs clients recommandés pour chacun des restaurants"
   ]
  },
  {
   "cell_type": "code",
   "execution_count": 66,
   "metadata": {},
   "outputs": [
    {
     "data": {
      "text/html": [
       "<style scoped>\n",
       "  .table-result-container {\n",
       "    max-height: 300px;\n",
       "    overflow: auto;\n",
       "  }\n",
       "  table, th, td {\n",
       "    border: 1px solid black;\n",
       "    border-collapse: collapse;\n",
       "  }\n",
       "  th, td {\n",
       "    padding: 5px;\n",
       "  }\n",
       "  th {\n",
       "    text-align: left;\n",
       "  }\n",
       "</style><div class='table-result-container'><table class='table-result'><thead style='background-color: white'><tr><th>placeID</th><th>recommendations</th></tr></thead><tbody><tr><td>135000</td><td>List(List(131, 2.434928), List(136, 2.4186454), List(118, 2.119228), List(103, 2.0419743), List(39, 1.9167094), List(100, 1.9116743), List(18, 1.8585181), List(75, 1.8296623), List(7, 1.8269359), List(25, 1.8195282))</td></tr><tr><td>135027</td><td>List(List(131, 1.6194421), List(136, 1.6086128), List(118, 1.4094735), List(103, 1.3580931), List(39, 1.274781), List(100, 1.2714322), List(18, 1.2360786), List(75, 1.216887), List(7, 1.2150736), List(25, 1.2101469))</td></tr><tr><td>135066</td><td>List(List(131, 2.4782162), List(136, 2.4616442), List(118, 2.1569035), List(103, 2.0782764), List(39, 1.9507847), List(100, 1.9456601), List(18, 1.8915589), List(75, 1.8621901), List(7, 1.8594152), List(25, 1.8518758))</td></tr><tr><td>132663</td><td>List(List(131, 1.6706334), List(136, 1.6594617), List(118, 1.4540277), List(103, 1.4010231), List(39, 1.3150774), List(100, 1.3116227), List(18, 1.2751516), List(75, 1.2553533), List(7, 1.2534827), List(25, 1.2484002))</td></tr><tr><td>135108</td><td>List(List(131, 2.4132352), List(136, 2.3970976), List(118, 2.1003475), List(103, 2.0237823), List(39, 1.8996333), List(100, 1.8946431), List(18, 1.8419604), List(75, 1.8133618), List(7, 1.8106595), List(25, 1.8033179))</td></tr><tr><td>135071</td><td>List(List(131, 1.8727553), List(136, 1.860232), List(118, 1.6299435), List(103, 1.5705261), List(39, 1.4741822), List(100, 1.4703096), List(18, 1.4294261), List(75, 1.4072325), List(7, 1.4051355), List(25, 1.3994381))</td></tr><tr><td>132723</td><td>List(List(131, 2.3622367), List(136, 2.3464403), List(118, 2.0559614), List(103, 1.981014), List(39, 1.8594888), List(100, 1.854604), List(18, 1.8030348), List(75, 1.7750405), List(7, 1.7723954), List(25, 1.7652088))</td></tr><tr><td>135062</td><td>List(List(131, 2.3643842), List(136, 2.3485734), List(118, 2.0578303), List(103, 1.9828149), List(39, 1.8611792), List(100, 1.85629), List(18, 1.8046739), List(75, 1.7766541), List(7, 1.7740066), List(25, 1.7668135))</td></tr><tr><td>132862</td><td>List(List(131, 2.8491356), List(136, 2.8300831), List(118, 2.4797313), List(103, 2.389336), List(39, 2.2427623), List(100, 2.2368708), List(18, 2.1746721), List(75, 2.1409078), List(7, 2.1377172), List(25, 2.1290495))</td></tr><tr><td>132773</td><td>List(List(131, 2.562558), List(136, 2.5454218), List(118, 2.23031), List(103, 2.149007), List(39, 2.0171764), List(100, 2.0118773), List(18, 1.9559348), List(75, 1.9255666), List(7, 1.9226971), List(25, 1.9149011))</td></tr><tr><td>135048</td><td>List(List(131, 1.8226849), List(136, 1.8104964), List(118, 1.586365), List(103, 1.5285362), List(39, 1.4347682), List(100, 1.4309992), List(18, 1.3912086), List(75, 1.3696084), List(7, 1.3675675), List(25, 1.3620224))</td></tr><tr><td>132732</td><td>List(List(131, 1.7328141), List(136, 1.7212266), List(118, 1.5081463), List(103, 1.4531689), List(39, 1.3640243), List(100, 1.3604411), List(18, 1.3226125), List(75, 1.3020774), List(7, 1.300137), List(25, 1.2948654))</td></tr><tr><td>132706</td><td>List(List(131, 0.013103603), List(136, 0.013015978), List(118, 0.011404658), List(103, 0.010988916), List(39, 0.010314802), List(100, 0.010287706), List(18, 0.0100016445), List(75, 0.009846357), List(7, 0.009831684), List(25, 0.009791819))</td></tr><tr><td>132885</td><td>List(List(131, 0.91973436), List(136, 0.913584), List(118, 0.8004863), List(103, 0.7713057), List(39, 0.72398996), List(100, 0.7220881), List(18, 0.7020097), List(75, 0.6911101), List(7, 0.6900802), List(25, 0.68728215))</td></tr><tr><td>135025</td><td>List(List(131, 2.608011), List(136, 2.590571), List(118, 2.2698696), List(103, 2.1871247), List(39, 2.0529556), List(100, 2.0475626), List(18, 1.9906279), List(75, 1.959721), List(7, 1.9568006), List(25, 1.9488664))</td></tr><tr><td>132856</td><td>List(List(131, 1.762436), List(136, 1.7506504), List(118, 1.5339276), List(103, 1.4780104), List(39, 1.3873419), List(100, 1.3836974), List(18, 1.3452222), List(75, 1.3243359), List(7, 1.3223624), List(25, 1.3170007))</td></tr><tr><td>132608</td><td>List(List(131, 2.56152), List(136, 2.544391), List(118, 2.2294066), List(103, 2.1481366), List(39, 2.0163593), List(100, 2.0110624), List(18, 1.9551426), List(75, 1.9247866), List(7, 1.9219183), List(25, 1.9141256))</td></tr><tr><td>132925</td><td>List(List(131, 2.111641), List(136, 2.0975204), List(118, 1.8378565), List(103, 1.77086), List(39, 1.6622267), List(100, 1.65786), List(18, 1.6117615), List(75, 1.5867369), List(7, 1.5843724), List(25, 1.5779482))</td></tr><tr><td>135030</td><td>List(List(131, 2.6579819), List(136, 2.6402075), List(118, 2.3133616), List(103, 2.229031), List(39, 2.0922914), List(100, 2.086795), List(18, 2.0287695), List(75, 1.9972703), List(7, 1.9942939), List(25, 1.9862077))</td></tr><tr><td>135040</td><td>List(List(0, 0.0), List(10, 0.0), List(20, 0.0), List(30, 0.0), List(40, 0.0), List(50, 0.0), List(60, 0.0), List(70, 0.0), List(80, 0.0), List(90, 0.0))</td></tr><tr><td>132740</td><td>List(List(131, 1.5813414), List(136, 1.5707668), List(118, 1.3763129), List(103, 1.3261412), List(39, 1.2447891), List(100, 1.2415191), List(18, 1.2069974), List(75, 1.1882572), List(7, 1.1864865), List(25, 1.1816757))</td></tr><tr><td>132921</td><td>List(List(131, 2.5706334), List(136, 2.5534432), List(118, 2.2373383), List(103, 2.1557791), List(39, 2.0235329), List(100, 2.0182173), List(18, 1.9620985), List(75, 1.9316345), List(7, 1.928756), List(25, 1.9209355))</td></tr><tr><td>135019</td><td>List(List(131, 2.8721633), List(136, 2.8529568), List(118, 2.4997735), List(103, 2.4086475), List(39, 2.2608893), List(100, 2.25495), List(18, 2.1922486), List(75, 2.1582112), List(7, 2.1549952), List(25, 2.1462574))</td></tr><tr><td>132572</td><td>List(List(131, 1.827839), List(136, 1.815616), List(118, 1.5908508), List(103, 1.5328585), List(39, 1.4388254), List(100, 1.4350456), List(18, 1.3951427), List(75, 1.3734814), List(7, 1.3714346), List(25, 1.3658739))</td></tr><tr><td>135049</td><td>List(List(131, 2.027063), List(136, 2.0135076), List(118, 1.7642443), List(103, 1.6999313), List(39, 1.595649), List(100, 1.5914574), List(18, 1.5472051), List(75, 1.5231829), List(7, 1.520913), List(25, 1.5147462))</td></tr><tr><td>132951</td><td>List(List(131, 2.2647817), List(136, 2.249637), List(118, 1.9711418), List(103, 1.8992865), List(39, 1.7827749), List(100, 1.7780917), List(18, 1.7286499), List(75, 1.7018105), List(7, 1.6992744), List(25, 1.6923845))</td></tr><tr><td>135026</td><td>List(List(131, 1.9531045), List(136, 1.9400439), List(118, 1.699875), List(103, 1.6379083), List(39, 1.537431), List(100, 1.5333922), List(18, 1.4907546), List(75, 1.4676088), List(7, 1.4654218), List(25, 1.4594799))</td></tr><tr><td>135046</td><td>List(List(131, 2.350394), List(136, 2.3346767), List(118, 2.045654), List(103, 1.9710826), List(39, 1.8501667), List(100, 1.8453063), List(18, 1.7939955), List(75, 1.7661415), List(7, 1.7635098), List(25, 1.7563592))</td></tr><tr><td>135053</td><td>List(List(131, 2.5925114), List(136, 2.575175), List(118, 2.2563796), List(103, 2.1741264), List(39, 2.0407548), List(100, 2.0353937), List(18, 1.9787974), List(75, 1.9480742), List(7, 1.9451712), List(25, 1.9372842))</td></tr><tr><td>135106</td><td>List(List(131, 2.3495755), List(136, 2.3338635), List(118, 2.0449417), List(103, 1.970396), List(39, 1.8495222), List(100, 1.8446636), List(18, 1.7933707), List(75, 1.7655264), List(7, 1.7628955), List(25, 1.7557474))</td></tr><tr><td>132937</td><td>List(List(131, 2.9409487), List(136, 2.9212823), List(118, 2.5596404), List(103, 2.4663322), List(39, 2.3150353), List(100, 2.3089538), List(18, 2.2447507), List(75, 2.2098982), List(7, 2.2066052), List(25, 2.197658))</td></tr><tr><td>134992</td><td>List(List(131, 1.9916755), List(136, 1.9783568), List(118, 1.733445), List(103, 1.6702547), List(39, 1.567793), List(100, 1.5636744), List(18, 1.5201948), List(75, 1.4965919), List(7, 1.4943618), List(25, 1.4883026))</td></tr><tr><td>135052</td><td>List(List(131, 2.6599584), List(136, 2.642171), List(118, 2.3150818), List(103, 2.2306886), List(39, 2.093847), List(100, 2.0883467), List(18, 2.030278), List(75, 1.9987553), List(7, 1.9957769), List(25, 1.9876846))</td></tr><tr><td>135039</td><td>List(List(131, 2.3630242), List(136, 2.3472226), List(118, 2.0566468), List(103, 1.9816744), List(39, 1.8601087), List(100, 1.8552223), List(18, 1.8036358), List(75, 1.7756323), List(7, 1.7729862), List(25, 1.7657973))</td></tr><tr><td>135035</td><td>List(List(131, 2.7964578), List(136, 2.7777576), List(118, 2.4338834), List(103, 2.3451595), List(39, 2.2012959), List(100, 2.1955132), List(18, 2.1344645), List(75, 2.1013243), List(7, 2.098193), List(25, 2.0896854))</td></tr><tr><td>135057</td><td>List(List(131, 2.431053), List(136, 2.414796), List(118, 2.115855), List(103, 2.0387244), List(39, 1.9136591), List(100, 1.9086319), List(18, 1.8555603), List(75, 1.8267505), List(7, 1.8240283), List(25, 1.8166324))</td></tr><tr><td>132626</td><td>List(List(131, 2.588273), List(136, 2.570965), List(118, 2.2526908), List(103, 2.170572), List(39, 2.0374186), List(100, 2.0320663), List(18, 1.9755625), List(75, 1.9448894), List(7, 1.9419912), List(25, 1.934117))</td></tr><tr><td>132767</td><td>List(List(131, 2.1463125), List(136, 2.13196), List(118, 1.8680327), List(103, 1.7999362), List(39, 1.6895192), List(100, 1.6850809), List(18, 1.6382253), List(75, 1.6127899), List(7, 1.6103865), List(25, 1.6038569))</td></tr><tr><td>135073</td><td>List(List(131, 3.0619435), List(136, 3.041468), List(118, 2.6649477), List(103, 2.5678005), List(39, 2.410279), List(100, 2.4039474), List(18, 2.337103), List(75, 2.3008165), List(7, 2.2973878), List(25, 2.2880728))</td></tr><tr><td>134986</td><td>List(List(131, 3.377936), List(136, 3.3553472), List(118, 2.93997), List(103, 2.8327975), List(39, 2.6590197), List(100, 2.6520345), List(18, 2.578292), List(75, 2.5382607), List(7, 2.5344782), List(25, 2.5242016))</td></tr><tr><td>132830</td><td>List(List(131, 1.9093193), List(136, 1.8965515), List(118, 1.6617668), List(103, 1.6011894), List(39, 1.5029645), List(100, 1.4990163), List(18, 1.4573345), List(75, 1.4347076), List(7, 1.4325696), List(25, 1.426761))</td></tr><tr><td>132846</td><td>List(List(131, 2.4784968), List(136, 2.461923), List(118, 2.1571476), List(103, 2.0785117), List(39, 1.9510056), List(100, 1.9458804), List(18, 1.8917731), List(75, 1.862401), List(7, 1.8596257), List(25, 1.8520855))</td></tr><tr><td>135081</td><td>List(List(131, 1.9825327), List(136, 1.9692754), List(118, 1.7254878), List(103, 1.6625875), List(39, 1.5605961), List(100, 1.5564965), List(18, 1.5132165), List(75, 1.4897219), List(7, 1.487502), List(25, 1.4814706))</td></tr><tr><td>134983</td><td>List(List(131, 2.2673583), List(136, 2.2521963), List(118, 1.9733843), List(103, 1.9014473), List(39, 1.784803), List(100, 1.7801144), List(18, 1.7306165), List(75, 1.7037466), List(7, 1.7012076), List(25, 1.6943097))</td></tr><tr><td>135079</td><td>List(List(131, 2.3210733), List(136, 2.305552), List(118, 2.0201347), List(103, 1.9464935), List(39, 1.827086), List(100, 1.8222862), List(18, 1.7716156), List(75, 1.7441092), List(7, 1.7415102), List(25, 1.7344488))</td></tr><tr><td>135011</td><td>List(List(131, 1.7656293), List(136, 1.7538223), List(118, 1.5367068), List(103, 1.4806883), List(39, 1.3898556), List(100, 1.3862045), List(18, 1.3476596), List(75, 1.3267355), List(7, 1.3247584), List(25, 1.319387))</td></tr><tr><td>132954</td><td>List(List(131, 2.0829177), List(136, 2.068989), List(118, 1.8128573), List(103, 1.746772), List(39, 1.6396165), List(100, 1.6353092), List(18, 1.5898377), List(75, 1.5651535), List(7, 1.5628211), List(25, 1.5564843))</td></tr><tr><td>135109</td><td>List(List(131, 3.2224157), List(136, 3.200867), List(118, 2.8046138), List(103, 2.7023754), List(39, 2.5365984), List(100, 2.5299346), List(18, 2.459587), List(75, 2.421399), List(7, 2.4177907), List(25, 2.4079874))</td></tr><tr><td>135060</td><td>List(List(131, 1.8916692), List(136, 1.8790194), List(118, 1.6464051), List(103, 1.5863876), List(39, 1.4890708), List(100, 1.485159), List(18, 1.4438626), List(75, 1.4214449), List(7, 1.4193267), List(25, 1.4135717))</td></tr><tr><td>132754</td><td>List(List(131, 2.5151224), List(136, 2.4983034), List(118, 2.1890244), List(103, 2.1092267), List(39, 1.9798362), List(100, 1.9746352), List(18, 1.9197284), List(75, 1.8899223), List(7, 1.887106), List(25, 1.8794544))</td></tr><tr><td>132630</td><td>List(List(131, 2.5166976), List(136, 2.4998682), List(118, 2.1903956), List(103, 2.1105475), List(39, 1.9810762), List(100, 1.975872), List(18, 1.9209307), List(75, 1.891106), List(7, 1.8882879), List(25, 1.8806314))</td></tr><tr><td>135075</td><td>List(List(131, 2.676857), List(136, 2.6589565), List(118, 2.3297894), List(103, 2.2448602), List(39, 2.1071494), List(100, 2.101614), List(18, 2.0431762), List(75, 2.0114534), List(7, 2.008456), List(25, 2.0003123))</td></tr><tr><td>132715</td><td>List(List(131, 1.8044149), List(136, 1.7923485), List(118, 1.5704637), List(103, 1.5132146), List(39, 1.4203866), List(100, 1.4166552), List(18, 1.3772635), List(75, 1.3558799), List(7, 1.3538594), List(25, 1.3483698))</td></tr><tr><td>132861</td><td>List(List(131, 2.0550795), List(136, 2.0413368), List(118, 1.7886283), List(103, 1.7234263), List(39, 1.6177028), List(100, 1.6134531), List(18, 1.5685893), List(75, 1.5442351), List(7, 1.5419339), List(25, 1.5356818))</td></tr><tr><td>132872</td><td>List(List(131, 1.6912922), List(136, 1.6799822), List(118, 1.4720079), List(103, 1.4183478), List(39, 1.3313394), List(100, 1.327842), List(18, 1.2909199), List(75, 1.2708768), List(7, 1.268983), List(25, 1.2638376))</td></tr><tr><td>135045</td><td>List(List(131, 2.429381), List(136, 2.4131355), List(118, 2.1144), List(103, 2.0373223), List(39, 1.9123429), List(100, 1.9073193), List(18, 1.8542842), List(75, 1.8254942), List(7, 1.8227738), List(25, 1.8153831))</td></tr><tr><td>132955</td><td>List(List(131, 2.646526), List(136, 2.6288283), List(118, 2.303391), List(103, 2.219424), List(39, 2.0832736), List(100, 2.077801), List(18, 2.0200255), List(75, 1.9886621), List(7, 1.9856986), List(25, 1.9776472))</td></tr><tr><td>135086</td><td>List(List(131, 1.855888), List(136, 1.8434775), List(118, 1.6152631), List(103, 1.5563809), List(39, 1.4609048), List(100, 1.457067), List(18, 1.4165517), List(75, 1.3945581), List(7, 1.3924799), List(25, 1.3868338))</td></tr><tr><td>135082</td><td>List(List(131, 2.5976725), List(136, 2.5803015), List(118, 2.2608716), List(103, 2.1784546), List(39, 2.0448174), List(100, 2.0394456), List(18, 1.9827367), List(75, 1.9519523), List(7, 1.9490435), List(25, 1.9411408))</td></tr><tr><td>135104</td><td>List(List(131, 1.1681756), List(136, 1.1603639), List(118, 1.016716), List(103, 0.979653), List(39, 0.9195562), List(100, 0.91714054), List(18, 0.89163846), List(75, 0.8777947), List(7, 0.87648666), List(25, 0.87293273))</td></tr><tr><td>132609</td><td>List(List(131, 1.8387759), List(136, 1.8264798), List(118, 1.6003697), List(103, 1.5420305), List(39, 1.4474347), List(100, 1.4436322), List(18, 1.4034905), List(75, 1.3816996), List(7, 1.3796406), List(25, 1.3740466))</td></tr><tr><td>135054</td><td>List(List(131, 2.5093846), List(136, 2.492604), List(118, 2.1840308), List(103, 2.104415), List(39, 1.9753196), List(100, 1.9701306), List(18, 1.915349), List(75, 1.8856108), List(7, 1.8828009), List(25, 1.8751668))</td></tr><tr><td>132869</td><td>List(List(131, 2.185149), List(136, 2.1705365), List(118, 1.9018337), List(103, 1.832505), List(39, 1.72009), List(100, 1.7155714), List(18, 1.6678681), List(75, 1.6419724), List(7, 1.6395255), List(25, 1.6328778))</td></tr><tr><td>135059</td><td>List(List(131, 2.5123641), List(136, 2.4955635), List(118, 2.1866238), List(103, 2.1069136), List(39, 1.977665), List(100, 1.9724697), List(18, 1.917623), List(75, 1.8878496), List(7, 1.8850363), List(25, 1.8773931))</td></tr><tr><td>135055</td><td>List(List(131, 2.95033), List(136, 2.930601), List(118, 2.5678055), List(103, 2.4741995), List(39, 2.32242), List(100, 2.316319), List(18, 2.2519112), List(75, 2.2169476), List(7, 2.213644), List(25, 2.2046683))</td></tr><tr><td>132958</td><td>List(List(131, 2.0588279), List(136, 2.0450602), List(118, 1.7918907), List(103, 1.7265698), List(39, 1.6206535), List(100, 1.6163961), List(18, 1.5714505), List(75, 1.5470518), List(7, 1.5447464), List(25, 1.5384829))</td></tr><tr><td>135028</td><td>List(List(131, 2.5537043), List(136, 2.5366273), List(118, 2.222604), List(103, 2.141582), List(39, 2.010207), List(100, 2.0049262), List(18, 1.9491769), List(75, 1.9189136), List(7, 1.916054), List(25, 1.908285))</td></tr><tr><td>132922</td><td>List(List(131, 3.113686), List(136, 3.0928645), List(118, 2.7099814), List(103, 2.611193), List(39, 2.4510095), List(100, 2.4445708), List(18, 2.3765967), List(75, 2.3396971), List(7, 2.3362105), List(25, 2.3267379))</td></tr><tr><td>135016</td><td>List(List(131, 2.2796116), List(136, 2.2643676), List(118, 1.984049), List(103, 1.9117231), List(39, 1.7944486), List(100, 1.7897346), List(18, 1.7399691), List(75, 1.712954), List(7, 1.7104014), List(25, 1.7034662))</td></tr><tr><td>132561</td><td>List(List(131, 1.5906136), List(136, 1.5799769), List(118, 1.3843827), List(103, 1.333917), List(39, 1.252088), List(100, 1.2487987), List(18, 1.2140745), List(75, 1.1952245), List(7, 1.1934434), List(25, 1.1886044))</td></tr><tr><td>135033</td><td>List(List(131, 1.7465829), List(136, 1.7349033), List(118, 1.5201299), List(103, 1.4647157), List(39, 1.3748628), List(100, 1.3712511), List(18, 1.3331219), List(75, 1.3124236), List(7, 1.3104678), List(25, 1.3051543))</td></tr><tr><td>135085</td><td>List(List(131, 2.549615), List(136, 2.5325654), List(118, 2.219045), List(103, 2.1381526), List(39, 2.0069878), List(100, 2.0017154), List(18, 1.9460557), List(75, 1.9158407), List(7, 1.9129858), List(25, 1.9052292))</td></tr><tr><td>134976</td><td>List(List(131, 2.4304073), List(136, 2.414155), List(118, 2.1152933), List(103, 2.0381832), List(39, 1.9131509), List(100, 1.908125), List(18, 1.8550676), List(75, 1.8262655), List(7, 1.8235439), List(25, 1.8161501))</td></tr><tr><td>132717</td><td>List(List(131, 2.533871), List(136, 2.5169265), List(118, 2.2053423), List(103, 2.1249495), List(39, 1.9945946), List(100, 1.9893548), List(18, 1.9340386), List(75, 1.9040103), List(7, 1.901173), List(25, 1.8934643))</td></tr><tr><td>132877</td><td>List(List(131, 2.0958765), List(136, 2.081861), List(118, 1.8241359), List(103, 1.7576395), List(39, 1.6498172), List(100, 1.6454833), List(18, 1.5997287), List(75, 1.574891), List(7, 1.5725441), List(25, 1.566168))</td></tr><tr><td>135013</td><td>List(List(131, 2.7616756), List(136, 2.743208), List(118, 2.403611), List(103, 2.3159904), List(39, 2.173916), List(100, 2.1682055), List(18, 2.107916), List(75, 2.0751882), List(7, 2.0720956), List(25, 2.063694))</td></tr><tr><td>135050</td><td>List(List(131, 1.7603443), List(136, 1.7485727), List(118, 1.5321071), List(103, 1.4762563), List(39, 1.3856955), List(100, 1.3820553), List(18, 1.3436257), List(75, 1.3227643), List(7, 1.320793), List(25, 1.3154377))</td></tr><tr><td>135058</td><td>List(List(131, 2.4068656), List(136, 2.3907707), List(118, 2.0948038), List(103, 2.0184405), List(39, 1.8946195), List(100, 1.8896424), List(18, 1.8370988), List(75, 1.8085756), List(7, 1.8058805), List(25, 1.7985582))</td></tr><tr><td>132847</td><td>List(List(131, 2.3177524), List(136, 2.3022532), List(118, 2.0172446), List(103, 1.9437087), List(39, 1.824472), List(100, 1.8196791), List(18, 1.769081), List(75, 1.7416139), List(7, 1.7390186), List(25, 1.7319673))</td></tr><tr><td>135074</td><td>List(List(131, 2.6815083), List(136, 2.6635766), List(118, 2.3338377), List(103, 2.248761), List(39, 2.1108108), List(100, 2.1052656), List(18, 2.0467265), List(75, 2.0149486), List(7, 2.011946), List(25, 2.0037882))</td></tr><tr><td>135047</td><td>List(List(131, 2.0518656), List(136, 2.0381444), List(118, 1.7858311), List(103, 1.7207311), List(39, 1.615173), List(100, 1.61093), List(18, 1.5661362), List(75, 1.5418202), List(7, 1.5395225), List(25, 1.5332803))</td></tr><tr><td>132564</td><td>List(List(131, 2.0560915), List(136, 2.0423424), List(118, 1.7895094), List(103, 1.7242752), List(39, 1.6184996), List(100, 1.6142479), List(18, 1.569362), List(75, 1.5449958), List(7, 1.5426934), List(25, 1.5364383))</td></tr><tr><td>134999</td><td>List(List(131, 2.544023), List(136, 2.527011), List(118, 2.214178), List(103, 2.1334631), List(39, 2.0025861), List(100, 1.9973253), List(18, 1.9417876), List(75, 1.911639), List(7, 1.9087902), List(25, 1.9010507))</td></tr><tr><td>135063</td><td>List(List(131, 2.3274364), List(136, 2.3118725), List(118, 2.025673), List(103, 1.9518298), List(39, 1.8320949), List(100, 1.8272821), List(18, 1.7764726), List(75, 1.7488906), List(7, 1.7462845), List(25, 1.7392038))</td></tr><tr><td>135038</td><td>List(List(131, 2.2408354), List(136, 2.2258506), List(118, 1.9503002), List(103, 1.8792046), List(39, 1.763925), List(100, 1.7592912), List(18, 1.7103722), List(75, 1.6838166), List(7, 1.6813074), List(25, 1.6744902))</td></tr><tr><td>135051</td><td>List(List(131, 2.430199), List(136, 2.4139478), List(118, 2.1151118), List(103, 2.0380082), List(39, 1.9129868), List(100, 1.9079614), List(18, 1.8549085), List(75, 1.8261087), List(7, 1.8233875), List(25, 1.8159943))</td></tr><tr><td>135065</td><td>List(List(131, 2.1605968), List(136, 2.1461487), List(118, 1.8804649), List(103, 1.8119152), List(39, 1.7007633), List(100, 1.6962955), List(18, 1.6491282), List(75, 1.6235235), List(7, 1.6211041), List(25, 1.614531))</td></tr><tr><td>132667</td><td>List(List(131, 2.5490596), List(136, 2.532014), List(118, 2.2185616), List(103, 2.137687), List(39, 2.0065508), List(100, 2.0012796), List(18, 1.9456319), List(75, 1.9154236), List(7, 1.9125693), List(25, 1.9048144))</td></tr><tr><td>132858</td><td>List(List(131, 1.8348774), List(136, 1.8226074), List(118, 1.5969766), List(103, 1.538761), List(39, 1.4443659), List(100, 1.4405715), List(18, 1.4005148), List(75, 1.3787702), List(7, 1.3767155), List(25, 1.3711334))</td></tr><tr><td>135088</td><td>List(List(131, 2.1871245), List(136, 2.172499), List(118, 1.9035531), List(103, 1.8341618), List(39, 1.7216452), List(100, 1.7171226), List(18, 1.669376), List(75, 1.6434569), List(7, 1.6410079), List(25, 1.6343541))</td></tr><tr><td>132613</td><td>List(List(131, 2.808662), List(136, 2.78988), List(118, 2.4445052), List(103, 2.3553941), List(39, 2.2109027), List(100, 2.2050948), List(18, 2.1437798), List(75, 2.1104949), List(7, 2.1073499), List(25, 2.0988052))</td></tr><tr><td>135044</td><td>List(List(131, 1.5470194), List(136, 1.5366743), List(118, 1.3464408), List(103, 1.2973582), List(39, 1.2177718), List(100, 1.2145728), List(18, 1.1808002), List(75, 1.1624669), List(7, 1.1607345), List(25, 1.1560282))</td></tr><tr><td>132825</td><td>List(List(131, 2.3512042), List(136, 2.3354814), List(118, 2.046359), List(103, 1.971762), List(39, 1.8508043), List(100, 1.8459423), List(18, 1.7946138), List(75, 1.7667503), List(7, 1.7641175), List(25, 1.7569646))</td></tr><tr><td>132866</td><td>List(List(131, 2.6622007), List(136, 2.6443982), List(118, 2.3170333), List(103, 2.2325692), List(39, 2.0956123), List(100, 2.0901072), List(18, 2.0319896), List(75, 2.0004404), List(7, 1.9974593), List(25, 1.9893602))</td></tr><tr><td>134987</td><td>List(List(131, 1.757116), List(136, 1.745366), List(118, 1.5292974), List(103, 1.4735489), List(39, 1.3831542), List(100, 1.3795207), List(18, 1.3411616), List(75, 1.3203384), List(7, 1.3183708), List(25, 1.3130252))</td></tr><tr><td>135018</td><td>List(List(131, 2.5773256), List(136, 2.5600908), List(118, 2.2431629), List(103, 2.1613913), List(39, 2.028801), List(100, 2.0234714), List(18, 1.9672065), List(75, 1.9366633), List(7, 1.9337772), List(25, 1.9259363))</td></tr><tr><td>132870</td><td>List(List(131, 1.1446605), List(136, 1.137006), List(118, 0.9962497), List(103, 0.9599328), List(39, 0.9010458), List(100, 0.8986787), List(18, 0.87369), List(75, 0.8601249), List(7, 0.85884315), List(25, 0.8553608))</td></tr><tr><td>132654</td><td>List(List(131, 0.4806521), List(136, 0.4774379), List(118, 0.41833323), List(103, 0.40308344), List(39, 0.37835634), List(100, 0.3773624), List(18, 0.36686942), List(75, 0.36117333), List(7, 0.3606351), List(25, 0.35917285))</td></tr><tr><td>135072</td><td>List(List(131, 2.3786345), List(136, 2.362728), List(118, 2.0702329), List(103, 1.9947654), List(39, 1.8723966), List(100, 1.8674779), List(18, 1.8155507), List(75, 1.787362), List(7, 1.7846985), List(25, 1.7774621))</td></tr><tr><td>132755</td><td>List(List(131, 2.8186865), List(136, 2.7998376), List(118, 2.4532301), List(103, 2.363801), List(39, 2.2187939), List(100, 2.212965), List(18, 2.151431), List(75, 2.1180277), List(7, 2.1148713), List(25, 2.106296))</td></tr><tr><td>134975</td><td>List(List(131, 2.5200932), List(136, 2.503241), List(118, 2.1933508), List(103, 2.1133952), List(39, 1.9837492), List(100, 1.9785379), List(18, 1.9235226), List(75, 1.8936574), List(7, 1.8908356), List(25, 1.8831688))</td></tr><tr><td>135032</td><td>List(List(131, 2.078354), List(136, 2.0644557), List(118, 1.8088852), List(103, 1.7429448), List(39, 1.636024), List(100, 1.6317261), List(18, 1.5863543), List(75, 1.5617242), List(7, 1.5593969), List(25, 1.553074))</td></tr><tr><td>132875</td><td>List(List(131, 3.0813162), List(136, 3.0607111), List(118, 2.6818085), List(103, 2.5840468), List(39, 2.4255288), List(100, 2.419157), List(18, 2.3518896), List(75, 2.3153737), List(7, 2.3119233), List(25, 2.3025491))</td></tr><tr><td>135064</td><td>List(List(131, 1.8870485), List(136, 1.8744296), List(118, 1.6423835), List(103, 1.5825126), List(39, 1.4854335), List(100, 1.4815314), List(18, 1.4403358), List(75, 1.4179728), List(7, 1.4158597), List(25, 1.4101188))</td></tr><tr><td>132560</td><td>List(List(131, 1.7218301), List(136, 1.7103161), List(118, 1.4985865), List(103, 1.4439576), List(39, 1.3553782), List(100, 1.3518176), List(18, 1.3142288), List(75, 1.2938238), List(7, 1.2918957), List(25, 1.2866576))</td></tr><tr><td>135069</td><td>List(List(131, 1.2905742), List(136, 1.281944), List(118, 1.123245), List(103, 1.0822986), List(39, 1.0159051), List(100, 1.0132364), List(18, 0.98506224), List(75, 0.9697679), List(7, 0.9683228), List(25, 0.96439654))</td></tr><tr><td>132834</td><td>List(List(131, 2.0384371), List(136, 2.024806), List(118, 1.7741439), List(103, 1.7094699), List(39, 1.6046026), List(100, 1.6003873), List(18, 1.5558869), List(75, 1.5317298), List(7, 1.5294473), List(25, 1.5232458))</td></tr><tr><td>132668</td><td>List(List(131, 1.8263967), List(136, 1.8141834), List(118, 1.5895954), List(103, 1.531649), List(39, 1.43769), List(100, 1.4339132), List(18, 1.3940418), List(75, 1.3723975), List(7, 1.3703524), List(25, 1.364796))</td></tr><tr><td>135080</td><td>List(List(131, 1.9330478), List(136, 1.9201213), List(118, 1.6824188), List(103, 1.6210885), List(39, 1.5216429), List(100, 1.5176456), List(18, 1.4754459), List(75, 1.4525378), List(7, 1.4503732), List(25, 1.4444923))</td></tr><tr><td>132583</td><td>List(List(131, 2.073401), List(136, 2.059536), List(118, 1.8045745), List(103, 1.7387912), List(39, 1.6321251), List(100, 1.6278377), List(18, 1.5825739), List(75, 1.5580025), List(7, 1.5556808), List(25, 1.5493729))</td></tr><tr><td>132851</td><td>List(List(131, 2.8223019), List(136, 2.803429), List(118, 2.4563768), List(103, 2.366833), List(39, 2.2216396), List(100, 2.2158036), List(18, 2.1541908), List(75, 2.1207442), List(7, 2.117584), List(25, 2.1089978))</td></tr><tr><td>132884</td><td>List(List(131, 1.1293986), List(136, 1.1218462), List(118, 0.98296654), List(103, 0.94713384), List(39, 0.889032), List(100, 0.8866965), List(18, 0.862041), List(75, 0.8486567), List(7, 0.8473921), List(25, 0.8439562))</td></tr><tr><td>132766</td><td>List(List(131, 1.8483287), List(136, 1.8359687), List(118, 1.608684), List(103, 1.5500416), List(39, 1.4549544), List(100, 1.4511323), List(18, 1.410782), List(75, 1.3888779), List(7, 1.3868082), List(25, 1.381185))</td></tr><tr><td>132854</td><td>List(List(131, 2.5498774), List(136, 2.532826), List(118, 2.2192733), List(103, 2.1383727), List(39, 2.0071945), List(100, 2.0019217), List(18, 1.9462559), List(75, 1.916038), List(7, 1.9131827), List(25, 1.9054253))</td></tr><tr><td>132845</td><td>List(List(131, 1.9331373), List(136, 1.9202101), List(118, 1.6824965), List(103, 1.6211635), List(39, 1.5217134), List(100, 1.5177158), List(18, 1.475514), List(75, 1.4526049), List(7, 1.4504403), List(25, 1.4445592))</td></tr><tr><td>132733</td><td>List(List(131, 2.921317), List(136, 2.901782), List(118, 2.5425541), List(103, 2.449869), List(39, 2.2995818), List(100, 2.2935407), List(18, 2.2297664), List(75, 2.1951466), List(7, 2.1918755), List(25, 2.1829882))</td></tr><tr><td>135041</td><td>List(List(131, 2.2755806), List(136, 2.2603636), List(118, 1.9805405), List(103, 1.9083426), List(39, 1.7912754), List(100, 1.7865698), List(18, 1.7368923), List(75, 1.7099249), List(7, 1.7073768), List(25, 1.7004539))</td></tr><tr><td>132660</td><td>List(List(131, 2.750443), List(136, 2.7320504), List(118, 2.3938346), List(103, 2.3065708), List(39, 2.165074), List(100, 2.1593866), List(18, 2.0993426), List(75, 2.0667477), List(7, 2.0636678), List(25, 2.0553002))</td></tr><tr><td>135034</td><td>List(List(131, 2.9579396), List(136, 2.9381597), List(118, 2.5744283), List(103, 2.480581), List(39, 2.3284101), List(100, 2.3222933), List(18, 2.2577195), List(75, 2.2226655), List(7, 2.2193534), List(25, 2.2103546))</td></tr><tr><td>135076</td><td>List(List(131, 2.3142018), List(136, 2.2987266), List(118, 2.0141544), List(103, 1.940731), List(39, 1.8216771), List(100, 1.8168916), List(18, 1.7663709), List(75, 1.7389458), List(7, 1.7363545), List(25, 1.7293141))</td></tr><tr><td>132584</td><td>List(List(131, 2.9656477), List(136, 2.945816), List(118, 2.5811372), List(103, 2.4870453), List(39, 2.3344777), List(100, 2.328345), List(18, 2.263603), List(75, 2.2284577), List(7, 2.2251368), List(25, 2.2161145))</td></tr><tr><td>132665</td><td>List(List(131, 2.589093), List(136, 2.5717793), List(118, 2.2534044), List(103, 2.1712596), List(39, 2.0380638), List(100, 2.0327098), List(18, 1.9761883), List(75, 1.9455055), List(7, 1.9426063), List(25, 1.9347297))</td></tr><tr><td>135070</td><td>List(List(131, 2.1805875), List(136, 2.1660056), List(118, 1.8978637), List(103, 1.8286797), List(39, 1.7164994), List(100, 1.7119902), List(18, 1.6643865), List(75, 1.6385449), List(7, 1.6361032), List(25, 1.6294693))</td></tr><tr><td>135042</td><td>List(List(131, 2.4178557), List(136, 2.4016874), List(118, 2.104369), List(103, 2.027657), List(39, 1.9032706), List(100, 1.8982707), List(18, 1.8454874), List(75, 1.8168339), List(7, 1.8141265), List(25, 1.8067707))</td></tr><tr><td>135001</td><td>List(List(131, 1.9609431), List(136, 1.9478301), List(118, 1.7066972), List(103, 1.644482), List(39, 1.5436013), List(100, 1.5395464), List(18, 1.4967376), List(75, 1.473499), List(7, 1.4713031), List(25, 1.4653374))</td></tr><tr><td>132594</td><td>List(List(131, 1.8696464), List(136, 1.8571439), List(118, 1.6272377), List(103, 1.567919), List(39, 1.4717351), List(100, 1.4678688), List(18, 1.4270532), List(75, 1.4048964), List(7, 1.4028028), List(25, 1.397115))</td></tr><tr><td>134996</td><td>List(List(131, 2.7310185), List(136, 2.712756), List(118, 2.3769286), List(103, 2.290281), List(39, 2.1497838), List(100, 2.1441364), List(18, 2.0845163), List(75, 2.0521517), List(7, 2.0490937), List(25, 2.0407853))</td></tr><tr><td>132768</td><td>List(List(131, 3.075559), List(136, 3.0549922), List(118, 2.6767976), List(103, 2.5792186), List(39, 2.4209967), List(100, 2.4146369), List(18, 2.3474953), List(75, 2.3110476), List(7, 2.3076036), List(25, 2.298247))</td></tr><tr><td>135043</td><td>List(List(131, 1.6858746), List(136, 1.6746008), List(118, 1.4672927), List(103, 1.4138045), List(39, 1.3270748), List(100, 1.3235886), List(18, 1.2867848), List(75, 1.2668059), List(7, 1.2649181), List(25, 1.2597892))</td></tr><tr><td>135021</td><td>List(List(131, 1.7642277), List(136, 1.7524302), List(118, 1.535487), List(103, 1.4795129), List(39, 1.3887523), List(100, 1.3851042), List(18, 1.3465898), List(75, 1.3256824), List(7, 1.3237069), List(25, 1.3183396))</td></tr></tbody></table></div>"
      ]
     },
     "metadata": {},
     "output_type": "display_data"
    }
   ],
   "source": [
    "itemRecommendations = model.bestModel.recommendForAllItems(10)\n",
    "display(itemRecommendations)"
   ]
  },
  {
   "cell_type": "code",
   "execution_count": 67,
   "metadata": {},
   "outputs": [
    {
     "data": {
      "text/html": [
       "<div style=\"max-width:1500px;overflow:auto;\">\n",
       "<table border=\"1\" class=\"dataframe\">\n",
       "  <thead>\n",
       "    <tr style=\"text-align: right;\">\n",
       "      <th></th>\n",
       "      <th>placeID</th>\n",
       "      <th>userIdIndex</th>\n",
       "      <th>Rating</th>\n",
       "    </tr>\n",
       "  </thead>\n",
       "  <tbody>\n",
       "    <tr>\n",
       "      <th>0</th>\n",
       "      <td>135000</td>\n",
       "      <td>131</td>\n",
       "      <td>2.0</td>\n",
       "    </tr>\n",
       "    <tr>\n",
       "      <th>1</th>\n",
       "      <td>135000</td>\n",
       "      <td>136</td>\n",
       "      <td>2.0</td>\n",
       "    </tr>\n",
       "    <tr>\n",
       "      <th>2</th>\n",
       "      <td>135000</td>\n",
       "      <td>118</td>\n",
       "      <td>2.0</td>\n",
       "    </tr>\n",
       "    <tr>\n",
       "      <th>3</th>\n",
       "      <td>135000</td>\n",
       "      <td>103</td>\n",
       "      <td>2.0</td>\n",
       "    </tr>\n",
       "    <tr>\n",
       "      <th>4</th>\n",
       "      <td>135000</td>\n",
       "      <td>39</td>\n",
       "      <td>2.0</td>\n",
       "    </tr>\n",
       "  </tbody>\n",
       "</table>\n",
       "</div>"
      ]
     },
     "metadata": {},
     "output_type": "display_data"
    }
   ],
   "source": [
    "itemRecommendations = itemRecommendations.withColumn(\"recommendations\", F.explode(itemRecommendations.recommendations)).toPandas()\n",
    "df = pd.DataFrame(itemRecommendations['recommendations'].tolist(), index=itemRecommendations.index, columns=['userIdIndex', 'Rating'])\n",
    "itemRecommendations = pd.concat([itemRecommendations, df], axis=1)\n",
    "itemRecommendations.drop(['recommendations'], axis=1, inplace=True)\n",
    "itemRecommendations.Rating = itemRecommendations.Rating.round(0)\n",
    "itemRecommendations.head()"
   ]
  },
  {
   "cell_type": "code",
   "execution_count": 68,
   "metadata": {},
   "outputs": [
    {
     "data": {
      "text/html": [
       "<style scoped>\n",
       "  .table-result-container {\n",
       "    max-height: 300px;\n",
       "    overflow: auto;\n",
       "  }\n",
       "  table, th, td {\n",
       "    border: 1px solid black;\n",
       "    border-collapse: collapse;\n",
       "  }\n",
       "  th, td {\n",
       "    padding: 5px;\n",
       "  }\n",
       "  th {\n",
       "    text-align: left;\n",
       "  }\n",
       "</style><div class='table-result-container'><table class='table-result'><thead style='background-color: white'><tr><th>placeID</th><th>userIdIndex</th><th>Rating</th></tr></thead><tbody><tr><td>135000</td><td>131</td><td>2.0</td></tr><tr><td>135000</td><td>136</td><td>2.0</td></tr><tr><td>135000</td><td>118</td><td>2.0</td></tr><tr><td>135000</td><td>103</td><td>2.0</td></tr><tr><td>135000</td><td>39</td><td>2.0</td></tr></tbody></table></div>"
      ]
     },
     "metadata": {},
     "output_type": "display_data"
    }
   ],
   "source": [
    "from pyspark.sql import SQLContext\n",
    "sqlCtx = SQLContext(sc)\n",
    "itemRecommendations = sqlCtx.createDataFrame(itemRecommendations)\n",
    "display(itemRecommendations.head(5))"
   ]
  },
  {
   "cell_type": "code",
   "execution_count": 69,
   "metadata": {},
   "outputs": [
    {
     "data": {
      "text/html": [
       "<style scoped>\n",
       "  .table-result-container {\n",
       "    max-height: 300px;\n",
       "    overflow: auto;\n",
       "  }\n",
       "  table, th, td {\n",
       "    border: 1px solid black;\n",
       "    border-collapse: collapse;\n",
       "  }\n",
       "  th, td {\n",
       "    padding: 5px;\n",
       "  }\n",
       "  th {\n",
       "    text-align: left;\n",
       "  }\n",
       "</style><div class='table-result-container'><table class='table-result'><thead style='background-color: white'><tr><th>placeID</th><th>Rating</th><th>userID</th></tr></thead><tbody><tr><td>135000</td><td>2.0</td><td>U1021</td></tr><tr><td>135000</td><td>2.0</td><td>U1074</td></tr><tr><td>135000</td><td>2.0</td><td>U1127</td></tr><tr><td>135000</td><td>2.0</td><td>U1102</td></tr><tr><td>135000</td><td>2.0</td><td>U1055</td></tr></tbody></table></div>"
      ]
     },
     "metadata": {},
     "output_type": "display_data"
    }
   ],
   "source": [
    "itemRecommendations = IndexToString(inputCol=\"userIdIndex\", outputCol=\"userID\", \n",
    "                                    labels=userIdIndexer.labels\n",
    "                                   ).transform(itemRecommendations).drop(\"userIdIndex\")\n",
    "display(itemRecommendations.head(5))"
   ]
  },
  {
   "cell_type": "code",
   "execution_count": 70,
   "metadata": {},
   "outputs": [
    {
     "data": {
      "text/html": [
       "<div style=\"max-width:1500px;overflow:auto;\">\n",
       "<table border=\"1\" class=\"dataframe\">\n",
       "  <thead>\n",
       "    <tr style=\"text-align: right;\">\n",
       "      <th></th>\n",
       "      <th>placeID</th>\n",
       "      <th>Rating</th>\n",
       "      <th>userID</th>\n",
       "    </tr>\n",
       "  </thead>\n",
       "  <tbody>\n",
       "    <tr>\n",
       "      <th>0</th>\n",
       "      <td>135000</td>\n",
       "      <td>2.0</td>\n",
       "      <td>U1021</td>\n",
       "    </tr>\n",
       "    <tr>\n",
       "      <th>1</th>\n",
       "      <td>135000</td>\n",
       "      <td>2.0</td>\n",
       "      <td>U1074</td>\n",
       "    </tr>\n",
       "    <tr>\n",
       "      <th>2</th>\n",
       "      <td>135000</td>\n",
       "      <td>2.0</td>\n",
       "      <td>U1127</td>\n",
       "    </tr>\n",
       "    <tr>\n",
       "      <th>3</th>\n",
       "      <td>135000</td>\n",
       "      <td>2.0</td>\n",
       "      <td>U1102</td>\n",
       "    </tr>\n",
       "    <tr>\n",
       "      <th>4</th>\n",
       "      <td>135000</td>\n",
       "      <td>2.0</td>\n",
       "      <td>U1055</td>\n",
       "    </tr>\n",
       "  </tbody>\n",
       "</table>\n",
       "</div>"
      ]
     },
     "metadata": {},
     "output_type": "display_data"
    }
   ],
   "source": [
    "itemRecommendations = itemRecommendations.toPandas()\n",
    "itemRecommendations.head()"
   ]
  }
 ],
 "metadata": {
  "kernelspec": {
   "display_name": "Python 3",
   "language": "python",
   "name": "python3"
  },
  "language_info": {
   "codemirror_mode": {
    "name": "ipython",
    "version": 3
   },
   "file_extension": ".py",
   "mimetype": "text/x-python",
   "name": "python",
   "nbconvert_exporter": "python",
   "pygments_lexer": "ipython3",
   "version": "3.7.6"
  },
  "name": "Projet_Reco_Yelp",
  "notebookId": 198692957276405
 },
 "nbformat": 4,
 "nbformat_minor": 1
}
